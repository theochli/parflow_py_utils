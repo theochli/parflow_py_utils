{
 "cells": [
  {
   "cell_type": "markdown",
   "metadata": {},
   "source": [
    "# Automate scenario runs\n",
    "\n",
    "The process involves:\n",
    "1. running a scenario-specific spinup, initialized with `spin3.out.press.pfb` using `scen_spin.tcl` (this will simulate 5 years of 2010 meteorological forcing\n",
    "2. Running the variable dz subsurface post processing script (python with fortran module, which needs to be installed using: `f2py -c -m postproc scale_pfb.f pfb_read.f writepfb.f` and has dependencies: `scale_pfb.f pfb_read.f writepfb.f`) Need to confirm that subsurface storage is changing by less than 1% between years 4 and 5.\n",
    "3. Use the last pfb file `slopes_only.out.press.43805.pfb` as the input `spin4.out.press.pfb` (save this in each scen's directory) to the one year simulation\n",
    "4. Remove all spinup run files to make space\n",
    "5. Run the 1-year simulation using `scen_run.tcl`\n",
    "6. Run the full water balance script using `postproc` f2py module. Save the csv dataframe in outputs directory.\n",
    "7. Remove all run files."
   ]
  },
  {
   "cell_type": "code",
   "execution_count": 1,
   "metadata": {},
   "outputs": [],
   "source": [
    "import subprocess\n",
    "import glob\n",
    "import os\n",
    "import shutil\n",
    "import time\n",
    "\n",
    "from postproc import scale_pfb\n",
    "import pandas as pd\n",
    "from io import StringIO\n",
    "import itertools\n",
    "\n",
    "%matplotlib inline"
   ]
  },
  {
   "cell_type": "code",
   "execution_count": 29,
   "metadata": {},
   "outputs": [
    {
     "data": {
      "text/plain": [
       "'/home/tclim'"
      ]
     },
     "execution_count": 29,
     "metadata": {},
     "output_type": "execute_result"
    }
   ],
   "source": [
    "homedir = os.path.expanduser(\"~\")\n",
    "homedir"
   ]
  },
  {
   "cell_type": "code",
   "execution_count": 9,
   "metadata": {},
   "outputs": [],
   "source": [
    "scendir_base = '/home/tclim/Dropbox/projects/pf_simple/00preproc/01subsurf_scen'"
   ]
  },
  {
   "cell_type": "markdown",
   "metadata": {},
   "source": [
    "# Copy scenario subsurface inputs into run directory"
   ]
  },
  {
   "cell_type": "code",
   "execution_count": 4,
   "metadata": {},
   "outputs": [],
   "source": [
    "scen = 'scen000'"
   ]
  },
  {
   "cell_type": "code",
   "execution_count": 12,
   "metadata": {
    "scrolled": true
   },
   "outputs": [
    {
     "name": "stdout",
     "output_type": "stream",
     "text": [
      "/home/tclim/Dropbox/projects/pf_simple/00preproc/01subsurf_scen/scen000/mann_scen.pfb\n",
      "/home/tclim/Dropbox/projects/pf_simple/00preproc/01subsurf_scen/scen000/perm_scen.pfb\n",
      "/home/tclim/Dropbox/projects/pf_simple/00preproc/01subsurf_scen/scen000/ind_scen.pfb\n"
     ]
    },
    {
     "data": {
      "text/plain": [
       "[None, None, None]"
      ]
     },
     "execution_count": 12,
     "metadata": {},
     "output_type": "execute_result"
    }
   ],
   "source": [
    "[print (f) for f in glob.glob('%s/%s/*' %(scendir_base, scen))]\n"
   ]
  },
  {
   "cell_type": "code",
   "execution_count": 10,
   "metadata": {},
   "outputs": [
    {
     "data": {
      "text/plain": [
       "'/home/tclim/Dropbox/projects/pf_simple/00preproc/01subsurf_scen/scen000/*'"
      ]
     },
     "execution_count": 10,
     "metadata": {},
     "output_type": "execute_result"
    }
   ],
   "source": [
    "'%s/%s/*' %(scendir_base, scen)"
   ]
  },
  {
   "cell_type": "code",
   "execution_count": 15,
   "metadata": {},
   "outputs": [
    {
     "data": {
      "text/plain": [
       "'./perm_scen.pfb'"
      ]
     },
     "execution_count": 15,
     "metadata": {},
     "output_type": "execute_result"
    }
   ],
   "source": [
    "shutil.copy2('%s/%s/mann_scen.pfb' %(scendir_base, scen), '.')\n",
    "shutil.copy2('%s/%s/ind_scen.pfb' %(scendir_base, scen), '.')\n",
    "shutil.copy2('%s/%s/perm_scen.pfb' %(scendir_base, scen), '.')"
   ]
  },
  {
   "cell_type": "markdown",
   "metadata": {},
   "source": [
    "# Run Scenario-specific spinup"
   ]
  },
  {
   "cell_type": "code",
   "execution_count": 22,
   "metadata": {},
   "outputs": [
    {
     "name": "stdout",
     "output_type": "stream",
     "text": [
      "Time Elapsed:  0.6267449855804443 s\n"
     ]
    }
   ],
   "source": [
    "start = time.time()\n",
    "bashCommand = \"tclsh scen_spin.tcl\"\n",
    "process = subprocess.Popen(bashCommand.split(), stdout=subprocess.PIPE)\n",
    "output, error = process.communicate()\n",
    "end = time.time()\n",
    "print('Time Elapsed:  %s s' %(end - start))"
   ]
  },
  {
   "cell_type": "code",
   "execution_count": 23,
   "metadata": {},
   "outputs": [
    {
     "name": "stdout",
     "output_type": "stream",
     "text": [
      "\n",
      "ParFlow run complete\n",
      "Using process grid (1,1,1)\n",
      "Using process grid (1,1,1)\n",
      "Using process grid (1,1,1)\n",
      "Using process grid (1,1,1)\n",
      "\n"
     ]
    }
   ],
   "source": [
    "print(output.decode(\"utf-8\").format())"
   ]
  },
  {
   "cell_type": "markdown",
   "metadata": {},
   "source": [
    "# Calculate vdz_subsurf storage"
   ]
  },
  {
   "cell_type": "code",
   "execution_count": 66,
   "metadata": {},
   "outputs": [
    {
     "name": "stdout",
     "output_type": "stream",
     "text": [
      "Time Elapsed:  0.024671077728271484 s\n"
     ]
    }
   ],
   "source": []
  },
  {
   "cell_type": "code",
   "execution_count": null,
   "metadata": {},
   "outputs": [],
   "source": []
  }
 ],
 "metadata": {
  "kernelspec": {
   "display_name": "Python 3",
   "language": "python",
   "name": "python3"
  },
  "language_info": {
   "codemirror_mode": {
    "name": "ipython",
    "version": 3
   },
   "file_extension": ".py",
   "mimetype": "text/x-python",
   "name": "python",
   "nbconvert_exporter": "python",
   "pygments_lexer": "ipython3",
   "version": "3.7.1"
  }
 },
 "nbformat": 4,
 "nbformat_minor": 2
}
