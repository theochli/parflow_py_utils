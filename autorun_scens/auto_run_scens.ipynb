{
 "cells": [
  {
   "cell_type": "markdown",
   "metadata": {},
   "source": [
    "# Automate scenario runs\n",
    "\n",
    "The process involves:\n",
    "1. running a scenario-specific spinup, initialized with `spin3.out.press.pfb` using `scen_spin.tcl` (this will simulate 5 years of 2010 meteorological forcing\n",
    "2. Running the variable dz subsurface post processing script (python with fortran module, which needs to be installed using: `f2py -c -m postproc scale_pfb.f pfb_read.f writepfb.f` and has dependencies: `scale_pfb.f pfb_read.f writepfb.f`) Need to confirm that subsurface storage is changing by less than 1% between years 4 and 5.\n",
    "3. Use the last pfb file `slopes_only.out.press.43805.pfb` as the input `spin4.out.press.pfb` (save this in each scen's directory) to the one year simulation\n",
    "4. Remove all spinup run files to make space\n",
    "5. Run the 1-year simulation using `scen_run.tcl`\n",
    "6. Run the full water balance script using `postproc` f2py module. Save the csv dataframe in outputs directory.\n",
    "7. Remove all run files."
   ]
  },
  {
   "cell_type": "code",
   "execution_count": 23,
   "metadata": {},
   "outputs": [],
   "source": [
    "import subprocess\n",
    "import glob\n",
    "import os\n",
    "import shutil\n",
    "import time\n",
    "\n",
    "from postproc import scale_pfb\n",
    "import pandas as pd\n",
    "from io import StringIO\n",
    "import itertools\n",
    "import numpy as np\n",
    "from shlex import split\n",
    "\n",
    "%matplotlib inline"
   ]
  },
  {
   "cell_type": "code",
   "execution_count": 19,
   "metadata": {},
   "outputs": [],
   "source": [
    "# the directory that contains all the subdirectories for each scenario\n",
    "#scendir_base = '/home/tclim/Dropbox/projects/pf_simple/00preproc/01subsurf_scen'\n",
    "scendir_base = '/home/theo/pf_files/pf_machine/scenarios/scens_inputs_subsurf'\n",
    "clm_inputs_dir = '/home/theo/pf_files/pf_machine/scenarios/scens_inputs_clm'"
   ]
  },
  {
   "cell_type": "markdown",
   "metadata": {},
   "source": [
    "# Copy scenario subsurface inputs into run directory"
   ]
  },
  {
   "cell_type": "code",
   "execution_count": 17,
   "metadata": {},
   "outputs": [],
   "source": [
    "scen = 'scen000'"
   ]
  },
  {
   "cell_type": "code",
   "execution_count": 8,
   "metadata": {
    "scrolled": true
   },
   "outputs": [
    {
     "name": "stdout",
     "output_type": "stream",
     "text": [
      "/home/theo/pf_files/pf_machine/scenarios/scens_inputs_subsurf/scen000/mann_scen.pfb\n",
      "/home/theo/pf_files/pf_machine/scenarios/scens_inputs_subsurf/scen000/perm_scen.pfb\n",
      "/home/theo/pf_files/pf_machine/scenarios/scens_inputs_subsurf/scen000/ind_scen.pfb\n"
     ]
    },
    {
     "data": {
      "text/plain": [
       "[None, None, None]"
      ]
     },
     "execution_count": 8,
     "metadata": {},
     "output_type": "execute_result"
    }
   ],
   "source": [
    "[print (f) for f in glob.glob('%s/%s/*' %(scendir_base, scen))]\n"
   ]
  },
  {
   "cell_type": "code",
   "execution_count": 9,
   "metadata": {},
   "outputs": [
    {
     "data": {
      "text/plain": [
       "'/home/theo/pf_files/pf_machine/scenarios/scens_inputs_subsurf/scen000/*'"
      ]
     },
     "execution_count": 9,
     "metadata": {},
     "output_type": "execute_result"
    }
   ],
   "source": [
    "'%s/%s/*' %(scendir_base, scen)"
   ]
  },
  {
   "cell_type": "code",
   "execution_count": 19,
   "metadata": {
    "scrolled": true
   },
   "outputs": [
    {
     "data": {
      "text/plain": [
       "'./perm_scen.pfb'"
      ]
     },
     "execution_count": 19,
     "metadata": {},
     "output_type": "execute_result"
    }
   ],
   "source": [
    "shutil.copy2('%s/%s/mann_scen.pfb' %(scendir_base, scen), '.')\n",
    "shutil.copy2('%s/%s/ind_scen.pfb' %(scendir_base, scen), '.')\n",
    "shutil.copy2('%s/%s/perm_scen.pfb' %(scendir_base, scen), '.')"
   ]
  },
  {
   "cell_type": "markdown",
   "metadata": {},
   "source": [
    "## Copy CLM files into run directory "
   ]
  },
  {
   "cell_type": "code",
   "execution_count": 20,
   "metadata": {},
   "outputs": [
    {
     "data": {
      "text/plain": [
       "'./drv_vegp.dat'"
      ]
     },
     "execution_count": 20,
     "metadata": {},
     "output_type": "execute_result"
    }
   ],
   "source": [
    "shutil.copy2('%s/dauphco.nldas.10yr.txt' %clm_inputs_dir, '.')\n",
    "shutil.copy2('%s/drv_clmin.dat' %clm_inputs_dir, '.')\n",
    "shutil.copy2('%s/drv_vegm.dat' %clm_inputs_dir, '.')\n",
    "shutil.copy2('%s/drv_vegp.dat' %clm_inputs_dir, '.')  ## HAVE TO CHANGE INPUTS!!"
   ]
  },
  {
   "cell_type": "markdown",
   "metadata": {},
   "source": [
    "# Run Scenario-specific spinup"
   ]
  },
  {
   "cell_type": "code",
   "execution_count": 21,
   "metadata": {},
   "outputs": [
    {
     "name": "stdout",
     "output_type": "stream",
     "text": [
      "Time Elapsed:  3505.763441324234 s\n"
     ]
    }
   ],
   "source": [
    "start = time.time()\n",
    "bashCommand = \"tclsh scen_spin.tcl\"\n",
    "process = subprocess.Popen(bashCommand.split(), stdout=subprocess.PIPE)\n",
    "output, error = process.communicate()\n",
    "end = time.time()\n",
    "print('Time Elapsed:  %s s' %(end - start))"
   ]
  },
  {
   "cell_type": "code",
   "execution_count": 22,
   "metadata": {},
   "outputs": [
    {
     "name": "stdout",
     "output_type": "stream",
     "text": [
      "\n",
      "\n",
      "\n",
      "\n",
      "\n",
      "ParFlow run complete\n",
      "Using process grid (1,1,1)\n",
      "Using process grid (1,1,1)\n",
      "Using process grid (1,1,1)\n",
      "Using process grid (1,1,1)\n",
      "\n"
     ]
    }
   ],
   "source": [
    "print(output.decode(\"utf-8\").format())"
   ]
  },
  {
   "cell_type": "markdown",
   "metadata": {},
   "source": [
    "# Calculate vdz_subsurf storage"
   ]
  },
  {
   "cell_type": "code",
   "execution_count": 5,
   "metadata": {},
   "outputs": [],
   "source": [
    "rundir = '/home/theo/pf_files/pf_machine/scenarios/rundir'\n",
    "cur_stop = 43805 # five years of scenario-specific spinup"
   ]
  },
  {
   "cell_type": "code",
   "execution_count": 8,
   "metadata": {},
   "outputs": [
    {
     "name": "stdout",
     "output_type": "stream",
     "text": [
      "b''\n",
      "None\n"
     ]
    }
   ],
   "source": [
    "# create silos needed for subsurf stor\n",
    "bashCommand = \"tclsh write_subsurf_silos.tcl %s %s %s %s\" %(rundir,'slopes_only',0,cur_stop)\n",
    "process = subprocess.Popen(bashCommand.split(), stdout=subprocess.PIPE)\n",
    "output, error = process.communicate()\n",
    "print(output)\n",
    "print(error)"
   ]
  },
  {
   "cell_type": "code",
   "execution_count": 6,
   "metadata": {},
   "outputs": [],
   "source": [
    "def silo2pfb(rundir, bnam, start, stop, fw=0):\n",
    "    '''\n",
    "    Converts a timeseries of silo output to pfb format\n",
    "    (saves converted pfbs to same directory)\n",
    "    \n",
    "    bnam     the basename of the files (everything up to the iterating index)\n",
    "    start    start number of file indexing\n",
    "    end      end number of file indexing\n",
    "    fw       fixed width = 0 for non-fixed width iterating index, \n",
    "             fixed width = 1 for fixed width (assumed width is 5) index.\n",
    "    '''\n",
    "    bashCommand = \"tclsh silotopfb_iter_bnam.tcl %s %s %s %s %s\" %(rundir, bnam,start,stop, fw)\n",
    "    process = subprocess.Popen(bashCommand.split(), stdout=subprocess.PIPE)\n",
    "    output, error = process.communicate()\n",
    "    print(output)\n",
    "    print(error)\n",
    "    \n",
    "    # if fw =1, rename the output files to remove $runname.out\n",
    "    if fw:\n",
    "        print(\"renaming output pfb files\")\n",
    "        newbnam = bnam.split(\".\")[-1]\n",
    "        \n",
    "        for i in range(start, stop+1):\n",
    "            ofnam = \"%s/%s.%s.pfb\" %(rundir,bnam,i)\n",
    "            nfnam = \"%s/%s.%s.pfb\" %(rundir,newbnam,i)\n",
    "            os.rename(ofnam, nfnam)\n",
    "\n",
    "def sumoverdomain(rundir, bnam, start, stop):\n",
    "    '''\n",
    "    Sums over the entire domain for an input pfb file,\n",
    "    returns a dataframe with columns for t and the sum values\n",
    "    \n",
    "    bnam    the base name of the files to sum\n",
    "    start   the start number of file indexing\n",
    "    end     the end number of file indexing\n",
    "    '''\n",
    "    bashCommand = \"tclsh sum_domain_bnam.tcl %s %s %s %s\" %(rundir, bnam,start,stop)\n",
    "    process = subprocess.Popen(bashCommand.split(), stdout=subprocess.PIPE)\n",
    "    output, error = process.communicate()\n",
    "\n",
    "    # Save the output to a dataframe\n",
    "    output = output.decode(\"utf-8\").format()\n",
    "    df = pd.read_csv(StringIO(output), sep=\"\\t\", header = None)\n",
    "    df.columns = ['t','sum_val']  # add a header (column name)\n",
    "    \n",
    "    # return\n",
    "    return(df)"
   ]
  },
  {
   "cell_type": "code",
   "execution_count": 7,
   "metadata": {},
   "outputs": [],
   "source": [
    "factors = np.array([[2.0],  # <- bottom\n",
    "                    [2.0],\n",
    "                    [2.0],\n",
    "                    [1.0],\n",
    "                    [1.0],\n",
    "                    [1.0],\n",
    "                    [0.25],\n",
    "                    [0.25],\n",
    "                    [0.25],\n",
    "                    [0.25]]) # <- top"
   ]
  },
  {
   "cell_type": "code",
   "execution_count": 11,
   "metadata": {},
   "outputs": [
    {
     "name": "stdout",
     "output_type": "stream",
     "text": [
      "b''\n",
      "None\n"
     ]
    }
   ],
   "source": [
    "\n",
    "# convert silos to pfbs\n",
    "silo2pfb(rundir = rundir, bnam ='subsurface_storage' , start= 0, stop=cur_stop)\n",
    "\n",
    "\n"
   ]
  },
  {
   "cell_type": "code",
   "execution_count": 8,
   "metadata": {},
   "outputs": [
    {
     "data": {
      "text/html": [
       "<div>\n",
       "<style scoped>\n",
       "    .dataframe tbody tr th:only-of-type {\n",
       "        vertical-align: middle;\n",
       "    }\n",
       "\n",
       "    .dataframe tbody tr th {\n",
       "        vertical-align: top;\n",
       "    }\n",
       "\n",
       "    .dataframe thead th {\n",
       "        text-align: right;\n",
       "    }\n",
       "</style>\n",
       "<table border=\"1\" class=\"dataframe\">\n",
       "  <thead>\n",
       "    <tr style=\"text-align: right;\">\n",
       "      <th></th>\n",
       "      <th>t</th>\n",
       "      <th>sum_val</th>\n",
       "    </tr>\n",
       "  </thead>\n",
       "  <tbody>\n",
       "    <tr>\n",
       "      <th>0</th>\n",
       "      <td>0</td>\n",
       "      <td>3.261884e+06</td>\n",
       "    </tr>\n",
       "    <tr>\n",
       "      <th>1</th>\n",
       "      <td>1</td>\n",
       "      <td>3.262281e+06</td>\n",
       "    </tr>\n",
       "    <tr>\n",
       "      <th>2</th>\n",
       "      <td>2</td>\n",
       "      <td>3.262579e+06</td>\n",
       "    </tr>\n",
       "    <tr>\n",
       "      <th>3</th>\n",
       "      <td>3</td>\n",
       "      <td>3.262966e+06</td>\n",
       "    </tr>\n",
       "    <tr>\n",
       "      <th>4</th>\n",
       "      <td>4</td>\n",
       "      <td>3.263003e+06</td>\n",
       "    </tr>\n",
       "    <tr>\n",
       "      <th>5</th>\n",
       "      <td>5</td>\n",
       "      <td>3.263001e+06</td>\n",
       "    </tr>\n",
       "    <tr>\n",
       "      <th>6</th>\n",
       "      <td>6</td>\n",
       "      <td>3.262908e+06</td>\n",
       "    </tr>\n",
       "    <tr>\n",
       "      <th>7</th>\n",
       "      <td>7</td>\n",
       "      <td>3.262781e+06</td>\n",
       "    </tr>\n",
       "    <tr>\n",
       "      <th>8</th>\n",
       "      <td>8</td>\n",
       "      <td>3.262654e+06</td>\n",
       "    </tr>\n",
       "    <tr>\n",
       "      <th>9</th>\n",
       "      <td>9</td>\n",
       "      <td>3.262527e+06</td>\n",
       "    </tr>\n",
       "  </tbody>\n",
       "</table>\n",
       "</div>"
      ],
      "text/plain": [
       "   t       sum_val\n",
       "0  0  3.261884e+06\n",
       "1  1  3.262281e+06\n",
       "2  2  3.262579e+06\n",
       "3  3  3.262966e+06\n",
       "4  4  3.263003e+06\n",
       "5  5  3.263001e+06\n",
       "6  6  3.262908e+06\n",
       "7  7  3.262781e+06\n",
       "8  8  3.262654e+06\n",
       "9  9  3.262527e+06"
      ]
     },
     "execution_count": 8,
     "metadata": {},
     "output_type": "execute_result"
    }
   ],
   "source": [
    "# scale pfbs using factors\n",
    "for i in range(0,cur_stop+1):\n",
    "    infnam = '%s/subsurface_storage.%s.pfb' %(rundir, i)\n",
    "    outfnam = '%s/vdz_subsurface_storage.%s.pfb' %(rundir,i)\n",
    "    \n",
    "    scale_pfb(pfbinfnam = infnam, vdzarr = factors, pfboutfnam = outfnam, \n",
    "         nx = 12, ny = 10, dx = 10, dy = 10, dz = 1)\n",
    "    \n",
    "ss = sumoverdomain(rundir = rundir,\n",
    "                   bnam = 'vdz_subsurface_storage',start = 0, stop= cur_stop)\n",
    "ss.head(10)\n"
   ]
  },
  {
   "cell_type": "markdown",
   "metadata": {},
   "source": [
    "### Check each year's volume pc change"
   ]
  },
  {
   "cell_type": "code",
   "execution_count": 15,
   "metadata": {},
   "outputs": [
    {
     "data": {
      "text/plain": [
       "0             NaN\n",
       "8610     0.010764\n",
       "17220    0.012395\n",
       "25830    0.007813\n",
       "34440    0.002453\n",
       "43050   -0.004638\n",
       "Name: sum_val, dtype: float64"
      ]
     },
     "execution_count": 15,
     "metadata": {},
     "output_type": "execute_result"
    }
   ],
   "source": [
    "ss['sum_val'][list(np.multiply(8610, [0,1,2,3,4,5]))].pct_change()"
   ]
  },
  {
   "cell_type": "markdown",
   "metadata": {},
   "source": [
    "# Save and rename the last pressure file\n",
    "Put it in the scenario directory"
   ]
  },
  {
   "cell_type": "code",
   "execution_count": 20,
   "metadata": {},
   "outputs": [
    {
     "data": {
      "text/plain": [
       "'/home/theo/pf_files/pf_machine/scenarios/scens_inputs_subsurf/scen000/mann_scen.pfb'"
      ]
     },
     "execution_count": 20,
     "metadata": {},
     "output_type": "execute_result"
    }
   ],
   "source": [
    "'%s/%s/spin4.out.press.pfb' %(scendir_base, scen)"
   ]
  },
  {
   "cell_type": "code",
   "execution_count": 21,
   "metadata": {},
   "outputs": [],
   "source": [
    "os.rename('slopes_only.out.press.43805.pfb', '%s/%s/spin4.out.press.pfb' %(scendir_base, scen))"
   ]
  },
  {
   "cell_type": "markdown",
   "metadata": {},
   "source": [
    "# Remove memory-eating runtime files\n",
    "\n",
    "This is the bash script:\n",
    "\n",
    "```\n",
    "find . -name \"slopes_only*\" -print0 | xargs -0 rm\n",
    "find . -name \"*silo\" -print0 | xargs -0 rm\n",
    "find . -name \"*pfb\" -print0 | xargs -0 rm\n",
    "rm gp*\n",
    "```"
   ]
  },
  {
   "cell_type": "code",
   "execution_count": 25,
   "metadata": {},
   "outputs": [
    {
     "name": "stdout",
     "output_type": "stream",
     "text": [
      "Removed slopes_only*\n",
      "Time Elapsed:  0.02194666862487793 s\n"
     ]
    }
   ],
   "source": [
    "start = time.time()\n",
    "p1 = subprocess.Popen(split('find . -name \"slopes_only*\" -print0'), stdout=subprocess.PIPE)\n",
    "p2 = subprocess.Popen(split('xargs -0 rm -rf'), stdin=p1.stdout)\n",
    "print('Removed slopes_only*')\n",
    "end = time.time()\n",
    "print('Time Elapsed:  %s s' %(end - start))"
   ]
  },
  {
   "cell_type": "code",
   "execution_count": 29,
   "metadata": {},
   "outputs": [
    {
     "name": "stdout",
     "output_type": "stream",
     "text": [
      "Removed *silo\n",
      "Time Elapsed:  0.022481918334960938 s\n"
     ]
    }
   ],
   "source": [
    "start = time.time()\n",
    "p1 = subprocess.Popen(split('find . -name  \"*silo\"  -print0'), stdout=subprocess.PIPE)\n",
    "p2 = subprocess.Popen(split('xargs -0 rm -rf'), stdin=p1.stdout)\n",
    "print('Removed *silo')\n",
    "end = time.time()\n",
    "print('Time Elapsed:  %s s' %(end - start))"
   ]
  },
  {
   "cell_type": "code",
   "execution_count": 30,
   "metadata": {},
   "outputs": [
    {
     "name": "stdout",
     "output_type": "stream",
     "text": [
      "Removed *pfb\n",
      "Time Elapsed:  0.022441387176513672 s\n"
     ]
    }
   ],
   "source": [
    "start = time.time()\n",
    "p1 = subprocess.Popen(split('find . -name  \"*pfb\"  -print0'), stdout=subprocess.PIPE)\n",
    "p2 = subprocess.Popen(split('xargs -0 rm -rf'), stdin=p1.stdout)\n",
    "print('Removed *pfb')\n",
    "end = time.time()\n",
    "print('Time Elapsed:  %s s' %(end - start))"
   ]
  },
  {
   "cell_type": "code",
   "execution_count": 31,
   "metadata": {},
   "outputs": [
    {
     "name": "stdout",
     "output_type": "stream",
     "text": [
      "Removed gp*\n",
      "Time Elapsed:  0.02640056610107422 s\n"
     ]
    }
   ],
   "source": [
    "start = time.time()\n",
    "p1 = subprocess.Popen(split('find . -name  \"gp*\"  -print0'), stdout=subprocess.PIPE)\n",
    "p2 = subprocess.Popen(split('xargs -0 rm -rf'), stdin=p1.stdout)\n",
    "print('Removed gp*')\n",
    "end = time.time()\n",
    "print('Time Elapsed:  %s s' %(end - start))"
   ]
  },
  {
   "cell_type": "markdown",
   "metadata": {},
   "source": [
    "# Re-copy input files scenario directory\n",
    "\n",
    "This should include the original subsurface pfbs, and spin4.out.press.pfb from the scenario-specific spinup"
   ]
  },
  {
   "cell_type": "code",
   "execution_count": 41,
   "metadata": {},
   "outputs": [
    {
     "data": {
      "text/plain": [
       "'/home/theo/pf_files/pf_machine/scenarios/scens_inputs_subsurf/scen000'"
      ]
     },
     "execution_count": 41,
     "metadata": {},
     "output_type": "execute_result"
    }
   ],
   "source": [
    "scendir_base\n",
    "scen\n",
    "scendir = '%s/%s' %(scendir_base, scen)\n",
    "scendir"
   ]
  },
  {
   "cell_type": "code",
   "execution_count": 43,
   "metadata": {},
   "outputs": [
    {
     "data": {
      "text/plain": [
       "['mann_scen.pfb', 'spin4.out.press.pfb', 'perm_scen.pfb', 'ind_scen.pfb']"
      ]
     },
     "execution_count": 43,
     "metadata": {},
     "output_type": "execute_result"
    }
   ],
   "source": [
    "scen_files"
   ]
  },
  {
   "cell_type": "code",
   "execution_count": 44,
   "metadata": {},
   "outputs": [],
   "source": [
    "scen_files = os.listdir(scendir)\n",
    "for file_name in scen_files:\n",
    "    full_file_name = os.path.join(scendir, file_name)\n",
    "    if os.path.isfile(full_file_name):\n",
    "        shutil.copy(full_file_name, '.')"
   ]
  },
  {
   "cell_type": "markdown",
   "metadata": {},
   "source": [
    "# Run one year"
   ]
  },
  {
   "cell_type": "code",
   "execution_count": 48,
   "metadata": {},
   "outputs": [
    {
     "name": "stdout",
     "output_type": "stream",
     "text": [
      "Time Elapsed:  705.4529099464417 s\n"
     ]
    }
   ],
   "source": [
    "start = time.time()\n",
    "bashCommand = \"tclsh scen_run.tcl\"\n",
    "process = subprocess.Popen(bashCommand.split(), stdout=subprocess.PIPE)\n",
    "output, error = process.communicate()\n",
    "end = time.time()\n",
    "print('Time Elapsed:  %s s' %(end - start))"
   ]
  },
  {
   "cell_type": "code",
   "execution_count": 47,
   "metadata": {},
   "outputs": [
    {
     "name": "stdout",
     "output_type": "stream",
     "text": [
      "\n"
     ]
    }
   ],
   "source": [
    "print(output.decode(\"utf-8\").format())"
   ]
  },
  {
   "cell_type": "markdown",
   "metadata": {},
   "source": [
    "# Calculate Water Balance"
   ]
  },
  {
   "cell_type": "markdown",
   "metadata": {},
   "source": [
    "## Save wb csv"
   ]
  },
  {
   "cell_type": "markdown",
   "metadata": {},
   "source": [
    "# Remove run files"
   ]
  }
 ],
 "metadata": {
  "kernelspec": {
   "display_name": "Python 3",
   "language": "python",
   "name": "python3"
  },
  "language_info": {
   "codemirror_mode": {
    "name": "ipython",
    "version": 3
   },
   "file_extension": ".py",
   "mimetype": "text/x-python",
   "name": "python",
   "nbconvert_exporter": "python",
   "pygments_lexer": "ipython3",
   "version": "3.7.1"
  }
 },
 "nbformat": 4,
 "nbformat_minor": 2
}
