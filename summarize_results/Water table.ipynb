{
 "cells": [
  {
   "cell_type": "code",
   "execution_count": 22,
   "metadata": {},
   "outputs": [],
   "source": [
    "from postproc import vdz_watertable\n",
    "import numpy as np\n",
    "from pylab import *\n",
    "\n",
    "%matplotlib inline"
   ]
  },
  {
   "cell_type": "code",
   "execution_count": 2,
   "metadata": {},
   "outputs": [],
   "source": [
    "factors = np.array([[2.0],  # <- bottom\n",
    "                    [2.0],\n",
    "                    [2.0],\n",
    "                    [1.0],\n",
    "                    [1.0],\n",
    "                    [1.0],\n",
    "                    [0.5],\n",
    "                    [0.5],\n",
    "                    [0.5],\n",
    "                    [0.5]]) # <- top"
   ]
  },
  {
   "cell_type": "code",
   "execution_count": 9,
   "metadata": {},
   "outputs": [],
   "source": [
    "mats = []\n",
    "\n",
    "for i in range(0,24):\n",
    "    infnam='slopes_only.out.satur.%05d.pfb' %i\n",
    "    outfnam = 'watertable.out.%s.pfb' %i\n",
    "    \n",
    "    a = vdz_watertable(pfbinfnam = infnam, vdzarr = factors, pfboutfnam = outfnam, \n",
    "         nx = 12, ny = 10, nz = 10, dx = 10, dy = 10, dz = 1)\n",
    "    \n",
    "    mats.append(a)\n",
    "    \n",
    "\n"
   ]
  },
  {
   "cell_type": "code",
   "execution_count": 10,
   "metadata": {},
   "outputs": [
    {
     "data": {
      "text/plain": [
       "24"
      ]
     },
     "execution_count": 10,
     "metadata": {},
     "output_type": "execute_result"
    }
   ],
   "source": [
    "len(mats)"
   ]
  },
  {
   "cell_type": "code",
   "execution_count": 11,
   "metadata": {
    "scrolled": true
   },
   "outputs": [
    {
     "data": {
      "text/plain": [
       "array([[ 0. ,  0. ,  0. ,  0. ,  0. ,  0. ,  1. ,  2.5,  3.5,  4.5],\n",
       "       [ 0. ,  0. ,  0. ,  0. ,  0. ,  1. ,  2.5,  3.5,  4.5,  6.5],\n",
       "       [ 0. ,  0. ,  0. ,  0. ,  1. ,  2.5,  3.5,  4.5,  6.5,  6.5],\n",
       "       [ 0. ,  0.5,  0.5,  0.5,  2.5,  3.5,  4.5,  6.5,  6.5,  8.5],\n",
       "       [ 0. ,  0.5,  1. ,  2.5,  3.5,  4.5,  6.5,  6.5,  8.5,  8.5],\n",
       "       [ 0.5,  1. ,  1.5,  3.5,  4.5,  6.5,  6.5,  8.5,  8.5, 10.5],\n",
       "       [ 0.5,  1.5,  3.5,  3.5,  4.5,  6.5,  8.5,  8.5,  8.5, 10.5],\n",
       "       [ 1. ,  2.5,  3.5,  4.5,  6.5,  6.5,  8.5,  8.5, 10.5, 10.5],\n",
       "       [ 2.5,  3.5,  4.5,  6.5,  6.5,  8.5,  8.5, 10.5, 10.5, 10.5],\n",
       "       [ 2.5,  3.5,  6.5,  6.5,  8.5,  8.5, 10.5, 10.5, 10.5, 10.5],\n",
       "       [ 3.5,  4.5,  6.5,  8.5,  8.5, 10.5, 10.5, 10.5, 10.5, 10.5],\n",
       "       [ 4.5,  6.5,  8.5,  8.5, 10.5, 10.5, 10.5, 10.5, 10.5, 10.5]])"
      ]
     },
     "execution_count": 11,
     "metadata": {},
     "output_type": "execute_result"
    }
   ],
   "source": [
    "a"
   ]
  },
  {
   "cell_type": "code",
   "execution_count": 5,
   "metadata": {
    "scrolled": true
   },
   "outputs": [
    {
     "name": "stdout",
     "output_type": "stream",
     "text": [
      "arrout = vdz_watertable(pfbinfnam,vdzarr,pfboutfnam,nx,ny,dx,dy,dz,[nz])\n",
      "\n",
      "Wrapper for ``vdz_watertable``.\n",
      "\n",
      "Parameters\n",
      "----------\n",
      "pfbinfnam : input string(len=-1)\n",
      "vdzarr : input rank-2 array('d') with bounds (nz,1)\n",
      "pfboutfnam : input string(len=-1)\n",
      "nx : input int\n",
      "ny : input int\n",
      "dx : input float\n",
      "dy : input float\n",
      "dz : input float\n",
      "\n",
      "Other Parameters\n",
      "----------------\n",
      "nz : input int, optional\n",
      "    Default: shape(vdzarr,0)\n",
      "\n",
      "Returns\n",
      "-------\n",
      "arrout : rank-2 array('d') with bounds (nx,ny)\n",
      "\n"
     ]
    }
   ],
   "source": [
    "print(vdz_watertable.__doc__)"
   ]
  },
  {
   "cell_type": "markdown",
   "metadata": {},
   "source": [
    "## Stack all matrixes into one 3d array"
   ]
  },
  {
   "cell_type": "code",
   "execution_count": 13,
   "metadata": {
    "scrolled": true
   },
   "outputs": [
    {
     "data": {
      "text/plain": [
       "(12, 10, 24)"
      ]
     },
     "execution_count": 13,
     "metadata": {},
     "output_type": "execute_result"
    }
   ],
   "source": [
    "newarray = np.dstack(mats)\n",
    "newarray.shape"
   ]
  },
  {
   "cell_type": "markdown",
   "metadata": {},
   "source": [
    "### standard deviation across time, for each location"
   ]
  },
  {
   "cell_type": "code",
   "execution_count": 15,
   "metadata": {},
   "outputs": [
    {
     "data": {
      "text/plain": [
       "(12, 10)"
      ]
     },
     "execution_count": 15,
     "metadata": {},
     "output_type": "execute_result"
    }
   ],
   "source": [
    "s = np.std(newarray, axis = 2)\n",
    "s.shape"
   ]
  },
  {
   "cell_type": "code",
   "execution_count": 16,
   "metadata": {},
   "outputs": [
    {
     "data": {
      "text/plain": [
       "array([[0.        , 0.        , 0.        , 0.        , 0.        ,\n",
       "        0.        , 0.        , 0.        , 0.        , 0.        ],\n",
       "       [0.        , 0.        , 0.        , 0.        , 0.        ,\n",
       "        0.        , 0.        , 0.        , 0.        , 0.        ],\n",
       "       [0.        , 0.        , 0.        , 0.        , 0.        ,\n",
       "        0.        , 0.        , 0.        , 0.        , 0.        ],\n",
       "       [0.        , 0.09991316, 0.22726484, 0.        , 0.        ,\n",
       "        0.        , 0.        , 0.        , 0.        , 0.        ],\n",
       "       [0.        , 0.21650635, 0.40771637, 0.        , 0.        ,\n",
       "        0.        , 0.        , 0.        , 0.        , 0.        ],\n",
       "       [0.186339  , 0.39473532, 0.6993921 , 0.        , 0.        ,\n",
       "        0.        , 0.        , 0.        , 0.        , 0.        ],\n",
       "       [0.22726484, 0.61201795, 1.47196014, 0.        , 0.        ,\n",
       "        0.        , 0.        , 0.        , 0.        , 0.        ],\n",
       "       [0.45452967, 1.1785113 , 1.59085385, 0.        , 0.        ,\n",
       "        0.        , 0.        , 0.        , 0.        , 0.        ],\n",
       "       [1.03056585, 1.64991582, 1.94855716, 0.        , 0.        ,\n",
       "        0.        , 0.        , 0.        , 0.        , 0.        ],\n",
       "       [1.1785113 , 1.51554446, 2.81458256, 0.        , 0.        ,\n",
       "        0.        , 0.        , 0.        , 0.        , 0.        ],\n",
       "       [0.        , 0.        , 0.        , 0.        , 0.        ,\n",
       "        0.        , 0.        , 0.        , 0.        , 0.        ],\n",
       "       [0.        , 0.        , 0.        , 0.        , 0.        ,\n",
       "        0.        , 0.        , 0.        , 0.        , 0.        ]])"
      ]
     },
     "execution_count": 16,
     "metadata": {},
     "output_type": "execute_result"
    }
   ],
   "source": [
    "s"
   ]
  },
  {
   "cell_type": "markdown",
   "metadata": {},
   "source": [
    "### mean water table depth for each location"
   ]
  },
  {
   "cell_type": "code",
   "execution_count": 19,
   "metadata": {},
   "outputs": [
    {
     "name": "stdout",
     "output_type": "stream",
     "text": [
      "(12, 10)\n"
     ]
    },
    {
     "data": {
      "text/plain": [
       "array([[ 0.        ,  0.        ,  0.        ,  0.        ,  0.        ,\n",
       "         0.        ,  1.        ,  2.5       ,  3.5       ,  4.5       ],\n",
       "       [ 0.        ,  0.        ,  0.        ,  0.        ,  0.        ,\n",
       "         1.        ,  2.5       ,  3.5       ,  4.5       ,  6.5       ],\n",
       "       [ 0.        ,  0.        ,  0.        ,  0.        ,  1.        ,\n",
       "         2.5       ,  3.5       ,  4.5       ,  6.5       ,  6.5       ],\n",
       "       [ 0.        ,  0.02083333,  0.14583333,  0.5       ,  2.5       ,\n",
       "         3.5       ,  4.5       ,  6.5       ,  6.5       ,  8.5       ],\n",
       "       [ 0.        ,  0.125     ,  0.39583333,  2.5       ,  3.5       ,\n",
       "         4.5       ,  6.5       ,  6.5       ,  8.5       ,  8.5       ],\n",
       "       [ 0.08333333,  0.35416667,  0.97916667,  3.5       ,  4.5       ,\n",
       "         6.5       ,  6.5       ,  8.5       ,  8.5       , 10.5       ],\n",
       "       [ 0.14583333,  0.72916667,  2.        ,  3.5       ,  4.5       ,\n",
       "         6.5       ,  8.5       ,  8.5       ,  8.5       , 10.5       ],\n",
       "       [ 0.45833333,  1.66666667,  2.47916667,  4.5       ,  6.5       ,\n",
       "         6.5       ,  8.5       ,  8.5       , 10.5       , 10.5       ],\n",
       "       [ 1.22916667,  2.33333333,  3.375     ,  6.5       ,  6.5       ,\n",
       "         8.5       ,  8.5       , 10.5       , 10.5       , 10.5       ],\n",
       "       [ 1.66666667,  2.625     ,  4.875     ,  6.5       ,  8.5       ,\n",
       "         8.5       , 10.5       , 10.5       , 10.5       , 10.5       ],\n",
       "       [ 3.5       ,  4.5       ,  6.5       ,  8.5       ,  8.5       ,\n",
       "        10.5       , 10.5       , 10.5       , 10.5       , 10.5       ],\n",
       "       [ 4.5       ,  6.5       ,  8.5       ,  8.5       , 10.5       ,\n",
       "        10.5       , 10.5       , 10.5       , 10.5       , 10.5       ]])"
      ]
     },
     "execution_count": 19,
     "metadata": {},
     "output_type": "execute_result"
    }
   ],
   "source": [
    "m = np.mean(newarray, axis = 2)\n",
    "print(m.shape)\n",
    "m"
   ]
  },
  {
   "cell_type": "code",
   "execution_count": 24,
   "metadata": {},
   "outputs": [
    {
     "data": {
      "text/plain": [
       "<matplotlib.image.AxesImage at 0x7f30a3cf8630>"
      ]
     },
     "execution_count": 24,
     "metadata": {},
     "output_type": "execute_result"
    },
    {
     "data": {
      "image/png": "[encoded data removed]",
      "text/plain": [
       "<Figure size 432x288 with 1 Axes>"
      ]
     },
     "metadata": {
      "needs_background": "light"
     },
     "output_type": "display_data"
    }
   ],
   "source": [
    "imshow(m)"
   ]
  }
 ],
 "metadata": {
  "kernelspec": {
   "display_name": "Python 3",
   "language": "python",
   "name": "python3"
  },
  "language_info": {
   "codemirror_mode": {
    "name": "ipython",
    "version": 3
   },
   "file_extension": ".py",
   "mimetype": "text/x-python",
   "name": "python",
   "nbconvert_exporter": "python",
   "pygments_lexer": "ipython3",
   "version": "3.7.3"
  }
 },
 "nbformat": 4,
 "nbformat_minor": 2
}
