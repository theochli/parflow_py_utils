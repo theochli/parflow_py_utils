{
 "cells": [
  {
   "cell_type": "code",
   "execution_count": 2,
   "metadata": {},
   "outputs": [],
   "source": [
    "from clm import createclmvegm\n",
    "import numpy as np"
   ]
  },
  {
   "cell_type": "code",
   "execution_count": 3,
   "metadata": {
    "scrolled": true
   },
   "outputs": [
    {
     "name": "stdout",
     "output_type": "stream",
     "text": [
      "arrout = createclmvegm(dx,dy,arroutfnam,arrin,lcin_flat,lat,lon,[nx,ny,nlc])\n",
      "\n",
      "Wrapper for ``createclmvegm``.\n",
      "\n",
      "Parameters\n",
      "----------\n",
      "dx : input float\n",
      "dy : input float\n",
      "arroutfnam : input string(len=-1)\n",
      "arrin : input rank-2 array('i') with bounds (nx,ny)\n",
      "lcin_flat : input rank-2 array('i') with bounds (1,nlc)\n",
      "lat : input float\n",
      "lon : input float\n",
      "\n",
      "Other Parameters\n",
      "----------------\n",
      "nx : input int, optional\n",
      "    Default: shape(arrin,0)\n",
      "ny : input int, optional\n",
      "    Default: shape(arrin,1)\n",
      "nlc : input int, optional\n",
      "    Default: shape(lcin_flat,1)\n",
      "\n",
      "Returns\n",
      "-------\n",
      "arrout : rank-3 array('d') with bounds (nx,ny,1)\n",
      "\n"
     ]
    }
   ],
   "source": [
    "print(createclmvegm.__doc__)"
   ]
  },
  {
   "cell_type": "code",
   "execution_count": 4,
   "metadata": {},
   "outputs": [],
   "source": [
    "# This matrix represents the land covers in the domain\n",
    "# on a horizontal plane.\n",
    "# Note the orientation of the domain\n",
    "#  x = 1, y = 1 (value = 1, below)\n",
    "#  corresponds to the LOWER LEFT corner of the domain.\n",
    "#  x = 1, y = 5 (value 2, below)\n",
    "#  corresponds to the UPPER LEFT corner of the domain.\n",
    "\n",
    "mat = np.array([[1,1,2,2,1],\n",
    "              [1,1,2,2,2],\n",
    "              [1,1,2,2,2],\n",
    "              [1,1,2,2,2]])\n",
    "\n",
    "# This matrix maps permeabilities of the subsurface in each\n",
    "# land cover type, in each subsurface layer\n",
    "# Column 1 corresponds to LC type 1\n",
    "# Column 2 corresponds to LC type 2\n",
    "\n",
    "# p.19 in PF Manual: CLM vegetation classes.\n",
    "# 4 is deciduous broadleaf\n",
    "# 13 is urban and built up\n",
    "\n",
    "landco_vegcl = np.array([[4,13]])\n",
    "\n",
    "\n",
    "\n",
    "nx = mat.shape[0]\n",
    "ny = mat.shape[1]"
   ]
  },
  {
   "cell_type": "code",
   "execution_count": 5,
   "metadata": {},
   "outputs": [
    {
     "data": {
      "text/plain": [
       "array([[1, 1, 2, 2, 1],\n",
       "       [1, 1, 2, 2, 2],\n",
       "       [1, 1, 2, 2, 2],\n",
       "       [1, 1, 2, 2, 2]])"
      ]
     },
     "execution_count": 5,
     "metadata": {},
     "output_type": "execute_result"
    }
   ],
   "source": [
    "mat"
   ]
  },
  {
   "cell_type": "code",
   "execution_count": 6,
   "metadata": {},
   "outputs": [
    {
     "data": {
      "text/plain": [
       "array([[[0.],\n",
       "        [0.],\n",
       "        [0.],\n",
       "        [0.],\n",
       "        [0.]],\n",
       "\n",
       "       [[0.],\n",
       "        [0.],\n",
       "        [0.],\n",
       "        [0.],\n",
       "        [0.]],\n",
       "\n",
       "       [[0.],\n",
       "        [0.],\n",
       "        [0.],\n",
       "        [0.],\n",
       "        [0.]],\n",
       "\n",
       "       [[0.],\n",
       "        [0.],\n",
       "        [0.],\n",
       "        [0.],\n",
       "        [0.]]])"
      ]
     },
     "execution_count": 6,
     "metadata": {},
     "output_type": "execute_result"
    }
   ],
   "source": [
    "createclmvegm(dx=100,dy=100,arroutfnam='drv_vegm_test.dat',arrin=mat,\n",
    "             lcin_flat = landco_vegcl, lat = 39.313, lon = -76.688)\n",
    "\n",
    "# The result will appear with zeroes, but the .dat output file should have 1.0 in the corresponding\n",
    "# land use"
   ]
  },
  {
   "cell_type": "code",
   "execution_count": null,
   "metadata": {},
   "outputs": [],
   "source": []
  }
 ],
 "metadata": {
  "kernelspec": {
   "display_name": "Python 3",
   "language": "python",
   "name": "python3"
  },
  "language_info": {
   "codemirror_mode": {
    "name": "ipython",
    "version": 3
   },
   "file_extension": ".py",
   "mimetype": "text/x-python",
   "name": "python",
   "nbconvert_exporter": "python",
   "pygments_lexer": "ipython3",
   "version": "3.7.1"
  }
 },
 "nbformat": 4,
 "nbformat_minor": 2
}
