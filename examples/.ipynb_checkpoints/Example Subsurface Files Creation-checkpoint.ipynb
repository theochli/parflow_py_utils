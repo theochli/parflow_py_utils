{
 "cells": [
  {
   "cell_type": "code",
   "execution_count": 1,
   "metadata": {},
   "outputs": [],
   "source": [
    "from subsurface import createpfb3, createpfb2\n",
    "import numpy as np"
   ]
  },
  {
   "cell_type": "code",
   "execution_count": 5,
   "metadata": {},
   "outputs": [],
   "source": [
    "# This matrix represents the land covers in the domain\n",
    "# on a horizontal plane.\n",
    "# Note the orientation of the domain\n",
    "#  x = 1, y = 1 (value = 1, below)\n",
    "#  corresponds to the LOWER LEFT corner of the domain.\n",
    "#  x = 1, y = 5 (value 2, below)\n",
    "#  corresponds to the UPPER LEFT corner of the domain.\n",
    "\n",
    "mat = np.array([[1,1,2,2,1],\n",
    "              [1,1,2,2,2],\n",
    "              [1,1,2,2,2],\n",
    "              [1,1,2,2,2]])\n",
    "\n",
    "# This matrix maps permeabilities of the subsurface in each\n",
    "# land cover type, in each subsurface layer\n",
    "# Column 1 corresponds to LC type 1\n",
    "# Column 2 corresponds to LC type 2\n",
    "# The first row corresponds to z = 1 (the bottom of the domain)\n",
    "# The second row is one level up from that.\n",
    "\n",
    "landco_perm = np.array([[1.0,2.0],\n",
    "                       [3.0,4.0],\n",
    "                       [5.0,6.0]])\n",
    "\n",
    "landco_mann = np.array([[0.001,0.00001]])\n",
    "\n",
    "nx = mat.shape[0]\n",
    "ny = mat.shape[1]"
   ]
  },
  {
   "cell_type": "code",
   "execution_count": 6,
   "metadata": {},
   "outputs": [
    {
     "data": {
      "text/plain": [
       "array([[1, 1, 2, 2, 1],\n",
       "       [1, 1, 2, 2, 2],\n",
       "       [1, 1, 2, 2, 2],\n",
       "       [1, 1, 2, 2, 2]])"
      ]
     },
     "execution_count": 6,
     "metadata": {},
     "output_type": "execute_result"
    }
   ],
   "source": [
    "mat"
   ]
  },
  {
   "cell_type": "code",
   "execution_count": 9,
   "metadata": {},
   "outputs": [],
   "source": [
    "a = createpfb3(arrin = mat, dx = 1, dy = 1, dz = 1, nlc = 2, nx = 4, ny = 5, nz = 3,\n",
    "               lcin = landco_perm, arroutfnam='testperm.pfb')"
   ]
  },
  {
   "cell_type": "code",
   "execution_count": 12,
   "metadata": {},
   "outputs": [
    {
     "data": {
      "text/plain": [
       "(4, 5, 3)"
      ]
     },
     "execution_count": 12,
     "metadata": {},
     "output_type": "execute_result"
    }
   ],
   "source": [
    "a.shape"
   ]
  },
  {
   "cell_type": "markdown",
   "metadata": {},
   "source": [
    "## Many land cover scenarios"
   ]
  },
  {
   "cell_type": "code",
   "execution_count": 14,
   "metadata": {},
   "outputs": [
    {
     "data": {
      "text/plain": [
       "array([[1., 1., 1., 1., 1., 1., 1., 1., 1., 1.],\n",
       "       [1., 1., 1., 1., 1., 1., 1., 1., 1., 1.],\n",
       "       [1., 1., 1., 1., 1., 1., 1., 1., 1., 1.],\n",
       "       [1., 1., 1., 1., 1., 1., 1., 1., 1., 1.],\n",
       "       [1., 1., 1., 1., 1., 1., 1., 1., 1., 1.],\n",
       "       [1., 1., 1., 1., 1., 1., 1., 1., 1., 1.],\n",
       "       [1., 1., 1., 1., 1., 1., 1., 1., 1., 1.],\n",
       "       [1., 1., 1., 1., 1., 1., 1., 1., 1., 1.],\n",
       "       [1., 1., 1., 1., 1., 1., 1., 1., 1., 1.],\n",
       "       [1., 1., 1., 1., 1., 1., 1., 1., 1., 1.]])"
      ]
     },
     "execution_count": 14,
     "metadata": {},
     "output_type": "execute_result"
    }
   ],
   "source": [
    "np.ones((10,10))"
   ]
  }
 ],
 "metadata": {
  "kernelspec": {
   "display_name": "Python 3",
   "language": "python",
   "name": "python3"
  },
  "language_info": {
   "codemirror_mode": {
    "name": "ipython",
    "version": 3
   },
   "file_extension": ".py",
   "mimetype": "text/x-python",
   "name": "python",
   "nbconvert_exporter": "python",
   "pygments_lexer": "ipython3",
   "version": "3.7.1"
  }
 },
 "nbformat": 4,
 "nbformat_minor": 2
}
