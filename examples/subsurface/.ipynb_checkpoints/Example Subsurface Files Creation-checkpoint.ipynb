{
 "cells": [
  {
   "cell_type": "code",
   "execution_count": 1,
   "metadata": {},
   "outputs": [],
   "source": [
    "from subsurface import createpfb3, createpfb2\n",
    "import numpy as np"
   ]
  },
  {
   "cell_type": "code",
   "execution_count": 3,
   "metadata": {},
   "outputs": [],
   "source": [
    "# This matrix represents the land covers in the domain\n",
    "# on a horizontal plane.\n",
    "# Note the orientation of the domain\n",
    "#  x = 1, y = 1 (value = 1, below)\n",
    "#  corresponds to the LOWER LEFT corner of the domain.\n",
    "#  x = 1, y = 5 (value 2, below)\n",
    "#  corresponds to the UPPER LEFT corner of the domain.\n",
    "\n",
    "mat = np.array([[1,1,2,2,1],\n",
    "              [1,1,2,2,2],\n",
    "              [1,1,2,2,2],\n",
    "              [1,1,2,2,2]])\n",
    "\n",
    "# This matrix maps permeabilities of the subsurface in each\n",
    "# land cover type, in each subsurface layer\n",
    "# Column 1 corresponds to LC type 1\n",
    "# Column 2 corresponds to LC type 2\n",
    "# The first row corresponds to z = 1 (the bottom of the domain)\n",
    "# The second row is one level up from that.\n",
    "\n",
    "landco_perm = np.array([[1.0,2.0],\n",
    "                       [3.0,4.0],\n",
    "                       [5.0,6.0]])\n",
    "\n",
    "landco_mann = np.array([[0.001,0.00001]])\n",
    "\n",
    "\n",
    "\n",
    "nx = mat.shape[0]\n",
    "ny = mat.shape[1]"
   ]
  },
  {
   "cell_type": "code",
   "execution_count": 4,
   "metadata": {},
   "outputs": [
    {
     "data": {
      "text/plain": [
       "array([[1, 1, 2, 2, 1],\n",
       "       [1, 1, 2, 2, 2],\n",
       "       [1, 1, 2, 2, 2],\n",
       "       [1, 1, 2, 2, 2]])"
      ]
     },
     "execution_count": 4,
     "metadata": {},
     "output_type": "execute_result"
    }
   ],
   "source": [
    "mat"
   ]
  },
  {
   "cell_type": "code",
   "execution_count": 5,
   "metadata": {},
   "outputs": [],
   "source": [
    "a = createpfb3(arrin = mat, dx = 1, dy = 1, dz = 1, nlc = 2, nx = 4, ny = 5, nz = 3,\n",
    "               lcin = landco_perm, arroutfnam='testperm.pfb')"
   ]
  },
  {
   "cell_type": "code",
   "execution_count": 6,
   "metadata": {},
   "outputs": [
    {
     "data": {
      "text/plain": [
       "(4, 5, 3)"
      ]
     },
     "execution_count": 6,
     "metadata": {},
     "output_type": "execute_result"
    }
   ],
   "source": [
    "a.shape"
   ]
  },
  {
   "cell_type": "markdown",
   "metadata": {},
   "source": [
    "## Many land cover scenarios"
   ]
  },
  {
   "cell_type": "code",
   "execution_count": 2,
   "metadata": {},
   "outputs": [
    {
     "data": {
      "text/plain": [
       "array([[2., 2., 2., 2., 2., 2., 2., 2., 2., 2.],\n",
       "       [2., 2., 2., 2., 2., 2., 2., 2., 2., 2.],\n",
       "       [2., 2., 2., 2., 2., 2., 2., 2., 2., 2.],\n",
       "       [1., 1., 1., 1., 1., 1., 1., 1., 1., 1.],\n",
       "       [1., 1., 1., 1., 1., 1., 1., 1., 1., 1.],\n",
       "       [1., 1., 1., 1., 1., 1., 1., 1., 1., 1.],\n",
       "       [1., 1., 1., 1., 1., 1., 1., 1., 1., 1.],\n",
       "       [1., 1., 1., 1., 1., 1., 1., 1., 1., 1.],\n",
       "       [1., 1., 1., 1., 1., 1., 1., 1., 1., 1.],\n",
       "       [1., 1., 1., 1., 1., 1., 1., 1., 1., 1.],\n",
       "       [1., 1., 1., 1., 1., 1., 1., 1., 1., 1.],\n",
       "       [1., 1., 1., 1., 1., 1., 1., 1., 1., 1.]])"
      ]
     },
     "execution_count": 2,
     "metadata": {},
     "output_type": "execute_result"
    }
   ],
   "source": [
    "mat = np.ones((12,10))\n",
    "mat[:3,] = 2\n",
    "# Switch\n",
    "#mat[3:,] = 2\n",
    "#mat[9:,] = 2\n",
    "#mat[:5,:6] = 2\n",
    "#mat[:5,4:] = 2\n",
    "#mat[:5,1:7] = 2\n",
    "mat"
   ]
  },
  {
   "cell_type": "code",
   "execution_count": 3,
   "metadata": {},
   "outputs": [],
   "source": [
    "# first row is bottom of domain\n",
    "# landco = 1 is \"forest\"\n",
    "# landco = 2 is urban\n",
    "\n",
    "landco_perm = np.array([[0.0002,0.0002],  # \"bedrock\" layer\n",
    "                       [4.75,0.41],         # \"saprolite\"\n",
    "                       [4.75,0.0000306]])        # topsoil\n",
    "\n",
    "landco_mann = np.array([[2,0.00001]])\n",
    "\n",
    "landco_indic = np.array([[1.0,1.0], # bottom layer\n",
    "                       [2.0,2.0],\n",
    "                       [3.0,4.0]]) #top layer \n",
    "\n",
    "# Create the permeability pfb\n",
    "a = createpfb3(arrin = mat, dx = 100, dy = 100, dz = 1, nlc = 2, nx = 12, ny = 10, nz = 3,\n",
    "               lcin = landco_perm, arroutfnam='perm_het1.pfb')\n",
    "\n",
    "# Create the mannings pfb\n",
    "b = createpfb2(arrin = mat, dx = 100, dy = 100, dz = 1, nlc = 2, nx = 12, ny = 10,\n",
    "               lcin_flat = landco_mann, arroutfnam='mann_het1.pfb')\n",
    "\n",
    "# Create the indicator pfb (for use for porosity)\n",
    "c = createpfb3(arrin = mat, dx = 100, dy = 100, dz = 1, nlc = 2, nx = 12, ny = 10, nz = 3,\n",
    "               lcin = landco_indic, arroutfnam='ind_het1.pfb')"
   ]
  },
  {
   "cell_type": "code",
   "execution_count": null,
   "metadata": {},
   "outputs": [],
   "source": []
  }
 ],
 "metadata": {
  "kernelspec": {
   "display_name": "Python 3",
   "language": "python",
   "name": "python3"
  },
  "language_info": {
   "codemirror_mode": {
    "name": "ipython",
    "version": 3
   },
   "file_extension": ".py",
   "mimetype": "text/x-python",
   "name": "python",
   "nbconvert_exporter": "python",
   "pygments_lexer": "ipython3",
   "version": "3.7.3"
  }
 },
 "nbformat": 4,
 "nbformat_minor": 2
}
