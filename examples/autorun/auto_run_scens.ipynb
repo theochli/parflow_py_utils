{
 "cells": [
  {
   "cell_type": "markdown",
   "metadata": {},
   "source": [
    "# Automate scenario runs\n",
    "\n",
    "The process involves:\n",
    "1. running a scenario-specific spinup, initialized with `spin3.out.press.pfb` using `scen_spin.tcl` (this will simulate 5 years of 2010 meteorological forcing\n",
    "2. Running the variable dz subsurface post processing script (python with fortran module, which needs to be installed using: `f2py -c -m postproc scale_pfb.f pfb_read.f writepfb.f` and has dependencies: `scale_pfb.f pfb_read.f writepfb.f`) Need to confirm that subsurface storage is changing by less than 1% between years 4 and 5.\n",
    "3. Use the last pfb file `slopes_only.out.press.43805.pfb` as the input `spin4.out.press.pfb` (save this in each scen's directory) to the one year simulation\n",
    "4. Remove all spinup run files to make space\n",
    "5. Run the 1-year simulation using `scen_run.tcl`\n",
    "6. Run the full water balance script using `postproc` f2py module. Save the csv dataframe in outputs directory.\n",
    "7. Remove all run files."
   ]
  },
  {
   "cell_type": "code",
   "execution_count": 1,
   "metadata": {},
   "outputs": [],
   "source": [
    "import subprocess\n",
    "import glob\n",
    "import os\n",
    "import shutil\n",
    "import time\n",
    "\n",
    "from postproc import scale_pfb\n",
    "import pandas as pd\n",
    "from io import StringIO\n",
    "import itertools\n",
    "import numpy as np\n",
    "from shlex import split\n",
    "\n",
    "%matplotlib inline"
   ]
  },
  {
   "cell_type": "code",
   "execution_count": 2,
   "metadata": {},
   "outputs": [],
   "source": [
    "# the directory that contains all the subdirectories for each scenario\n",
    "#scendir_base = '/home/tclim/Dropbox/projects/pf_simple/00preproc/01subsurf_scen'\n",
    "#scendir_base = '/home/theo/pf_files/pf_machine/scenarios/scens_inputs_specific'\n"
   ]
  },
  {
   "cell_type": "markdown",
   "metadata": {},
   "source": [
    "# Functions"
   ]
  },
  {
   "cell_type": "code",
   "execution_count": 2,
   "metadata": {},
   "outputs": [],
   "source": [
    "# Post Processing\n",
    "def silo2pfb(rundir, bnam, start, stop, fw=0):\n",
    "    '''\n",
    "    Converts a timeseries of silo output to pfb format\n",
    "    (saves converted pfbs to same directory)\n",
    "    \n",
    "    bnam     the basename of the files (everything up to the iterating index)\n",
    "    start    start number of file indexing\n",
    "    end      end number of file indexing\n",
    "    fw       fixed width = 0 for non-fixed width iterating index, \n",
    "             fixed width = 1 for fixed width (assumed width is 5) index.\n",
    "    '''\n",
    "    bashCommand = \"tclsh silotopfb_iter_bnam.tcl %s %s %s %s %s\" %(rundir, bnam,start,stop, fw)\n",
    "    process = subprocess.Popen(bashCommand.split(), stdout=subprocess.PIPE)\n",
    "    output, error = process.communicate()\n",
    "    print(output)\n",
    "    print(error)\n",
    "    \n",
    "    # if fw =1, rename the output files to remove $runname.out\n",
    "    if fw:\n",
    "        print(\"renaming output pfb files\")\n",
    "        newbnam = bnam.split(\".\")[-1]\n",
    "        \n",
    "        for i in range(start, stop+1):\n",
    "            ofnam = \"%s/%s.%s.pfb\" %(rundir,bnam,i)\n",
    "            nfnam = \"%s/%s.%s.pfb\" %(rundir,newbnam,i)\n",
    "            os.rename(ofnam, nfnam)\n",
    "\n",
    "def sumoverdomain(rundir, bnam, start, stop):\n",
    "    '''\n",
    "    Sums over the entire domain for an input pfb file,\n",
    "    returns a dataframe with columns for t and the sum values\n",
    "    \n",
    "    bnam    the base name of the files to sum\n",
    "    start   the start number of file indexing\n",
    "    end     the end number of file indexing\n",
    "    '''\n",
    "    bashCommand = \"tclsh sum_domain_bnam.tcl %s %s %s %s\" %(rundir, bnam,start,stop)\n",
    "    process = subprocess.Popen(bashCommand.split(), stdout=subprocess.PIPE)\n",
    "    output, error = process.communicate()\n",
    "\n",
    "    # Save the output to a dataframe\n",
    "    output = output.decode(\"utf-8\").format()\n",
    "    df = pd.read_csv(StringIO(output), sep=\"\\t\", header = None)\n",
    "    df.columns = ['t','sum_val']  # add a header (column name)\n",
    "    \n",
    "    # return\n",
    "    return(df)\n",
    "\n",
    "\n",
    "# Delete Run Files\n",
    "def delete_run_files():\n",
    "    # slopes_only*\n",
    "    fileList = glob.glob('./slopes_only**', recursive=True)\n",
    "    for filePath in fileList:\n",
    "        try:\n",
    "            os.remove(filePath)\n",
    "        except:\n",
    "            print(\"Error while deleting file : \", filePath)\n",
    "    \n",
    "    # .silos\n",
    "    fileList = glob.glob('./*.silo', recursive=True)\n",
    "    for filePath in fileList:\n",
    "        try:\n",
    "            os.remove(filePath)\n",
    "        except:\n",
    "            print(\"Error while deleting file : \", filePath)\n",
    "            \n",
    "    \n",
    "    # .pfbs\n",
    "    fileList = glob.glob('./*.pfb', recursive=True)\n",
    "    for filePath in fileList:\n",
    "        try:\n",
    "            os.remove(filePath)\n",
    "        except:\n",
    "            print(\"Error while deleting file : \", filePath)\n",
    "            \n",
    "    \n",
    "    # gp*\n",
    "    fileList = glob.glob('./gp*', recursive=True)\n",
    "    for filePath in fileList:\n",
    "        try:\n",
    "            os.remove(filePath)\n",
    "        except:\n",
    "            print(\"Error while deleting file : \", filePath)\n"
   ]
  },
  {
   "cell_type": "code",
   "execution_count": 3,
   "metadata": {
    "scrolled": true
   },
   "outputs": [
    {
     "name": "stdout",
     "output_type": "stream",
     "text": [
      "Now processing... scen009\n",
      "    Run inputs copied\n",
      "    Running scenario-specific spinup\n",
      "    Scenario-specific spinup complete.\n",
      "    Time Elapsed:  3126.6695125102997 s\n",
      "    Calculating vdz-aware subsurface storage for spinup\n",
      "b''\n",
      "None\n",
      "b''\n",
      "None\n",
      "    vdz-aware subsurface storage calc completed.\n",
      "    ss.head(10)\n",
      "\n",
      "   t       sum_val\n",
      "0  0  3.229581e+06\n",
      "1  1  3.229986e+06\n",
      "2  2  3.230307e+06\n",
      "3  3  3.230718e+06\n",
      "4  4  3.230780e+06\n",
      "5  5  3.230802e+06\n",
      "6  6  3.230731e+06\n",
      "7  7  3.230628e+06\n",
      "8  8  3.230525e+06\n",
      "9  9  3.230423e+06\n",
      "year-on-year subsurf storage percent change:\n",
      "\n",
      "0             NaN\n",
      "8610    -0.014511\n",
      "17220    0.001593\n",
      "25830    0.004654\n",
      "34440    0.001705\n",
      "43050   -0.005087\n",
      "Name: sum_val, dtype: float64\n",
      "    Spinup stabilization PASSED\n",
      "    saving scenario-specific slopes_only_out.press43805.pfb as /home/theo/pf_files/pf_machine/scenarios/scens_inputs_specific/scen009/spin4.out.press.pfb...\n",
      "    Removing all spinup run files...\n",
      "Error while deleting file :  ./slopes_only.out\n",
      "    simulation files for scen009 copied to rundir\n",
      "    beginning scenario one-year simulation\n",
      "    Scenario one-year simulation complete.\n",
      "    Time Elapsed:  681.5244798660278 s\n",
      "b''\n",
      "None\n",
      "    Example of NLDAS nldas.head()\n",
      "\n",
      "   DSWR        DLWR      APCP         TMP  UGRD  VGRD         PRESS      SPFH\n",
      "0   0.0  306.959991  0.000212  270.720001 -0.66  1.46  98751.226562  0.003161\n",
      "1   0.0  306.959991  0.000166  270.950012 -0.51  1.10  98789.796875  0.003190\n",
      "2   0.0  306.959991  0.000200  271.179993 -0.37  0.73  98827.718750  0.003218\n",
      "3   0.0  306.019989  0.000065  271.410004 -0.22  0.36  98866.281250  0.003247\n",
      "4   0.0  306.019989  0.000049  271.309998 -0.24  0.18  98764.718750  0.003246\n",
      "b''\n",
      "None\n",
      "renaming output pfb files\n",
      "    Example of overland flow of.head()\n",
      "\n",
      "    t    sum_val\n",
      "0   1  75.005720\n",
      "1   2  75.041932\n",
      "2   3  75.091577\n",
      "3   4  75.102447\n",
      "4   5  75.105502\n",
      "5   6  75.096431\n",
      "6   7  75.082161\n",
      "7   8  75.067015\n",
      "8   9  75.051479\n",
      "9  10  75.035810\n",
      "b''\n",
      "None\n",
      "    Example of surface storage s.head()\n",
      "\n",
      "   t       sum_val\n",
      "0  0  92272.948117\n",
      "1  1  92339.280952\n",
      "2  2  92389.861892\n",
      "3  3  92458.462027\n",
      "4  4  92466.432589\n",
      "5  5  92467.360353\n",
      "6  6  92452.284162\n",
      "7  7  92431.352370\n",
      "8  8  92410.508410\n",
      "9  9  92389.837891\n",
      "b''\n",
      "None\n",
      "    Example of subsurface storage ss.head()\n",
      "\n",
      "   t       sum_val\n",
      "0  0  3.187465e+06\n",
      "1  1  3.187976e+06\n",
      "2  2  3.188358e+06\n",
      "3  3  3.188838e+06\n",
      "4  4  3.188942e+06\n",
      "5  5  3.189002e+06\n",
      "6  6  3.188963e+06\n",
      "7  7  3.188889e+06\n",
      "8  8  3.188816e+06\n",
      "9  9  3.188744e+06\n",
      "b''\n",
      "None\n",
      "renaming output pfb files\n",
      "    Example of evapotranspiration et.head()\n",
      "\n",
      "   t     sum_val\n",
      "0  0  652.372622\n",
      "1  1  507.437417\n",
      "2  2  624.229853\n",
      "3  3  186.961521\n",
      "4  4  136.398875\n",
      "5  5   21.012023\n",
      "6  6  -19.930954\n",
      "7  7  -18.622794\n",
      "8  8  -17.806599\n",
      "9  9  -17.069326\n",
      "    Putting pieces of water balance together\n",
      "    Example of wb.head()\n",
      "\n",
      "     t  vdz_subsurfstor  overland_flow     surf_stor      vdz_et  \\\n",
      "0    0     3.187465e+06     -75.005720  92272.948117  652.372622   \n",
      "1    1     3.187976e+06     -75.041932  92339.280952  507.437417   \n",
      "2    2     3.188358e+06     -75.091577  92389.861892  624.229853   \n",
      "3    3     3.188838e+06     -75.102447  92458.462027  186.961521   \n",
      "4    4     3.188942e+06     -75.105502  92466.432589  136.398875   \n",
      "5    5     3.189002e+06     -75.096431  92467.360353   21.012023   \n",
      "6    6     3.188963e+06     -75.082161  92452.284162  -19.930954   \n",
      "7    7     3.188889e+06     -75.067015  92431.352370  -18.622794   \n",
      "8    8     3.188816e+06     -75.051479  92410.508410  -17.806599   \n",
      "9    9     3.188744e+06     -75.035810  92389.837891  -17.069326   \n",
      "10  10     3.188672e+06     -75.020161  92369.532090  -16.233888   \n",
      "11  11     3.188601e+06     -75.004348  92349.700111  -16.749733   \n",
      "12  12     3.188529e+06     -74.988069  92329.877850  -19.039970   \n",
      "13  13     3.188455e+06     -74.976556  92309.552768   41.005110   \n",
      "14  14     3.188435e+06     -74.960125  92296.038337  -21.851563   \n",
      "15  15     3.188359e+06     -74.946232  92275.542389   15.531573   \n",
      "16  16     3.188316e+06     -74.928718  92258.678792  -23.821700   \n",
      "17  17     3.188239e+06     -74.910980  92236.886164  -29.933593   \n",
      "18  18     3.188157e+06     -74.893320  92214.618523  -29.171525   \n",
      "19  19     3.188075e+06     -74.875620  92192.567042  -28.924800   \n",
      "\n",
      "         dom_tot   bndy_flux        exp_wb  dom_tot_chg          diff  \\\n",
      "0   3.279738e+06  577.366902  3.280892e+06   577.366894 -7.483887e-06   \n",
      "1   3.280315e+06  432.395486  3.281180e+06   432.395452 -3.352800e-05   \n",
      "2   3.280747e+06  549.138276  3.281846e+06   549.138253 -2.323804e-05   \n",
      "3   3.281297e+06  111.859074  3.281520e+06   111.859196  1.222881e-04   \n",
      "4   3.281408e+06   61.293373  3.281531e+06    61.293406  3.284671e-05   \n",
      "5   3.281470e+06  -54.084408  3.281362e+06   -54.084424 -1.530970e-05   \n",
      "6   3.281416e+06  -95.013116  3.281226e+06   -95.013116 -5.622867e-07   \n",
      "7   3.281321e+06  -93.689809  3.281133e+06   -93.689804  5.760585e-06   \n",
      "8   3.281227e+06  -92.858078  3.281041e+06   -92.858080 -2.742027e-06   \n",
      "9   3.281134e+06  -92.105136  3.280950e+06   -92.105138 -1.690732e-06   \n",
      "10  3.281042e+06  -91.254049  3.280860e+06   -91.254049 -4.500166e-07   \n",
      "11  3.280951e+06  -91.754081  3.280767e+06   -91.754081  3.361388e-07   \n",
      "12  3.280859e+06  -94.028039  3.280671e+06   -94.028076 -3.712671e-05   \n",
      "13  3.280765e+06  -33.971446  3.280697e+06   -33.971448 -2.568700e-06   \n",
      "14  3.280731e+06  -96.811688  3.280537e+06   -96.811688 -9.291223e-08   \n",
      "15  3.280634e+06  -59.414659  3.280515e+06   -59.414659 -3.491267e-07   \n",
      "16  3.280575e+06  -98.750419  3.280377e+06   -98.750419  6.081258e-08   \n",
      "17  3.280476e+06 -104.844573  3.280266e+06  -104.844582 -8.671634e-06   \n",
      "18  3.280371e+06 -104.064846  3.280163e+06  -104.064846  1.497461e-07   \n",
      "19  3.280267e+06 -103.800420  3.280060e+06  -103.800418  2.124517e-06   \n",
      "\n",
      "         pc_diff    prcp_v  \n",
      "0   2.281052e-10  914.4144  \n",
      "1   1.021828e-09  717.5952  \n",
      "2   7.080783e-10  862.7904  \n",
      "3   3.726567e-09  281.5344  \n",
      "4   1.000957e-09  210.9456  \n",
      "5   4.665654e-10   56.4192  \n",
      "6   1.713648e-11    0.0000  \n",
      "7   1.755669e-10    0.0000  \n",
      "8   8.357185e-11    0.0000  \n",
      "9   5.153179e-11    0.0000  \n",
      "10  1.371643e-11    0.0000  \n",
      "11  1.024574e-11    0.0000  \n",
      "12  1.131680e-09    0.0000  \n",
      "13  7.829738e-11   79.4448  \n",
      "14  2.832226e-12    0.0000  \n",
      "15  1.064243e-11   55.6848  \n",
      "16  1.853829e-12    0.0000  \n",
      "17  2.643576e-10    0.0000  \n",
      "18  4.565202e-12    0.0000  \n",
      "19  6.477069e-11    0.0000  \n",
      "    Removing all simulation run files...\n",
      "Error while deleting file :  ./slopes_only.out\n",
      "===========================================================\n",
      "Now processing... scen010\n",
      "    Run inputs copied\n",
      "    Running scenario-specific spinup\n",
      "    Scenario-specific spinup complete.\n",
      "    Time Elapsed:  2858.30783867836 s\n",
      "    Calculating vdz-aware subsurface storage for spinup\n",
      "b''\n",
      "None\n",
      "b''\n",
      "None\n",
      "    vdz-aware subsurface storage calc completed.\n",
      "    ss.head(10)\n",
      "\n",
      "   t       sum_val\n",
      "0  0  3.214728e+06\n",
      "1  1  3.215147e+06\n",
      "2  2  3.215483e+06\n",
      "3  3  3.215909e+06\n",
      "4  4  3.215987e+06\n",
      "5  5  3.216026e+06\n",
      "6  6  3.215971e+06\n",
      "7  7  3.215883e+06\n",
      "8  8  3.215796e+06\n",
      "9  9  3.215709e+06\n",
      "year-on-year subsurf storage percent change:\n",
      "\n",
      "0             NaN\n",
      "8610    -0.022104\n",
      "17220   -0.001080\n",
      "25830    0.003888\n",
      "34440    0.001600\n",
      "43050   -0.005411\n",
      "Name: sum_val, dtype: float64\n",
      "    Spinup stabilization PASSED\n",
      "    saving scenario-specific slopes_only_out.press43805.pfb as /home/theo/pf_files/pf_machine/scenarios/scens_inputs_specific/scen010/spin4.out.press.pfb...\n",
      "    Removing all spinup run files...\n",
      "Error while deleting file :  ./slopes_only.out\n",
      "    simulation files for scen010 copied to rundir\n",
      "    beginning scenario one-year simulation\n",
      "    Scenario one-year simulation complete.\n",
      "    Time Elapsed:  674.8920667171478 s\n",
      "b''\n",
      "None\n",
      "    Example of NLDAS nldas.head()\n",
      "\n",
      "   DSWR        DLWR      APCP         TMP  UGRD  VGRD         PRESS      SPFH\n",
      "0   0.0  306.959991  0.000212  270.720001 -0.66  1.46  98751.226562  0.003161\n",
      "1   0.0  306.959991  0.000166  270.950012 -0.51  1.10  98789.796875  0.003190\n",
      "2   0.0  306.959991  0.000200  271.179993 -0.37  0.73  98827.718750  0.003218\n",
      "3   0.0  306.019989  0.000065  271.410004 -0.22  0.36  98866.281250  0.003247\n",
      "4   0.0  306.019989  0.000049  271.309998 -0.24  0.18  98764.718750  0.003246\n",
      "b''\n",
      "None\n",
      "renaming output pfb files\n",
      "    Example of overland flow of.head()\n",
      "\n",
      "    t    sum_val\n",
      "0   1  75.360730\n",
      "1   2  75.385936\n",
      "2   3  75.420992\n",
      "3   4  75.423366\n",
      "4   5  75.421815\n",
      "5   6  75.411381\n",
      "6   7  75.397681\n",
      "7   8  75.384014\n",
      "8   9  75.370428\n",
      "9  10  75.356933\n"
     ]
    },
    {
     "name": "stdout",
     "output_type": "stream",
     "text": [
      "b''\n",
      "None\n",
      "    Example of surface storage s.head()\n",
      "\n",
      "   t       sum_val\n",
      "0  0  95373.249711\n",
      "1  1  95427.507467\n",
      "2  2  95469.101928\n",
      "3  3  95526.619256\n",
      "4  4  95534.573900\n",
      "5  5  95535.271311\n",
      "6  6  95521.186136\n",
      "7  7  95501.600333\n",
      "8  8  95481.970128\n",
      "9  9  95462.707709\n",
      "b''\n",
      "None\n",
      "    Example of subsurface storage ss.head()\n",
      "\n",
      "   t       sum_val\n",
      "0  0  3.136601e+06\n",
      "1  1  3.137124e+06\n",
      "2  2  3.137515e+06\n",
      "3  3  3.138007e+06\n",
      "4  4  3.138110e+06\n",
      "5  5  3.138171e+06\n",
      "6  6  3.138131e+06\n",
      "7  7  3.138055e+06\n",
      "8  8  3.137981e+06\n",
      "9  9  3.137907e+06\n",
      "b''\n",
      "None\n",
      "renaming output pfb files\n",
      "    Example of evapotranspiration et.head()\n",
      "\n",
      "   t     sum_val\n",
      "0  0  652.877604\n",
      "1  1  507.827201\n",
      "2  2  624.537862\n",
      "3  3  187.180009\n",
      "4  4  136.618399\n",
      "5  5   21.196060\n",
      "6  6  -19.773969\n",
      "7  7  -18.487248\n",
      "8  8  -17.685392\n",
      "9  9  -16.959757\n",
      "    Putting pieces of water balance together\n",
      "    Example of wb.head()\n",
      "\n",
      "     t  vdz_subsurfstor  overland_flow     surf_stor      vdz_et  \\\n",
      "0    0     3.136601e+06     -75.360730  95373.249711  652.877604   \n",
      "1    1     3.137124e+06     -75.385936  95427.507467  507.827201   \n",
      "2    2     3.137515e+06     -75.420992  95469.101928  624.537862   \n",
      "3    3     3.138007e+06     -75.423366  95526.619256  187.180009   \n",
      "4    4     3.138110e+06     -75.421815  95534.573900  136.618399   \n",
      "5    5     3.138171e+06     -75.411381  95535.271311   21.196060   \n",
      "6    6     3.138131e+06     -75.397681  95521.186136  -19.773969   \n",
      "7    7     3.138055e+06     -75.384014  95501.600333  -18.487248   \n",
      "8    8     3.137981e+06     -75.370428  95481.970128  -17.685392   \n",
      "9    9     3.137907e+06     -75.356933  95462.707709  -16.959757   \n",
      "10  10     3.137834e+06     -75.343561  95443.555917  -16.137975   \n",
      "11  11     3.137762e+06     -75.330085  95424.540771  -16.653633   \n",
      "12  12     3.137689e+06     -75.316199  95405.347722  -18.921265   \n",
      "13  13     3.137614e+06     -75.306893  95385.546776   41.107040   \n",
      "14  14     3.137593e+06     -75.292838  95372.759560  -21.817831   \n",
      "15  15     3.137516e+06     -75.281282  95352.756867   15.570509   \n",
      "16  16     3.137472e+06     -75.266194  95336.510295  -23.719816   \n",
      "17  17     3.137395e+06     -75.250965  95315.053403  -30.005359   \n",
      "18  18     3.137312e+06     -75.235824  95293.099494  -29.262671   \n",
      "19  19     3.137229e+06     -75.220629  95271.211229  -28.977144   \n",
      "\n",
      "         dom_tot   bndy_flux        exp_wb  dom_tot_chg          diff  \\\n",
      "0   3.231974e+06  577.516874  3.233129e+06   577.516938  6.320171e-05   \n",
      "1   3.232552e+06  432.441265  3.233417e+06   432.441265 -1.275313e-07   \n",
      "2   3.232984e+06  549.116869  3.234082e+06   549.116870  1.760113e-07   \n",
      "3   3.233533e+06  111.756643  3.233757e+06   111.756660  1.756038e-05   \n",
      "4   3.233645e+06   61.196584  3.233767e+06    61.196499 -8.513786e-05   \n",
      "5   3.233706e+06  -54.215320  3.233598e+06   -54.215323 -3.084482e-06   \n",
      "6   3.233652e+06  -95.171650  3.233462e+06   -95.171652 -1.863226e-06   \n",
      "7   3.233557e+06  -93.871262  3.233369e+06   -93.871261  8.232002e-07   \n",
      "8   3.233463e+06  -93.055819  3.233277e+06   -93.055820 -6.886641e-07   \n",
      "9   3.233370e+06  -92.316690  3.233185e+06   -92.316687  3.084797e-06   \n",
      "10  3.233278e+06  -91.481537  3.233095e+06   -91.481536  3.314284e-07   \n",
      "11  3.233186e+06  -91.983718  3.233002e+06   -91.983718  4.996676e-07   \n",
      "12  3.233094e+06  -94.237464  3.232906e+06   -94.237563 -9.919617e-05   \n",
      "13  3.233000e+06  -34.199853  3.232931e+06   -34.199855 -1.953834e-06   \n",
      "14  3.232966e+06  -97.110669  3.232771e+06   -97.110663  6.439984e-06   \n",
      "15  3.232869e+06  -59.710773  3.232749e+06   -59.710777 -3.556649e-06   \n",
      "16  3.232809e+06  -98.986010  3.232611e+06   -98.986006  3.635713e-06   \n",
      "17  3.232710e+06 -105.256324  3.232499e+06  -105.256306  1.725405e-05   \n",
      "18  3.232605e+06 -104.498494  3.232396e+06  -104.498103  3.909445e-04   \n",
      "19  3.232500e+06 -104.197773  3.232292e+06  -104.197771  1.529362e-06   \n",
      "\n",
      "         pc_diff    prcp_v  \n",
      "0   1.954816e-09  914.4144  \n",
      "1   3.944167e-12  717.5952  \n",
      "2   5.442388e-12  862.7904  \n",
      "3   5.430334e-10  281.5344  \n",
      "4   2.632776e-09  210.9456  \n",
      "5   9.538856e-11   56.4192  \n",
      "6   5.762325e-11    0.0000  \n",
      "7   2.545952e-11    0.0000  \n",
      "8   2.129926e-11    0.0000  \n",
      "9   9.541047e-11    0.0000  \n",
      "10  1.025112e-11    0.0000  \n",
      "11  1.545522e-11    0.0000  \n",
      "12  3.068329e-09    0.0000  \n",
      "13  6.043537e-11   79.4448  \n",
      "14  1.992094e-10    0.0000  \n",
      "15  1.100193e-10   55.6848  \n",
      "16  1.124699e-10    0.0000  \n",
      "17  5.337680e-10    0.0000  \n",
      "18  1.209458e-08    0.0000  \n",
      "19  4.731510e-11    0.0000  \n",
      "    Removing all simulation run files...\n",
      "Error while deleting file :  ./slopes_only.out\n",
      "===========================================================\n",
      "Now processing... scen011\n",
      "    Run inputs copied\n",
      "    Running scenario-specific spinup\n",
      "    Scenario-specific spinup complete.\n",
      "    Time Elapsed:  2857.9786248207092 s\n",
      "    Calculating vdz-aware subsurface storage for spinup\n",
      "b''\n",
      "None\n",
      "b''\n",
      "None\n",
      "    vdz-aware subsurface storage calc completed.\n",
      "    ss.head(10)\n",
      "\n",
      "   t       sum_val\n",
      "0  0  3.202394e+06\n",
      "1  1  3.202821e+06\n",
      "2  2  3.203166e+06\n",
      "3  3  3.203602e+06\n",
      "4  4  3.203688e+06\n",
      "5  5  3.203734e+06\n",
      "6  6  3.203688e+06\n",
      "7  7  3.203609e+06\n",
      "8  8  3.203529e+06\n",
      "9  9  3.203448e+06\n",
      "year-on-year subsurf storage percent change:\n",
      "\n",
      "0             NaN\n",
      "8610    -0.031704\n",
      "17220   -0.002660\n",
      "25830    0.003625\n",
      "34440    0.001686\n",
      "43050   -0.005697\n",
      "Name: sum_val, dtype: float64\n",
      "    Spinup stabilization PASSED\n",
      "    saving scenario-specific slopes_only_out.press43805.pfb as /home/theo/pf_files/pf_machine/scenarios/scens_inputs_specific/scen011/spin4.out.press.pfb...\n",
      "    Removing all spinup run files...\n",
      "Error while deleting file :  ./slopes_only.out\n",
      "    simulation files for scen011 copied to rundir\n",
      "    beginning scenario one-year simulation\n"
     ]
    },
    {
     "ename": "KeyboardInterrupt",
     "evalue": "",
     "output_type": "error",
     "traceback": [
      "\u001b[0;31m---------------------------------------------------------------------------\u001b[0m",
      "\u001b[0;31mKeyboardInterrupt\u001b[0m                         Traceback (most recent call last)",
      "\u001b[0;32m<ipython-input-3-eaed3048cc98>\u001b[0m in \u001b[0;36m<module>\u001b[0;34m\u001b[0m\n\u001b[1;32m    109\u001b[0m     \u001b[0mbashCommand\u001b[0m \u001b[0;34m=\u001b[0m \u001b[0;34m\"tclsh scen_run.tcl\"\u001b[0m\u001b[0;34m\u001b[0m\u001b[0;34m\u001b[0m\u001b[0m\n\u001b[1;32m    110\u001b[0m     \u001b[0mprocess\u001b[0m \u001b[0;34m=\u001b[0m \u001b[0msubprocess\u001b[0m\u001b[0;34m.\u001b[0m\u001b[0mPopen\u001b[0m\u001b[0;34m(\u001b[0m\u001b[0mbashCommand\u001b[0m\u001b[0;34m.\u001b[0m\u001b[0msplit\u001b[0m\u001b[0;34m(\u001b[0m\u001b[0;34m)\u001b[0m\u001b[0;34m,\u001b[0m \u001b[0mstdout\u001b[0m\u001b[0;34m=\u001b[0m\u001b[0msubprocess\u001b[0m\u001b[0;34m.\u001b[0m\u001b[0mPIPE\u001b[0m\u001b[0;34m)\u001b[0m\u001b[0;34m\u001b[0m\u001b[0;34m\u001b[0m\u001b[0m\n\u001b[0;32m--> 111\u001b[0;31m     \u001b[0moutput\u001b[0m\u001b[0;34m,\u001b[0m \u001b[0merror\u001b[0m \u001b[0;34m=\u001b[0m \u001b[0mprocess\u001b[0m\u001b[0;34m.\u001b[0m\u001b[0mcommunicate\u001b[0m\u001b[0;34m(\u001b[0m\u001b[0;34m)\u001b[0m\u001b[0;34m\u001b[0m\u001b[0;34m\u001b[0m\u001b[0m\n\u001b[0m\u001b[1;32m    112\u001b[0m     \u001b[0mend\u001b[0m \u001b[0;34m=\u001b[0m \u001b[0mtime\u001b[0m\u001b[0;34m.\u001b[0m\u001b[0mtime\u001b[0m\u001b[0;34m(\u001b[0m\u001b[0;34m)\u001b[0m\u001b[0;34m\u001b[0m\u001b[0;34m\u001b[0m\u001b[0m\n\u001b[1;32m    113\u001b[0m     \u001b[0mprint\u001b[0m\u001b[0;34m(\u001b[0m\u001b[0;34m'    Scenario one-year simulation complete.\\n    Time Elapsed:  %s s'\u001b[0m \u001b[0;34m%\u001b[0m\u001b[0;34m(\u001b[0m\u001b[0mend\u001b[0m \u001b[0;34m-\u001b[0m \u001b[0mstart\u001b[0m\u001b[0;34m)\u001b[0m\u001b[0;34m)\u001b[0m\u001b[0;34m\u001b[0m\u001b[0;34m\u001b[0m\u001b[0m\n",
      "\u001b[0;32m~/anaconda3/lib/python3.7/subprocess.py\u001b[0m in \u001b[0;36mcommunicate\u001b[0;34m(self, input, timeout)\u001b[0m\n\u001b[1;32m    918\u001b[0m                 \u001b[0mself\u001b[0m\u001b[0;34m.\u001b[0m\u001b[0m_stdin_write\u001b[0m\u001b[0;34m(\u001b[0m\u001b[0minput\u001b[0m\u001b[0;34m)\u001b[0m\u001b[0;34m\u001b[0m\u001b[0;34m\u001b[0m\u001b[0m\n\u001b[1;32m    919\u001b[0m             \u001b[0;32melif\u001b[0m \u001b[0mself\u001b[0m\u001b[0;34m.\u001b[0m\u001b[0mstdout\u001b[0m\u001b[0;34m:\u001b[0m\u001b[0;34m\u001b[0m\u001b[0;34m\u001b[0m\u001b[0m\n\u001b[0;32m--> 920\u001b[0;31m                 \u001b[0mstdout\u001b[0m \u001b[0;34m=\u001b[0m \u001b[0mself\u001b[0m\u001b[0;34m.\u001b[0m\u001b[0mstdout\u001b[0m\u001b[0;34m.\u001b[0m\u001b[0mread\u001b[0m\u001b[0;34m(\u001b[0m\u001b[0;34m)\u001b[0m\u001b[0;34m\u001b[0m\u001b[0;34m\u001b[0m\u001b[0m\n\u001b[0m\u001b[1;32m    921\u001b[0m                 \u001b[0mself\u001b[0m\u001b[0;34m.\u001b[0m\u001b[0mstdout\u001b[0m\u001b[0;34m.\u001b[0m\u001b[0mclose\u001b[0m\u001b[0;34m(\u001b[0m\u001b[0;34m)\u001b[0m\u001b[0;34m\u001b[0m\u001b[0;34m\u001b[0m\u001b[0m\n\u001b[1;32m    922\u001b[0m             \u001b[0;32melif\u001b[0m \u001b[0mself\u001b[0m\u001b[0;34m.\u001b[0m\u001b[0mstderr\u001b[0m\u001b[0;34m:\u001b[0m\u001b[0;34m\u001b[0m\u001b[0;34m\u001b[0m\u001b[0m\n",
      "\u001b[0;31mKeyboardInterrupt\u001b[0m: "
     ]
    }
   ],
   "source": [
    "rundir = '/home/theo/pf_files/pf_machine/scenarios/rundir'\n",
    "specif_inputs_dir = '/home/theo/pf_files/pf_machine/scenarios/scens_inputs_specific'\n",
    "common_inputs_dir = '/home/theo/pf_files/pf_machine/scenarios/scens_inputs_common'\n",
    "\n",
    "factors = np.array([[2.0],  # <- bottom\n",
    "                    [2.0],\n",
    "                    [2.0],\n",
    "                    [1.0],\n",
    "                    [1.0],\n",
    "                    [1.0],\n",
    "                    [0.25],\n",
    "                    [0.25],\n",
    "                    [0.25],\n",
    "                    [0.25]]) # <- top\n",
    "\n",
    "for i in range(9,116):\n",
    "    scen = 'scen%03d' %i\n",
    "\n",
    "    print('Now processing... %s' %scen)\n",
    "    \n",
    "    # Copy scenario-specific inputs into rundir\n",
    "    shutil.copy2('%s/%s/mann_scen.pfb' %(specif_inputs_dir, scen), '.')\n",
    "    shutil.copy2('%s/%s/ind_scen.pfb' %(specif_inputs_dir, scen), '.')\n",
    "    shutil.copy2('%s/%s/perm_scen.pfb' %(specif_inputs_dir, scen), '.')\n",
    "    shutil.copy2('%s/%s/drv_vegm.dat' %(specif_inputs_dir, scen), '.')\n",
    "    \n",
    "    # Copy scenario-common inputs into rundir\n",
    "    shutil.copy2('%s/dauphco.nldas.10yr.txt' %common_inputs_dir, '.')\n",
    "    shutil.copy2('%s/drv_clmin.dat' %common_inputs_dir, '.')\n",
    "    shutil.copy2('%s/drv_vegp.dat' %common_inputs_dir, '.')\n",
    "    shutil.copy2('%s/spin3.out.press.pfb' %common_inputs_dir, '.')\n",
    "    \n",
    "    print('    Run inputs copied')\n",
    "    \n",
    "    #########################################\n",
    "    # Run scenario-specific spinup (5 years)\n",
    "    #########################################\n",
    "    print('    Running scenario-specific spinup')\n",
    "    start = time.time()\n",
    "    bashCommand = \"tclsh scen_spin.tcl\"\n",
    "    process = subprocess.Popen(bashCommand.split(), stdout=subprocess.PIPE)\n",
    "    output, error = process.communicate()\n",
    "    end = time.time()\n",
    "    print('    Scenario-specific spinup complete.\\n    Time Elapsed:  %s s' %(end - start))\n",
    "    \n",
    "    \n",
    "    #########################################\n",
    "    # Calculate vdz-aware susburface storage\n",
    "    #########################################\n",
    "    print('    Calculating vdz-aware subsurface storage for spinup')\n",
    "    cur_stop = 43805\n",
    "    \n",
    "    # create silos needed for subsurf stor\n",
    "    bashCommand = \"tclsh write_subsurf_silos.tcl %s %s %s %s\" %(rundir,'slopes_only',0,cur_stop)\n",
    "    process = subprocess.Popen(bashCommand.split(), stdout=subprocess.PIPE)\n",
    "    output, error = process.communicate()\n",
    "    print(output)\n",
    "    print(error)\n",
    "    \n",
    "    # convert silos to pfbs\n",
    "    silo2pfb(rundir = rundir, bnam ='subsurface_storage' , start= 0, stop=cur_stop)\n",
    "    \n",
    "    # scale pfbs using factors\n",
    "    for i in range(0,cur_stop+1):\n",
    "        infnam = '%s/subsurface_storage.%s.pfb' %(rundir, i)\n",
    "        outfnam = '%s/vdz_subsurface_storage.%s.pfb' %(rundir,i)\n",
    "\n",
    "        scale_pfb(pfbinfnam = infnam, vdzarr = factors, pfboutfnam = outfnam, \n",
    "             nx = 12, ny = 10, dx = 10, dy = 10, dz = 1)\n",
    "\n",
    "    ss = sumoverdomain(rundir = rundir,\n",
    "                       bnam = 'vdz_subsurface_storage',start = 0, stop= cur_stop)\n",
    "    print('    vdz-aware subsurface storage calc completed.\\n    ss.head(10)\\n')\n",
    "    print(ss.head(10))\n",
    "    \n",
    "    # checking subsurf storage stabilized\n",
    "    print('year-on-year subsurf storage percent change:\\n')\n",
    "    print(ss['sum_val'][list(np.multiply(8610, [0,1,2,3,4,5]))].pct_change())\n",
    "    \n",
    "    if (abs(ss['sum_val'][list(np.multiply(8610, [0,1,2,3,4,5]))].pct_change().tail(1)) > 0.01).iloc[0] > 0.01:\n",
    "        print('    WARNING %s spinup change from year 4 to year 5 NOT LESS THAN 1pc' %scen)\n",
    "        print('    continuing with next scenario...')\n",
    "        print('===========================================================')\n",
    "        break\n",
    "    \n",
    "    print('    Spinup stabilization PASSED')\n",
    "    \n",
    "    # Save and rename the last pressure file\n",
    "    print('    saving scenario-specific slopes_only_out.press43805.pfb as %s/%s/spin4.out.press.pfb...' %(specif_inputs_dir, scen))\n",
    "    os.rename('slopes_only.out.press.43805.pfb', '%s/%s/spin4.out.press.pfb' %(specif_inputs_dir, scen))\n",
    "    \n",
    "    # Removing spinup run files to save memory\n",
    "    print('    Removing all spinup run files...')\n",
    "    delete_run_files()\n",
    "    \n",
    "    ####################################################\n",
    "    # Run scenario one-year simulation for water balance\n",
    "    ####################################################\n",
    "    scen_files = os.listdir('%s/%s' %(specif_inputs_dir, scen))\n",
    "    for file_name in scen_files:\n",
    "        full_file_name = os.path.join('%s/%s' %(specif_inputs_dir, scen), file_name)\n",
    "        if os.path.isfile(full_file_name):\n",
    "            shutil.copy(full_file_name, '.')\n",
    "    \n",
    "    print('    simulation files for %s copied to rundir' %scen)\n",
    "    \n",
    "    print('    beginning scenario one-year simulation')\n",
    "    start = time.time()\n",
    "    bashCommand = \"tclsh scen_run.tcl\"\n",
    "    process = subprocess.Popen(bashCommand.split(), stdout=subprocess.PIPE)\n",
    "    output, error = process.communicate()\n",
    "    end = time.time()\n",
    "    print('    Scenario one-year simulation complete.\\n    Time Elapsed:  %s s' %(end - start))\n",
    "    \n",
    "    ############################\n",
    "    # Calculate Water Balance\n",
    "    ############################\n",
    "    cur_stop = 8761\n",
    "    \n",
    "    # Write silo files for water balance\n",
    "    bashCommand = \"tclsh write_wb_silos.tcl %s %s %s %s\" %(rundir,'slopes_only',0,cur_stop)\n",
    "    process = subprocess.Popen(bashCommand.split(), stdout=subprocess.PIPE)\n",
    "    output, error = process.communicate()\n",
    "    print(output)\n",
    "    print(error)\n",
    "    \n",
    "    # Read in NLDAS input\n",
    "    nldas = pd.read_fwf('%s/dauphco.nldas.10yr.txt' %rundir, header = None, sep = '')\n",
    "    nldas.columns = ['DSWR', 'DLWR', 'APCP', 'TMP', 'UGRD', 'VGRD', 'PRESS', 'SPFH']\n",
    "    print('    Example of NLDAS nldas.head()\\n')\n",
    "    print(nldas.head())\n",
    "    \n",
    "    prcp_m_hr = nldas.APCP/1000*60*60 # meters per hour precipitation\n",
    "    prcp_v = prcp_m_hr*1200*1000 # total precip volume over domain (to use in water balance)\n",
    "    \n",
    "    # Overland Flow\n",
    "    silo2pfb(rundir = rundir, \n",
    "         bnam ='slopes_only.out.overlandsum' , start= 1, stop=cur_stop, fw = 1)\n",
    "\n",
    "    of = sumoverdomain(rundir = rundir, \n",
    "                       bnam = 'overlandsum',start = 1, stop= cur_stop)\n",
    "    of['sum_val'] = of['sum_val']\n",
    "    print('    Example of overland flow of.head()\\n')\n",
    "    print(of.head(10))\n",
    "    \n",
    "    # Surface storage\n",
    "    silo2pfb(rundir = rundir, bnam ='surface_storage' , start= 0, stop=cur_stop)\n",
    "    s = sumoverdomain(rundir = rundir, bnam = 'surface_storage',start = 0, stop= cur_stop)\n",
    "    print('    Example of surface storage s.head()\\n')\n",
    "    print(s.head(10))\n",
    "    \n",
    "    # Subsurface storage\n",
    "    # convert silos to pfbs\n",
    "    silo2pfb(rundir = rundir, bnam ='subsurface_storage' , start= 0, stop=cur_stop)\n",
    "\n",
    "    # scale pfbs using factors\n",
    "    for i in range(0,cur_stop+1):\n",
    "        infnam = '%s/subsurface_storage.%s.pfb' %(rundir, i)\n",
    "        outfnam = '%s/vdz_subsurface_storage.%s.pfb' %(rundir,i)\n",
    "\n",
    "        scale_pfb(pfbinfnam = infnam, vdzarr = factors, pfboutfnam = outfnam, \n",
    "             nx = 12, ny = 10, dx = 10, dy = 10, dz = 1)\n",
    "\n",
    "    ss = sumoverdomain(rundir = rundir,\n",
    "                       bnam = 'vdz_subsurface_storage',start = 0, stop= cur_stop)\n",
    "    \n",
    "    print('    Example of subsurface storage ss.head()\\n')\n",
    "    print(ss.head(10))\n",
    "    \n",
    "    # Evapotranspiration\n",
    "    silo2pfb(rundir = rundir, \n",
    "         bnam ='slopes_only.out.evaptranssum' , start= 1, stop=cur_stop, fw = 1)\n",
    "\n",
    "    # scale pfbs using factors\n",
    "    for i in range(1,cur_stop):\n",
    "        infnam = '%s/evaptranssum.%s.pfb' %(rundir, i)\n",
    "        outfnam = '%s/vdz_evaptranssum.%s.pfb' %(rundir,i)\n",
    "\n",
    "        scale_pfb(pfbinfnam = infnam, vdzarr = factors, pfboutfnam = outfnam, \n",
    "             nx = 12, ny = 10, dx = 10, dy = 10, dz = 1)\n",
    "\n",
    "    et = sumoverdomain(rundir = rundir, \n",
    "                       bnam = 'vdz_evaptranssum',start = 1, stop= cur_stop)\n",
    "    et['sum_val'] = et['sum_val']\n",
    "    et['t'] = et['t'] - 1\n",
    "    print('    Example of evapotranspiration et.head()\\n')\n",
    "    print(et.head(10))\n",
    "    \n",
    "    \n",
    "    # Put pieces of water balance together\n",
    "    print('    Putting pieces of water balance together')\n",
    "    wb = ss.merge(of, on = 't', how = 'left').merge(s, on = 't', how = 'left').merge(et, on = 't', how = 'left')\n",
    "    wb.columns = ['t', 'vdz_subsurfstor', 'overland_flow', 'surf_stor', 'vdz_et']\n",
    "    wb['overland_flow'] = (- wb['overland_flow'])  \n",
    "    wb['overland_flow'] = wb['overland_flow'].shift(-1)  \n",
    "    wb['dom_tot'] = wb['vdz_subsurfstor'] +  wb['surf_stor'] \n",
    "    wb['bndy_flux'] = wb['vdz_et'] + wb['overland_flow']                \n",
    "    wb['exp_wb'] = wb['dom_tot'].shift(-1) + wb['bndy_flux']\n",
    "    wb['dom_tot_chg'] = wb['dom_tot'].diff()\n",
    "    wb['dom_tot_chg'] = wb['dom_tot_chg'].shift(-1)\n",
    "    wb['diff'] = wb['dom_tot_chg'] - wb['bndy_flux']\n",
    "    wb['pc_diff'] = abs(wb['diff'])/wb['exp_wb']*100\n",
    "    wb['prcp_v'] = prcp_v[:cur_stop]\n",
    "\n",
    "    print('    Example of wb.head()\\n')\n",
    "    print(wb.head(20))\n",
    "\n",
    "    # check what the pct differences are\n",
    "    if abs(max(wb.pc_diff.dropna())) > 0.0005:\n",
    "        print('    WARNING %s water balance not closing' %scen)\n",
    "        print('    continuing with next scenario...')\n",
    "        print('===========================================================')\n",
    "        break\n",
    "    \n",
    "    # Save the water balance\n",
    "    wb.to_csv('/home/theo/pf_files/pf_machine/scenarios/wb_outputs/wb_%s.csv' %scen)\n",
    "    \n",
    "    # Remove run files to save memory\n",
    "    print('    Removing all simulation run files...')\n",
    "    delete_run_files()\n",
    "    \n",
    "    \n",
    "    print('===========================================================')"
   ]
  },
  {
   "cell_type": "markdown",
   "metadata": {},
   "source": [
    "# TESTING"
   ]
  },
  {
   "cell_type": "markdown",
   "metadata": {},
   "source": [
    "# Copy scenario-specific inputs into run directory"
   ]
  },
  {
   "cell_type": "code",
   "execution_count": 5,
   "metadata": {},
   "outputs": [],
   "source": [
    "scen = 'scen000'"
   ]
  },
  {
   "cell_type": "code",
   "execution_count": 6,
   "metadata": {
    "scrolled": true
   },
   "outputs": [
    {
     "name": "stdout",
     "output_type": "stream",
     "text": [
      "/home/theo/pf_files/pf_machine/scenarios/scens_inputs_specific/scen000/mann_scen.pfb\n",
      "/home/theo/pf_files/pf_machine/scenarios/scens_inputs_specific/scen000/spin4.out.press.pfb\n",
      "/home/theo/pf_files/pf_machine/scenarios/scens_inputs_specific/scen000/perm_scen.pfb\n",
      "/home/theo/pf_files/pf_machine/scenarios/scens_inputs_specific/scen000/drv_vegm.dat\n",
      "/home/theo/pf_files/pf_machine/scenarios/scens_inputs_specific/scen000/ind_scen.pfb\n"
     ]
    },
    {
     "data": {
      "text/plain": [
       "[None, None, None, None, None]"
      ]
     },
     "execution_count": 6,
     "metadata": {},
     "output_type": "execute_result"
    }
   ],
   "source": [
    "[print (f) for f in glob.glob('%s/%s/*' %(scendir_base, scen))]\n"
   ]
  },
  {
   "cell_type": "code",
   "execution_count": 7,
   "metadata": {},
   "outputs": [
    {
     "data": {
      "text/plain": [
       "'/home/theo/pf_files/pf_machine/scenarios/scens_inputs_specific/scen000/*'"
      ]
     },
     "execution_count": 7,
     "metadata": {},
     "output_type": "execute_result"
    }
   ],
   "source": [
    "'%s/%s/*' %(scendir_base, scen)"
   ]
  },
  {
   "cell_type": "code",
   "execution_count": 13,
   "metadata": {
    "scrolled": true
   },
   "outputs": [
    {
     "data": {
      "text/plain": [
       "'./drv_vegm.dat'"
      ]
     },
     "execution_count": 13,
     "metadata": {},
     "output_type": "execute_result"
    }
   ],
   "source": [
    "shutil.copy2('%s/%s/mann_scen.pfb' %(scendir_base, scen), '.')\n",
    "shutil.copy2('%s/%s/ind_scen.pfb' %(scendir_base, scen), '.')\n",
    "shutil.copy2('%s/%s/perm_scen.pfb' %(scendir_base, scen), '.')\n",
    "shutil.copy2('%s/%s/drv_vegm.dat' %(scendir_base, scen), '.')"
   ]
  },
  {
   "cell_type": "markdown",
   "metadata": {},
   "source": [
    "# Copy scenario-common files into run directory "
   ]
  },
  {
   "cell_type": "code",
   "execution_count": 14,
   "metadata": {},
   "outputs": [
    {
     "data": {
      "text/plain": [
       "'./drv_vegp.dat'"
      ]
     },
     "execution_count": 14,
     "metadata": {},
     "output_type": "execute_result"
    }
   ],
   "source": [
    "shutil.copy2('%s/dauphco.nldas.10yr.txt' %clm_inputs_dir, '.')\n",
    "shutil.copy2('%s/drv_clmin.dat' %clm_inputs_dir, '.')\n",
    "shutil.copy2('%s/drv_vegp.dat' %clm_inputs_dir, '.')"
   ]
  },
  {
   "cell_type": "markdown",
   "metadata": {},
   "source": [
    "# Run Scenario-specific spinup\n",
    "\n",
    "multiple core test (for 1000 timesteps):\n",
    "\n",
    "1,1,1: 57 s\n",
    "2,2,1: 52 s\n",
    "4,4,1: 59 s\n",
    "\n",
    "multiple core test (for 5000 timesteps):\n",
    "\n",
    "1,1,1: 401 s\n",
    "2,2,1: 325 s\n",
    "4,4,1: 394 s\n",
    "4,2,1: 342 s"
   ]
  },
  {
   "cell_type": "code",
   "execution_count": 20,
   "metadata": {},
   "outputs": [
    {
     "name": "stdout",
     "output_type": "stream",
     "text": [
      "Time Elapsed:  342.6045961380005 s\n"
     ]
    }
   ],
   "source": [
    "start = time.time()\n",
    "bashCommand = \"tclsh scen_spin.tcl\"\n",
    "process = subprocess.Popen(bashCommand.split(), stdout=subprocess.PIPE)\n",
    "output, error = process.communicate()\n",
    "end = time.time()\n",
    "print('Time Elapsed:  %s s' %(end - start))"
   ]
  },
  {
   "cell_type": "code",
   "execution_count": 21,
   "metadata": {},
   "outputs": [
    {
     "name": "stdout",
     "output_type": "stream",
     "text": [
      "\n",
      "\n",
      "\n",
      "\n",
      "\n",
      "ParFlow run complete\n",
      "Using process grid (4,2,1)\n",
      "Using process grid (4,2,1)\n",
      "Using process grid (4,2,1)\n",
      "Using process grid (4,2,1)\n",
      "\n"
     ]
    }
   ],
   "source": [
    "print(output.decode(\"utf-8\").format())"
   ]
  },
  {
   "cell_type": "markdown",
   "metadata": {},
   "source": [
    "# Calculate vdz_subsurf storage"
   ]
  },
  {
   "cell_type": "code",
   "execution_count": 23,
   "metadata": {},
   "outputs": [],
   "source": [
    "rundir = '/home/theo/pf_files/pf_machine/scenarios/rundir'\n",
    "#cur_stop = 10\n",
    "cur_stop = 43805 # five years of scenario-specific spinup"
   ]
  },
  {
   "cell_type": "code",
   "execution_count": 24,
   "metadata": {},
   "outputs": [
    {
     "name": "stdout",
     "output_type": "stream",
     "text": [
      "b''\n",
      "None\n"
     ]
    }
   ],
   "source": [
    "# create silos needed for subsurf stor\n",
    "bashCommand = \"tclsh write_subsurf_silos.tcl %s %s %s %s\" %(rundir,'slopes_only',0,cur_stop)\n",
    "process = subprocess.Popen(bashCommand.split(), stdout=subprocess.PIPE)\n",
    "output, error = process.communicate()\n",
    "print(output)\n",
    "print(error)"
   ]
  },
  {
   "cell_type": "code",
   "execution_count": 25,
   "metadata": {},
   "outputs": [],
   "source": [
    "factors = np.array([[2.0],  # <- bottom\n",
    "                    [2.0],\n",
    "                    [2.0],\n",
    "                    [1.0],\n",
    "                    [1.0],\n",
    "                    [1.0],\n",
    "                    [0.25],\n",
    "                    [0.25],\n",
    "                    [0.25],\n",
    "                    [0.25]]) # <- top"
   ]
  },
  {
   "cell_type": "code",
   "execution_count": 26,
   "metadata": {},
   "outputs": [
    {
     "name": "stdout",
     "output_type": "stream",
     "text": [
      "b''\n",
      "None\n"
     ]
    }
   ],
   "source": [
    "\n",
    "# convert silos to pfbs\n",
    "silo2pfb(rundir = rundir, bnam ='subsurface_storage' , start= 0, stop=cur_stop)\n"
   ]
  },
  {
   "cell_type": "code",
   "execution_count": 27,
   "metadata": {},
   "outputs": [
    {
     "data": {
      "text/html": [
       "<div>\n",
       "<style scoped>\n",
       "    .dataframe tbody tr th:only-of-type {\n",
       "        vertical-align: middle;\n",
       "    }\n",
       "\n",
       "    .dataframe tbody tr th {\n",
       "        vertical-align: top;\n",
       "    }\n",
       "\n",
       "    .dataframe thead th {\n",
       "        text-align: right;\n",
       "    }\n",
       "</style>\n",
       "<table border=\"1\" class=\"dataframe\">\n",
       "  <thead>\n",
       "    <tr style=\"text-align: right;\">\n",
       "      <th></th>\n",
       "      <th>t</th>\n",
       "      <th>sum_val</th>\n",
       "    </tr>\n",
       "  </thead>\n",
       "  <tbody>\n",
       "    <tr>\n",
       "      <th>0</th>\n",
       "      <td>0</td>\n",
       "      <td>3.261884e+06</td>\n",
       "    </tr>\n",
       "    <tr>\n",
       "      <th>1</th>\n",
       "      <td>1</td>\n",
       "      <td>3.262279e+06</td>\n",
       "    </tr>\n",
       "    <tr>\n",
       "      <th>2</th>\n",
       "      <td>2</td>\n",
       "      <td>3.262577e+06</td>\n",
       "    </tr>\n",
       "    <tr>\n",
       "      <th>3</th>\n",
       "      <td>3</td>\n",
       "      <td>3.262965e+06</td>\n",
       "    </tr>\n",
       "    <tr>\n",
       "      <th>4</th>\n",
       "      <td>4</td>\n",
       "      <td>3.263002e+06</td>\n",
       "    </tr>\n",
       "    <tr>\n",
       "      <th>5</th>\n",
       "      <td>5</td>\n",
       "      <td>3.263000e+06</td>\n",
       "    </tr>\n",
       "    <tr>\n",
       "      <th>6</th>\n",
       "      <td>6</td>\n",
       "      <td>3.262907e+06</td>\n",
       "    </tr>\n",
       "    <tr>\n",
       "      <th>7</th>\n",
       "      <td>7</td>\n",
       "      <td>3.262780e+06</td>\n",
       "    </tr>\n",
       "    <tr>\n",
       "      <th>8</th>\n",
       "      <td>8</td>\n",
       "      <td>3.262653e+06</td>\n",
       "    </tr>\n",
       "    <tr>\n",
       "      <th>9</th>\n",
       "      <td>9</td>\n",
       "      <td>3.262526e+06</td>\n",
       "    </tr>\n",
       "  </tbody>\n",
       "</table>\n",
       "</div>"
      ],
      "text/plain": [
       "   t       sum_val\n",
       "0  0  3.261884e+06\n",
       "1  1  3.262279e+06\n",
       "2  2  3.262577e+06\n",
       "3  3  3.262965e+06\n",
       "4  4  3.263002e+06\n",
       "5  5  3.263000e+06\n",
       "6  6  3.262907e+06\n",
       "7  7  3.262780e+06\n",
       "8  8  3.262653e+06\n",
       "9  9  3.262526e+06"
      ]
     },
     "execution_count": 27,
     "metadata": {},
     "output_type": "execute_result"
    }
   ],
   "source": [
    "# scale pfbs using factors\n",
    "for i in range(0,cur_stop+1):\n",
    "    infnam = '%s/subsurface_storage.%s.pfb' %(rundir, i)\n",
    "    outfnam = '%s/vdz_subsurface_storage.%s.pfb' %(rundir,i)\n",
    "    \n",
    "    scale_pfb(pfbinfnam = infnam, vdzarr = factors, pfboutfnam = outfnam, \n",
    "         nx = 12, ny = 10, dx = 10, dy = 10, dz = 1)\n",
    "    \n",
    "ss = sumoverdomain(rundir = rundir,\n",
    "                   bnam = 'vdz_subsurface_storage',start = 0, stop= cur_stop)\n",
    "ss.head(10)\n"
   ]
  },
  {
   "cell_type": "markdown",
   "metadata": {},
   "source": [
    "### Check each year's volume pc change"
   ]
  },
  {
   "cell_type": "code",
   "execution_count": 15,
   "metadata": {
    "scrolled": true
   },
   "outputs": [
    {
     "data": {
      "text/plain": [
       "0             NaN\n",
       "8610     0.010764\n",
       "17220    0.012395\n",
       "25830    0.007813\n",
       "34440    0.002453\n",
       "43050   -0.004638\n",
       "Name: sum_val, dtype: float64"
      ]
     },
     "execution_count": 15,
     "metadata": {},
     "output_type": "execute_result"
    }
   ],
   "source": [
    "print(ss['sum_val'][list(np.multiply(8610, [0,1,2,3,4,5]))].pct_change())"
   ]
  },
  {
   "cell_type": "markdown",
   "metadata": {},
   "source": [
    "# Save and rename the last pressure file\n",
    "Put it in the scenario directory"
   ]
  },
  {
   "cell_type": "code",
   "execution_count": 20,
   "metadata": {},
   "outputs": [
    {
     "data": {
      "text/plain": [
       "'/home/theo/pf_files/pf_machine/scenarios/scens_inputs_subsurf/scen000/mann_scen.pfb'"
      ]
     },
     "execution_count": 20,
     "metadata": {},
     "output_type": "execute_result"
    }
   ],
   "source": [
    "'%s/%s/spin4.out.press.pfb' %(scendir_base, scen)"
   ]
  },
  {
   "cell_type": "code",
   "execution_count": 21,
   "metadata": {},
   "outputs": [],
   "source": [
    "os.rename('slopes_only.out.press.43805.pfb', '%s/%s/spin4.out.press.pfb' %(scendir_base, scen))"
   ]
  },
  {
   "cell_type": "markdown",
   "metadata": {},
   "source": [
    "# Remove memory-eating runtime files\n",
    "\n",
    "This is the bash script:\n",
    "\n",
    "```\n",
    "find . -name \"slopes_only*\" -print0 | xargs -0 rm\n",
    "find . -name \"*silo\" -print0 | xargs -0 rm\n",
    "find . -name \"*pfb\" -print0 | xargs -0 rm\n",
    "rm gp*\n",
    "```"
   ]
  },
  {
   "cell_type": "code",
   "execution_count": 25,
   "metadata": {},
   "outputs": [
    {
     "name": "stdout",
     "output_type": "stream",
     "text": [
      "Removed slopes_only*\n",
      "Time Elapsed:  0.02194666862487793 s\n"
     ]
    }
   ],
   "source": [
    "delete_run_files()"
   ]
  },
  {
   "cell_type": "markdown",
   "metadata": {},
   "source": [
    "# Re-copy input files scenario directory\n",
    "\n",
    "This should include the original subsurface pfbs, and spin4.out.press.pfb from the scenario-specific spinup"
   ]
  },
  {
   "cell_type": "code",
   "execution_count": 41,
   "metadata": {},
   "outputs": [
    {
     "data": {
      "text/plain": [
       "'/home/theo/pf_files/pf_machine/scenarios/scens_inputs_subsurf/scen000'"
      ]
     },
     "execution_count": 41,
     "metadata": {},
     "output_type": "execute_result"
    }
   ],
   "source": [
    "scendir_base\n",
    "scen\n",
    "scendir = '%s/%s' %(scendir_base, scen)\n",
    "scendir"
   ]
  },
  {
   "cell_type": "code",
   "execution_count": 43,
   "metadata": {},
   "outputs": [
    {
     "data": {
      "text/plain": [
       "['mann_scen.pfb', 'spin4.out.press.pfb', 'perm_scen.pfb', 'ind_scen.pfb']"
      ]
     },
     "execution_count": 43,
     "metadata": {},
     "output_type": "execute_result"
    }
   ],
   "source": [
    "scen_files"
   ]
  },
  {
   "cell_type": "code",
   "execution_count": 44,
   "metadata": {},
   "outputs": [],
   "source": [
    "scen_files = os.listdir(scendir)\n",
    "for file_name in scen_files:\n",
    "    full_file_name = os.path.join(scendir, file_name)\n",
    "    if os.path.isfile(full_file_name):\n",
    "        shutil.copy(full_file_name, '.')"
   ]
  },
  {
   "cell_type": "markdown",
   "metadata": {},
   "source": [
    "# Run one year"
   ]
  },
  {
   "cell_type": "code",
   "execution_count": 48,
   "metadata": {},
   "outputs": [
    {
     "name": "stdout",
     "output_type": "stream",
     "text": [
      "Time Elapsed:  705.4529099464417 s\n"
     ]
    }
   ],
   "source": [
    "start = time.time()\n",
    "bashCommand = \"tclsh scen_run.tcl\"\n",
    "process = subprocess.Popen(bashCommand.split(), stdout=subprocess.PIPE)\n",
    "output, error = process.communicate()\n",
    "end = time.time()\n",
    "print('Time Elapsed:  %s s' %(end - start))"
   ]
  },
  {
   "cell_type": "code",
   "execution_count": 47,
   "metadata": {},
   "outputs": [
    {
     "name": "stdout",
     "output_type": "stream",
     "text": [
      "\n"
     ]
    }
   ],
   "source": [
    "print(output.decode(\"utf-8\").format())"
   ]
  },
  {
   "cell_type": "markdown",
   "metadata": {},
   "source": [
    "# Calculate Water Balance"
   ]
  },
  {
   "cell_type": "code",
   "execution_count": 51,
   "metadata": {},
   "outputs": [],
   "source": [
    "cur_stop = 8761"
   ]
  },
  {
   "cell_type": "markdown",
   "metadata": {},
   "source": [
    "##  Write Silo Files for Water Balance"
   ]
  },
  {
   "cell_type": "code",
   "execution_count": 54,
   "metadata": {},
   "outputs": [
    {
     "name": "stdout",
     "output_type": "stream",
     "text": [
      "b''\n",
      "None\n"
     ]
    }
   ],
   "source": [
    "bashCommand = \"tclsh write_wb_silos.tcl %s %s %s %s\" %(rundir,'slopes_only',0,cur_stop)\n",
    "process = subprocess.Popen(bashCommand.split(), stdout=subprocess.PIPE)\n",
    "output, error = process.communicate()\n",
    "print(output)\n",
    "print(error)"
   ]
  },
  {
   "cell_type": "markdown",
   "metadata": {},
   "source": [
    "## Read in NLDAS input "
   ]
  },
  {
   "cell_type": "code",
   "execution_count": 61,
   "metadata": {},
   "outputs": [],
   "source": [
    "nldas = pd.read_fwf('%s/dauphco.nldas.10yr.txt' %rundir, header = None, sep = '')\n",
    "nldas.columns = ['DSWR', 'DLWR', 'APCP', 'TMP', 'UGRD', 'VGRD', 'PRESS', 'SPFH']\n",
    "nldas.head()\n",
    "prcp_m_hr = nldas.APCP/1000*60*60 # meters per hour precipitation\n",
    "prcp_v = prcp_m_hr*1200*1000 # total precip volume over domain (to use in water balance)"
   ]
  },
  {
   "cell_type": "markdown",
   "metadata": {},
   "source": [
    "## Overland Flow "
   ]
  },
  {
   "cell_type": "code",
   "execution_count": 56,
   "metadata": {},
   "outputs": [
    {
     "name": "stdout",
     "output_type": "stream",
     "text": [
      "b''\n",
      "None\n",
      "renaming output pfb files\n"
     ]
    },
    {
     "data": {
      "text/html": [
       "<div>\n",
       "<style scoped>\n",
       "    .dataframe tbody tr th:only-of-type {\n",
       "        vertical-align: middle;\n",
       "    }\n",
       "\n",
       "    .dataframe tbody tr th {\n",
       "        vertical-align: top;\n",
       "    }\n",
       "\n",
       "    .dataframe thead th {\n",
       "        text-align: right;\n",
       "    }\n",
       "</style>\n",
       "<table border=\"1\" class=\"dataframe\">\n",
       "  <thead>\n",
       "    <tr style=\"text-align: right;\">\n",
       "      <th></th>\n",
       "      <th>t</th>\n",
       "      <th>sum_val</th>\n",
       "    </tr>\n",
       "  </thead>\n",
       "  <tbody>\n",
       "    <tr>\n",
       "      <th>0</th>\n",
       "      <td>1</td>\n",
       "      <td>98.036517</td>\n",
       "    </tr>\n",
       "    <tr>\n",
       "      <th>1</th>\n",
       "      <td>2</td>\n",
       "      <td>112.069583</td>\n",
       "    </tr>\n",
       "    <tr>\n",
       "      <th>2</th>\n",
       "      <td>3</td>\n",
       "      <td>128.935113</td>\n",
       "    </tr>\n",
       "    <tr>\n",
       "      <th>3</th>\n",
       "      <td>4</td>\n",
       "      <td>106.983865</td>\n",
       "    </tr>\n",
       "    <tr>\n",
       "      <th>4</th>\n",
       "      <td>5</td>\n",
       "      <td>92.887362</td>\n",
       "    </tr>\n",
       "    <tr>\n",
       "      <th>5</th>\n",
       "      <td>6</td>\n",
       "      <td>78.819071</td>\n",
       "    </tr>\n",
       "    <tr>\n",
       "      <th>6</th>\n",
       "      <td>7</td>\n",
       "      <td>69.332908</td>\n",
       "    </tr>\n",
       "    <tr>\n",
       "      <th>7</th>\n",
       "      <td>8</td>\n",
       "      <td>64.372935</td>\n",
       "    </tr>\n",
       "    <tr>\n",
       "      <th>8</th>\n",
       "      <td>9</td>\n",
       "      <td>61.696368</td>\n",
       "    </tr>\n",
       "    <tr>\n",
       "      <th>9</th>\n",
       "      <td>10</td>\n",
       "      <td>60.232115</td>\n",
       "    </tr>\n",
       "  </tbody>\n",
       "</table>\n",
       "</div>"
      ],
      "text/plain": [
       "    t     sum_val\n",
       "0   1   98.036517\n",
       "1   2  112.069583\n",
       "2   3  128.935113\n",
       "3   4  106.983865\n",
       "4   5   92.887362\n",
       "5   6   78.819071\n",
       "6   7   69.332908\n",
       "7   8   64.372935\n",
       "8   9   61.696368\n",
       "9  10   60.232115"
      ]
     },
     "execution_count": 56,
     "metadata": {},
     "output_type": "execute_result"
    }
   ],
   "source": [
    "silo2pfb(rundir = rundir, \n",
    "         bnam ='slopes_only.out.overlandsum' , start= 1, stop=cur_stop, fw = 1)\n",
    "\n",
    "of = sumoverdomain(rundir = rundir, \n",
    "                   bnam = 'overlandsum',start = 1, stop= cur_stop)\n",
    "of['sum_val'] = of['sum_val']\n",
    "\n",
    "of.head(10)"
   ]
  },
  {
   "cell_type": "markdown",
   "metadata": {},
   "source": [
    "## Surface Storage"
   ]
  },
  {
   "cell_type": "code",
   "execution_count": 57,
   "metadata": {},
   "outputs": [
    {
     "name": "stdout",
     "output_type": "stream",
     "text": [
      "b''\n",
      "None\n"
     ]
    },
    {
     "data": {
      "text/html": [
       "<div>\n",
       "<style scoped>\n",
       "    .dataframe tbody tr th:only-of-type {\n",
       "        vertical-align: middle;\n",
       "    }\n",
       "\n",
       "    .dataframe tbody tr th {\n",
       "        vertical-align: top;\n",
       "    }\n",
       "\n",
       "    .dataframe thead th {\n",
       "        text-align: right;\n",
       "    }\n",
       "</style>\n",
       "<table border=\"1\" class=\"dataframe\">\n",
       "  <thead>\n",
       "    <tr style=\"text-align: right;\">\n",
       "      <th></th>\n",
       "      <th>t</th>\n",
       "      <th>sum_val</th>\n",
       "    </tr>\n",
       "  </thead>\n",
       "  <tbody>\n",
       "    <tr>\n",
       "      <th>0</th>\n",
       "      <td>0</td>\n",
       "      <td>62271.597645</td>\n",
       "    </tr>\n",
       "    <tr>\n",
       "      <th>1</th>\n",
       "      <td>1</td>\n",
       "      <td>62360.658559</td>\n",
       "    </tr>\n",
       "    <tr>\n",
       "      <th>2</th>\n",
       "      <td>2</td>\n",
       "      <td>62409.543978</td>\n",
       "    </tr>\n",
       "    <tr>\n",
       "      <th>3</th>\n",
       "      <td>3</td>\n",
       "      <td>62473.282800</td>\n",
       "    </tr>\n",
       "    <tr>\n",
       "      <th>4</th>\n",
       "      <td>4</td>\n",
       "      <td>62460.089782</td>\n",
       "    </tr>\n",
       "    <tr>\n",
       "      <th>5</th>\n",
       "      <td>5</td>\n",
       "      <td>62448.830927</td>\n",
       "    </tr>\n",
       "    <tr>\n",
       "      <th>6</th>\n",
       "      <td>6</td>\n",
       "      <td>62425.894149</td>\n",
       "    </tr>\n",
       "    <tr>\n",
       "      <th>7</th>\n",
       "      <td>7</td>\n",
       "      <td>62404.894822</td>\n",
       "    </tr>\n",
       "    <tr>\n",
       "      <th>8</th>\n",
       "      <td>8</td>\n",
       "      <td>62388.990196</td>\n",
       "    </tr>\n",
       "    <tr>\n",
       "      <th>9</th>\n",
       "      <td>9</td>\n",
       "      <td>62376.030953</td>\n",
       "    </tr>\n",
       "  </tbody>\n",
       "</table>\n",
       "</div>"
      ],
      "text/plain": [
       "   t       sum_val\n",
       "0  0  62271.597645\n",
       "1  1  62360.658559\n",
       "2  2  62409.543978\n",
       "3  3  62473.282800\n",
       "4  4  62460.089782\n",
       "5  5  62448.830927\n",
       "6  6  62425.894149\n",
       "7  7  62404.894822\n",
       "8  8  62388.990196\n",
       "9  9  62376.030953"
      ]
     },
     "execution_count": 57,
     "metadata": {},
     "output_type": "execute_result"
    }
   ],
   "source": [
    "silo2pfb(rundir = rundir, bnam ='surface_storage' , start= 0, stop=cur_stop)\n",
    "s = sumoverdomain(rundir = rundir, bnam = 'surface_storage',start = 0, stop= cur_stop)\n",
    "s.head(10)"
   ]
  },
  {
   "cell_type": "markdown",
   "metadata": {},
   "source": [
    "##  Subsurface storage"
   ]
  },
  {
   "cell_type": "code",
   "execution_count": 58,
   "metadata": {},
   "outputs": [
    {
     "name": "stdout",
     "output_type": "stream",
     "text": [
      "b''\n",
      "None\n"
     ]
    },
    {
     "data": {
      "text/html": [
       "<div>\n",
       "<style scoped>\n",
       "    .dataframe tbody tr th:only-of-type {\n",
       "        vertical-align: middle;\n",
       "    }\n",
       "\n",
       "    .dataframe tbody tr th {\n",
       "        vertical-align: top;\n",
       "    }\n",
       "\n",
       "    .dataframe thead th {\n",
       "        text-align: right;\n",
       "    }\n",
       "</style>\n",
       "<table border=\"1\" class=\"dataframe\">\n",
       "  <thead>\n",
       "    <tr style=\"text-align: right;\">\n",
       "      <th></th>\n",
       "      <th>t</th>\n",
       "      <th>sum_val</th>\n",
       "    </tr>\n",
       "  </thead>\n",
       "  <tbody>\n",
       "    <tr>\n",
       "      <th>0</th>\n",
       "      <td>0</td>\n",
       "      <td>3.351440e+06</td>\n",
       "    </tr>\n",
       "    <tr>\n",
       "      <th>1</th>\n",
       "      <td>1</td>\n",
       "      <td>3.351910e+06</td>\n",
       "    </tr>\n",
       "    <tr>\n",
       "      <th>2</th>\n",
       "      <td>2</td>\n",
       "      <td>3.352259e+06</td>\n",
       "    </tr>\n",
       "    <tr>\n",
       "      <th>3</th>\n",
       "      <td>3</td>\n",
       "      <td>3.352693e+06</td>\n",
       "    </tr>\n",
       "    <tr>\n",
       "      <th>4</th>\n",
       "      <td>4</td>\n",
       "      <td>3.352788e+06</td>\n",
       "    </tr>\n",
       "    <tr>\n",
       "      <th>5</th>\n",
       "      <td>5</td>\n",
       "      <td>3.352844e+06</td>\n",
       "    </tr>\n",
       "    <tr>\n",
       "      <th>6</th>\n",
       "      <td>6</td>\n",
       "      <td>3.352811e+06</td>\n",
       "    </tr>\n",
       "    <tr>\n",
       "      <th>7</th>\n",
       "      <td>7</td>\n",
       "      <td>3.352744e+06</td>\n",
       "    </tr>\n",
       "    <tr>\n",
       "      <th>8</th>\n",
       "      <td>8</td>\n",
       "      <td>3.352678e+06</td>\n",
       "    </tr>\n",
       "    <tr>\n",
       "      <th>9</th>\n",
       "      <td>9</td>\n",
       "      <td>3.352613e+06</td>\n",
       "    </tr>\n",
       "  </tbody>\n",
       "</table>\n",
       "</div>"
      ],
      "text/plain": [
       "   t       sum_val\n",
       "0  0  3.351440e+06\n",
       "1  1  3.351910e+06\n",
       "2  2  3.352259e+06\n",
       "3  3  3.352693e+06\n",
       "4  4  3.352788e+06\n",
       "5  5  3.352844e+06\n",
       "6  6  3.352811e+06\n",
       "7  7  3.352744e+06\n",
       "8  8  3.352678e+06\n",
       "9  9  3.352613e+06"
      ]
     },
     "execution_count": 58,
     "metadata": {},
     "output_type": "execute_result"
    }
   ],
   "source": [
    "# convert silos to pfbs\n",
    "silo2pfb(rundir = rundir, bnam ='subsurface_storage' , start= 0, stop=cur_stop)\n",
    "\n",
    "# scale pfbs using factors\n",
    "for i in range(0,cur_stop+1):\n",
    "    infnam = '%s/subsurface_storage.%s.pfb' %(rundir, i)\n",
    "    outfnam = '%s/vdz_subsurface_storage.%s.pfb' %(rundir,i)\n",
    "    \n",
    "    scale_pfb(pfbinfnam = infnam, vdzarr = factors, pfboutfnam = outfnam, \n",
    "         nx = 12, ny = 10, dx = 10, dy = 10, dz = 1)\n",
    "    \n",
    "ss = sumoverdomain(rundir = rundir,\n",
    "                   bnam = 'vdz_subsurface_storage',start = 0, stop= cur_stop)\n",
    "ss.head(10)"
   ]
  },
  {
   "cell_type": "markdown",
   "metadata": {},
   "source": [
    "## Evapotranspiration"
   ]
  },
  {
   "cell_type": "code",
   "execution_count": 59,
   "metadata": {},
   "outputs": [
    {
     "name": "stdout",
     "output_type": "stream",
     "text": [
      "b''\n",
      "None\n",
      "renaming output pfb files\n"
     ]
    },
    {
     "data": {
      "text/html": [
       "<div>\n",
       "<style scoped>\n",
       "    .dataframe tbody tr th:only-of-type {\n",
       "        vertical-align: middle;\n",
       "    }\n",
       "\n",
       "    .dataframe tbody tr th {\n",
       "        vertical-align: top;\n",
       "    }\n",
       "\n",
       "    .dataframe thead th {\n",
       "        text-align: right;\n",
       "    }\n",
       "</style>\n",
       "<table border=\"1\" class=\"dataframe\">\n",
       "  <thead>\n",
       "    <tr style=\"text-align: right;\">\n",
       "      <th></th>\n",
       "      <th>t</th>\n",
       "      <th>sum_val</th>\n",
       "    </tr>\n",
       "  </thead>\n",
       "  <tbody>\n",
       "    <tr>\n",
       "      <th>0</th>\n",
       "      <td>0</td>\n",
       "      <td>657.213253</td>\n",
       "    </tr>\n",
       "    <tr>\n",
       "      <th>1</th>\n",
       "      <td>1</td>\n",
       "      <td>510.364931</td>\n",
       "    </tr>\n",
       "    <tr>\n",
       "      <th>2</th>\n",
       "      <td>2</td>\n",
       "      <td>626.381574</td>\n",
       "    </tr>\n",
       "    <tr>\n",
       "      <th>3</th>\n",
       "      <td>3</td>\n",
       "      <td>188.641342</td>\n",
       "    </tr>\n",
       "    <tr>\n",
       "      <th>4</th>\n",
       "      <td>4</td>\n",
       "      <td>138.005265</td>\n",
       "    </tr>\n",
       "    <tr>\n",
       "      <th>5</th>\n",
       "      <td>5</td>\n",
       "      <td>22.480711</td>\n",
       "    </tr>\n",
       "    <tr>\n",
       "      <th>6</th>\n",
       "      <td>6</td>\n",
       "      <td>-18.516468</td>\n",
       "    </tr>\n",
       "    <tr>\n",
       "      <th>7</th>\n",
       "      <td>7</td>\n",
       "      <td>-17.223734</td>\n",
       "    </tr>\n",
       "    <tr>\n",
       "      <th>8</th>\n",
       "      <td>8</td>\n",
       "      <td>-16.457629</td>\n",
       "    </tr>\n",
       "    <tr>\n",
       "      <th>9</th>\n",
       "      <td>9</td>\n",
       "      <td>-15.779504</td>\n",
       "    </tr>\n",
       "  </tbody>\n",
       "</table>\n",
       "</div>"
      ],
      "text/plain": [
       "   t     sum_val\n",
       "0  0  657.213253\n",
       "1  1  510.364931\n",
       "2  2  626.381574\n",
       "3  3  188.641342\n",
       "4  4  138.005265\n",
       "5  5   22.480711\n",
       "6  6  -18.516468\n",
       "7  7  -17.223734\n",
       "8  8  -16.457629\n",
       "9  9  -15.779504"
      ]
     },
     "execution_count": 59,
     "metadata": {},
     "output_type": "execute_result"
    }
   ],
   "source": [
    "silo2pfb(rundir = rundir, \n",
    "         bnam ='slopes_only.out.evaptranssum' , start= 1, stop=cur_stop, fw = 1)\n",
    "\n",
    "# scale pfbs using factors\n",
    "for i in range(1,cur_stop):\n",
    "    infnam = '%s/evaptranssum.%s.pfb' %(rundir, i)\n",
    "    outfnam = '%s/vdz_evaptranssum.%s.pfb' %(rundir,i)\n",
    "    \n",
    "    scale_pfb(pfbinfnam = infnam, vdzarr = factors, pfboutfnam = outfnam, \n",
    "         nx = 12, ny = 10, dx = 10, dy = 10, dz = 1)\n",
    "\n",
    "et = sumoverdomain(rundir = rundir, \n",
    "                   bnam = 'vdz_evaptranssum',start = 1, stop= cur_stop)\n",
    "et['sum_val'] = et['sum_val']\n",
    "et['t'] = et['t'] - 1\n",
    "et.head(10)"
   ]
  },
  {
   "cell_type": "markdown",
   "metadata": {},
   "source": [
    "## Put pieces of WB together\n"
   ]
  },
  {
   "cell_type": "code",
   "execution_count": 63,
   "metadata": {},
   "outputs": [
    {
     "data": {
      "text/plain": [
       "1.0261088922071804e-07"
      ]
     },
     "execution_count": 63,
     "metadata": {},
     "output_type": "execute_result"
    }
   ],
   "source": [
    "wb = ss.merge(of, on = 't', how = 'left').merge(s, on = 't', how = 'left').merge(et, on = 't', how = 'left')\n",
    "wb.columns = ['t', 'vdz_subsurfstor', 'overland_flow', 'surf_stor', 'vdz_et']\n",
    "wb['overland_flow'] = (- wb['overland_flow'])  \n",
    "wb['overland_flow'] = wb['overland_flow'].shift(-1)  \n",
    "wb['dom_tot'] = wb['vdz_subsurfstor'] +  wb['surf_stor'] \n",
    "wb['bndy_flux'] = wb['vdz_et'] + wb['overland_flow']                \n",
    "wb['exp_wb'] = wb['dom_tot'].shift(-1) + wb['bndy_flux']\n",
    "wb['dom_tot_chg'] = wb['dom_tot'].diff()\n",
    "wb['dom_tot_chg'] = wb['dom_tot_chg'].shift(-1)\n",
    "wb['diff'] = wb['dom_tot_chg'] - wb['bndy_flux']\n",
    "wb['pc_diff'] = abs(wb['diff'])/wb['exp_wb']*100\n",
    "wb['prcp_v'] = prcp_v[:cur_stop]\n",
    "\n",
    "\n",
    "wb.head(20)\n",
    "\n",
    "# check what the pct differences are\n",
    "max(wb.pc_diff.dropna())"
   ]
  },
  {
   "cell_type": "markdown",
   "metadata": {},
   "source": [
    "## Save wb csv"
   ]
  },
  {
   "cell_type": "code",
   "execution_count": 65,
   "metadata": {},
   "outputs": [],
   "source": [
    "wb.to_csv('/home/theo/pf_files/pf_machine/scenarios/wb_outputs/wb_%s.csv' %scen)"
   ]
  },
  {
   "cell_type": "markdown",
   "metadata": {},
   "source": [
    "# Remove run files"
   ]
  },
  {
   "cell_type": "code",
   "execution_count": null,
   "metadata": {},
   "outputs": [],
   "source": [
    "delete_run_files()"
   ]
  }
 ],
 "metadata": {
  "kernelspec": {
   "display_name": "Python 3",
   "language": "python",
   "name": "python3"
  },
  "language_info": {
   "codemirror_mode": {
    "name": "ipython",
    "version": 3
   },
   "file_extension": ".py",
   "mimetype": "text/x-python",
   "name": "python",
   "nbconvert_exporter": "python",
   "pygments_lexer": "ipython3",
   "version": "3.7.1"
  }
 },
 "nbformat": 4,
 "nbformat_minor": 2
}
