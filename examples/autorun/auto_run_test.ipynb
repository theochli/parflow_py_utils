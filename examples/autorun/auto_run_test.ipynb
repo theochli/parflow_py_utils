{
 "cells": [
  {
   "cell_type": "markdown",
   "metadata": {},
   "source": [
    "# Use Python to move run inputs and run files into a directory and initiate the run"
   ]
  },
  {
   "cell_type": "code",
   "execution_count": 62,
   "metadata": {},
   "outputs": [],
   "source": [
    "import subprocess\n",
    "import glob\n",
    "import os\n",
    "import shutil\n",
    "import time"
   ]
  },
  {
   "cell_type": "code",
   "execution_count": 29,
   "metadata": {},
   "outputs": [
    {
     "data": {
      "text/plain": [
       "'/home/tclim'"
      ]
     },
     "execution_count": 29,
     "metadata": {},
     "output_type": "execute_result"
    }
   ],
   "source": [
    "homedir = os.path.expanduser(\"~\")\n",
    "homedir"
   ]
  },
  {
   "cell_type": "code",
   "execution_count": 33,
   "metadata": {},
   "outputs": [],
   "source": [
    "rundir_o = os.path.join(homedir, 'Dropbox', 'projects', 'pf_simple', '01testruns', 'het_subsurf')"
   ]
  },
  {
   "cell_type": "markdown",
   "metadata": {},
   "source": [
    "# Copy Files"
   ]
  },
  {
   "cell_type": "code",
   "execution_count": 65,
   "metadata": {
    "scrolled": true
   },
   "outputs": [
    {
     "name": "stdout",
     "output_type": "stream",
     "text": [
      "/home/tclim/Dropbox/projects/pf_simple/01testruns/het_subsurf/pfbtosilo_mann_perm_ind.tcl\n",
      "/home/tclim/Dropbox/projects/pf_simple/01testruns/het_subsurf/pftest.tcl\n",
      "/home/tclim/Dropbox/projects/pf_simple/01testruns/het_subsurf/het_subsurf.tcl\n",
      "/home/tclim/Dropbox/projects/pf_simple/01testruns/het_subsurf/total_surface_runoff.tcl\n"
     ]
    },
    {
     "data": {
      "text/plain": [
       "[None, None, None, None]"
      ]
     },
     "execution_count": 65,
     "metadata": {},
     "output_type": "execute_result"
    }
   ],
   "source": [
    "[print (f) for f in glob.glob(rundir_o + \"/*.tcl\")]\n"
   ]
  },
  {
   "cell_type": "code",
   "execution_count": 51,
   "metadata": {},
   "outputs": [
    {
     "data": {
      "text/plain": [
       "'./mann_het1.pfb'"
      ]
     },
     "execution_count": 51,
     "metadata": {},
     "output_type": "execute_result"
    }
   ],
   "source": [
    "shutil.copy2('/home/tclim/Dropbox/projects/pf_simple/01testruns/het_subsurf/het_subsurf.tcl', '.')\n",
    "shutil.copy2('/home/tclim/Dropbox/projects/pf_simple/01testruns/het_subsurf/total_surface_runoff.tcl', '.')\n",
    "shutil.copy2('/home/tclim/Dropbox/projects/pf_simple/01testruns/het_subsurf/pftest.tcl', '.')\n",
    "# Scenario in-variable Input Files\n",
    "shutil.copy2('/home/tclim/Dropbox/projects/pf_simple/01testruns/het_subsurf/slopex.pfb', '.')\n",
    "shutil.copy2('/home/tclim/Dropbox/projects/pf_simple/01testruns/het_subsurf/slopey.pfb', '.')\n",
    "# Scenario variable input files\n",
    "shutil.copy2('/home/tclim/Dropbox/projects/pf_simple/01testruns/het_subsurf/ind_het1.pfb', '.')\n",
    "shutil.copy2('/home/tclim/Dropbox/projects/pf_simple/01testruns/het_subsurf/perm_het1.pfb', '.')\n",
    "shutil.copy2('/home/tclim/Dropbox/projects/pf_simple/01testruns/het_subsurf/mann_het1.pfb', '.')"
   ]
  },
  {
   "cell_type": "code",
   "execution_count": 52,
   "metadata": {
    "scrolled": false
   },
   "outputs": [
    {
     "name": "stdout",
     "output_type": "stream",
     "text": [
      "/home/tclim/GitHub/parflow_py_utils/examples/autorun/slopex.pfb\n",
      "/home/tclim/GitHub/parflow_py_utils/examples/autorun/mann_het1.pfb\n",
      "/home/tclim/GitHub/parflow_py_utils/examples/autorun/pftest.tcl\n",
      "/home/tclim/GitHub/parflow_py_utils/examples/autorun/auto_run_test.ipynb\n",
      "/home/tclim/GitHub/parflow_py_utils/examples/autorun/slopey.pfb\n",
      "/home/tclim/GitHub/parflow_py_utils/examples/autorun/perm_het1.pfb\n",
      "/home/tclim/GitHub/parflow_py_utils/examples/autorun/het_subsurf.tcl\n",
      "/home/tclim/GitHub/parflow_py_utils/examples/autorun/ind_het1.pfb\n",
      "/home/tclim/GitHub/parflow_py_utils/examples/autorun/total_surface_runoff.tcl\n"
     ]
    },
    {
     "data": {
      "text/plain": [
       "[None, None, None, None, None, None, None, None, None]"
      ]
     },
     "execution_count": 52,
     "metadata": {},
     "output_type": "execute_result"
    }
   ],
   "source": [
    "[print(f) for f in glob.glob(os.getcwd() + \"/*\")]"
   ]
  },
  {
   "cell_type": "markdown",
   "metadata": {},
   "source": [
    "# Run ParFlow"
   ]
  },
  {
   "cell_type": "code",
   "execution_count": 64,
   "metadata": {},
   "outputs": [
    {
     "name": "stdout",
     "output_type": "stream",
     "text": [
      "Time Elapsed:  2.93168044090271 s\n"
     ]
    }
   ],
   "source": [
    "start = time.time()\n",
    "bashCommand = \"tclsh het_subsurf.tcl\"\n",
    "process = subprocess.Popen(bashCommand.split(), stdout=subprocess.PIPE)\n",
    "output, error = process.communicate()\n",
    "end = time.time()\n",
    "print('Time Elapsed:  %s s' %(end - start))"
   ]
  },
  {
   "cell_type": "code",
   "execution_count": 61,
   "metadata": {},
   "outputs": [
    {
     "name": "stdout",
     "output_type": "stream",
     "text": [
      "\n",
      "ParFlow run complete\n",
      "======================================================\n",
      "Timestep 0\n",
      "======================================================\n",
      "Surface storage\t\t\t\t\t : 0.0000000000000000e+00\n",
      "Subsurface storage\t\t\t\t : 6.9279698831351884e+06\n",
      "Total water in domain\t\t\t\t : 6.9279698831351884e+06\n",
      "\n",
      "BC flux\t\t\t\t\t\t : -6.0000000000000000e+05\n",
      "Total Flux\t\t\t\t\t : -6.0000000000000000e+05\n",
      "======================================================\n",
      "Timestep 1\n",
      "======================================================\n",
      "Surface storage\t\t\t\t\t : 0.0000000000000000e+00\n",
      "Subsurface storage\t\t\t\t : 7.5279698831351884e+06\n",
      "Total water in domain\t\t\t\t : 7.5279698831351884e+06\n",
      "\n",
      "Surface runoff from pftools\t\t\t : 0.0000000000000000e+00\n",
      "Surface runoff from pfsimulator\t\t\t : 0.0000000000000000e+00\n",
      "BC flux\t\t\t\t\t\t : -6.0000000000000000e+05\n",
      "Total Flux\t\t\t\t\t : -6.0000000000000000e+05\n",
      "\n",
      "Diff from prev total\t\t\t\t : 6.0000000000000000e+05\n",
      "Percent diff from expected difference\t\t : 0.000000000000e+00\n",
      "Percent diff from expected total water sum\t : 0.000000000000e+00\n",
      "======================================================\n",
      "Timestep 2\n",
      "======================================================\n",
      "Surface storage\t\t\t\t\t : 2.4136370566364547e+05\n",
      "Subsurface storage\t\t\t\t : 7.8271559398620194e+06\n",
      "Total water in domain\t\t\t\t : 8.0685196455256650e+06\n",
      "\n",
      "Surface runoff from pftools\t\t\t : 5.9450237609525895e+04\n",
      "Surface runoff from pfsimulator\t\t\t : 5.9450237609525895e+04\n",
      "BC flux\t\t\t\t\t\t : -6.0000000000000000e+05\n",
      "Total Flux\t\t\t\t\t : -5.4054976239047409e+05\n",
      "\n",
      "Diff from prev total\t\t\t\t : 5.4054976239047665e+05\n",
      "Percent diff from expected difference\t\t : 4.738022765687e-13\n",
      "Percent diff from expected total water sum\t : 3.462800918376e-14\n",
      "======================================================\n",
      "Timestep 3\n",
      "======================================================\n",
      "Surface storage\t\t\t\t\t : 7.0143621362169518e+05\n",
      "Subsurface storage\t\t\t\t : 7.8271605405870760e+06\n",
      "Total water in domain\t\t\t\t : 8.5285967542087715e+06\n",
      "\n",
      "Surface runoff from pftools\t\t\t : 1.3992289131687157e+05\n",
      "Surface runoff from pfsimulator\t\t\t : 1.3992289131687157e+05\n",
      "BC flux\t\t\t\t\t\t : -6.0000000000000000e+05\n",
      "Total Flux\t\t\t\t\t : -4.6007710868312843e+05\n",
      "\n",
      "Diff from prev total\t\t\t\t : 4.6007710868310649e+05\n",
      "Percent diff from expected difference\t\t : 4.769697894161e-12\n",
      "Percent diff from expected total water sum\t : 2.620799462671e-13\n",
      "======================================================\n",
      "Timestep 4\n",
      "======================================================\n",
      "Surface storage\t\t\t\t\t : 1.1520042779007468e+06\n",
      "Subsurface storage\t\t\t\t : 7.8271650462677060e+06\n",
      "Total water in domain\t\t\t\t : 8.9791693241684530e+06\n",
      "\n",
      "Surface runoff from pftools\t\t\t : 1.4942743004030612e+05\n",
      "Surface runoff from pfsimulator\t\t\t : 1.4942743004030612e+05\n",
      "BC flux\t\t\t\t\t\t : -6.0000000000000000e+05\n",
      "Total Flux\t\t\t\t\t : -4.5057256995969388e+05\n",
      "\n",
      "Diff from prev total\t\t\t\t : 4.5057256995968148e+05\n",
      "Percent diff from expected difference\t\t : 2.751661463919e-12\n",
      "Percent diff from expected total water sum\t : 1.452084883790e-13\n",
      "======================================================\n",
      "Timestep 5\n",
      "======================================================\n",
      "Surface storage\t\t\t\t\t : 1.6015542449710798e+06\n",
      "Subsurface storage\t\t\t\t : 7.8271695417673979e+06\n",
      "Total water in domain\t\t\t\t : 9.4287237867384776e+06\n",
      "\n",
      "Surface runoff from pftools\t\t\t : 1.5044553742999866e+05\n",
      "Surface runoff from pfsimulator\t\t\t : 1.5044553742999866e+05\n",
      "BC flux\t\t\t\t\t\t : -6.0000000000000000e+05\n",
      "Total Flux\t\t\t\t\t : -4.4955446257000137e+05\n",
      "\n",
      "Diff from prev total\t\t\t\t : 4.4955446257002465e+05\n",
      "Percent diff from expected difference\t\t : 5.179142084873e-12\n",
      "Percent diff from expected total water sum\t : 2.370600973825e-13\n",
      "======================================================\n",
      "Timestep 6\n",
      "======================================================\n",
      "Surface storage\t\t\t\t\t : 2.0507767902007885e+06\n",
      "Subsurface storage\t\t\t\t : 7.8271740339928437e+06\n",
      "Total water in domain\t\t\t\t : 9.8779508241936322e+06\n",
      "\n",
      "Surface runoff from pftools\t\t\t : 1.5077296254483770e+05\n",
      "Surface runoff from pfsimulator\t\t\t : 1.5077296254483770e+05\n",
      "BC flux\t\t\t\t\t\t : -6.0000000000000000e+05\n",
      "Total Flux\t\t\t\t\t : -4.4922703745516227e+05\n",
      "\n",
      "Diff from prev total\t\t\t\t : 4.4922703745515458e+05\n",
      "Percent diff from expected difference\t\t : 1.710362600636e-12\n",
      "Percent diff from expected total water sum\t : 7.542637870474e-14\n",
      "======================================================\n",
      "Timestep 7\n",
      "======================================================\n",
      "Surface storage\t\t\t\t\t : 2.0302841269446413e+06\n",
      "Subsurface storage\t\t\t\t : 7.8271738290662058e+06\n",
      "Total water in domain\t\t\t\t : 9.8574579560108464e+06\n",
      "\n",
      "Surface runoff from pftools\t\t\t : 2.0492868182778730e+04\n",
      "Surface runoff from pfsimulator\t\t\t : 2.0492868182778730e+04\n",
      "BC flux\t\t\t\t\t\t : 0.0000000000000000e+00\n",
      "Total Flux\t\t\t\t\t : 2.0492868182778730e+04\n",
      "\n",
      "Diff from prev total\t\t\t\t : -2.0492868182785809e+04\n",
      "Percent diff from expected difference\t\t : 3.454619770867e-11\n",
      "Percent diff from expected total water sum\t : 7.558318412488e-14\n",
      "======================================================\n",
      "Timestep 8\n",
      "======================================================\n",
      "Surface storage\t\t\t\t\t : 2.0250837346864070e+06\n",
      "Subsurface storage\t\t\t\t : 7.8271737770622876e+06\n",
      "Total water in domain\t\t\t\t : 9.8522575117486939e+06\n",
      "\n",
      "Surface runoff from pftools\t\t\t : 5.2004442621567414e+03\n",
      "Surface runoff from pfsimulator\t\t\t : 5.2004442621567414e+03\n",
      "BC flux\t\t\t\t\t\t : 0.0000000000000000e+00\n",
      "Total Flux\t\t\t\t\t : 5.2004442621567414e+03\n",
      "\n",
      "Diff from prev total\t\t\t\t : -5.2004442621525377e+03\n",
      "Percent diff from expected difference\t\t : 8.083318077620e-11\n",
      "Percent diff from expected total water sum\t : 3.781154008632e-14\n",
      "======================================================\n",
      "Timestep 9\n",
      "======================================================\n",
      "Surface storage\t\t\t\t\t : 2.0228908181575085e+06\n",
      "Subsurface storage\t\t\t\t : 7.8271737551331241e+06\n",
      "Total water in domain\t\t\t\t : 9.8500645732906330e+06\n",
      "\n",
      "Surface runoff from pftools\t\t\t : 2.1929384580647989e+03\n",
      "Surface runoff from pfsimulator\t\t\t : 2.1929384580647989e+03\n",
      "BC flux\t\t\t\t\t\t : 0.0000000000000000e+00\n",
      "Total Flux\t\t\t\t\t : 2.1929384580647989e+03\n",
      "\n",
      "Diff from prev total\t\t\t\t : -2.1929384580608457e+03\n",
      "Percent diff from expected difference\t\t : 1.802658303847e-10\n",
      "Percent diff from expected total water sum\t : 3.781995814082e-14\n",
      "======================================================\n",
      "Timestep 10\n",
      "======================================================\n",
      "Surface storage\t\t\t\t\t : 2.0215352432441541e+06\n",
      "Subsurface storage\t\t\t\t : 7.8271737415773720e+06\n",
      "Total water in domain\t\t\t\t : 9.8487089848215263e+06\n",
      "\n",
      "Surface runoff from pftools\t\t\t : 1.3555884691038934e+03\n",
      "Surface runoff from pfsimulator\t\t\t : 1.3555884691038934e+03\n",
      "BC flux\t\t\t\t\t\t : 0.0000000000000000e+00\n",
      "Total Flux\t\t\t\t\t : 1.3555884691038934e+03\n",
      "\n",
      "Diff from prev total\t\t\t\t : -1.3555884691067040e+03\n",
      "Percent diff from expected difference\t\t : 2.073318021074e-10\n",
      "Percent diff from expected total water sum\t : 3.782516372657e-14\n",
      "======================================================\n",
      "Timestep 11\n",
      "======================================================\n",
      "Surface storage\t\t\t\t\t : 2.0204777025781432e+06\n",
      "Subsurface storage\t\t\t\t : 7.8271737310019685e+06\n",
      "Total water in domain\t\t\t\t : 9.8476514335801117e+06\n",
      "\n",
      "Surface runoff from pftools\t\t\t : 1.0575512414190994e+03\n",
      "Surface runoff from pfsimulator\t\t\t : 1.0575512414190994e+03\n",
      "BC flux\t\t\t\t\t\t : 0.0000000000000000e+00\n",
      "Total Flux\t\t\t\t\t : 1.0575512414190994e+03\n",
      "\n",
      "Diff from prev total\t\t\t\t : -1.0575512414146215e+03\n",
      "Percent diff from expected difference\t\t : 4.234212952339e-10\n",
      "Percent diff from expected total water sum\t : 3.782922581682e-14\n",
      "======================================================\n",
      "Timestep 12\n",
      "======================================================\n",
      "Surface storage\t\t\t\t\t : 2.0195468767727211e+06\n",
      "Subsurface storage\t\t\t\t : 7.8271737216937020e+06\n",
      "Total water in domain\t\t\t\t : 9.8467205984664224e+06\n",
      "\n",
      "Surface runoff from pftools\t\t\t : 9.3083511368366715e+02\n",
      "Surface runoff from pfsimulator\t\t\t : 9.3083511368366715e+02\n",
      "BC flux\t\t\t\t\t\t : 0.0000000000000000e+00\n",
      "Total Flux\t\t\t\t\t : 9.3083511368366715e+02\n",
      "\n",
      "Diff from prev total\t\t\t\t : -9.3083511368930340e+02\n",
      "Percent diff from expected difference\t\t : 6.055049139068e-10\n",
      "Percent diff from expected total water sum\t : 5.674920286215e-14\n",
      "======================================================\n",
      "Timestep 13\n",
      "======================================================\n",
      "Surface storage\t\t\t\t\t : 2.0186775466212139e+06\n",
      "Subsurface storage\t\t\t\t : 7.8271737130004121e+06\n",
      "Total water in domain\t\t\t\t : 9.8458512596216258e+06\n",
      "\n",
      "Surface runoff from pftools\t\t\t : 8.6933884480988377e+02\n",
      "Surface runoff from pfsimulator\t\t\t : 8.6933884480988377e+02\n",
      "BC flux\t\t\t\t\t\t : 0.0000000000000000e+00\n",
      "Total Flux\t\t\t\t\t : 8.6933884480988377e+02\n",
      "\n",
      "Diff from prev total\t\t\t\t : -8.6933884479664266e+02\n",
      "Percent diff from expected difference\t\t : 1.523123701246e-09\n",
      "Percent diff from expected total water sum\t : 1.324264982357e-13\n",
      "======================================================\n",
      "Timestep 14\n",
      "======================================================\n",
      "Surface storage\t\t\t\t\t : 2.0178412458103020e+06\n",
      "Subsurface storage\t\t\t\t : 7.8271737046374008e+06\n",
      "Total water in domain\t\t\t\t : 9.8450149504477028e+06\n",
      "\n",
      "Surface runoff from pftools\t\t\t : 8.3630917392025594e+02\n",
      "Surface runoff from pfsimulator\t\t\t : 8.3630917392025594e+02\n",
      "BC flux\t\t\t\t\t\t : 0.0000000000000000e+00\n",
      "Total Flux\t\t\t\t\t : 8.3630917392025594e+02\n",
      "\n",
      "Diff from prev total\t\t\t\t : -8.3630917392298579e+02\n",
      "Percent diff from expected difference\t\t : 3.264161667120e-10\n",
      "Percent diff from expected total water sum\t : 1.891967821894e-14\n",
      "======================================================\n",
      "Timestep 15\n",
      "======================================================\n",
      "Surface storage\t\t\t\t\t : 2.0170241633910656e+06\n",
      "Subsurface storage\t\t\t\t : 7.8271736964665754e+06\n",
      "Total water in domain\t\t\t\t : 9.8441978598576412e+06\n",
      "\n",
      "Surface runoff from pftools\t\t\t : 8.1709059005968970e+02\n",
      "Surface runoff from pfsimulator\t\t\t : 8.1709059005968970e+02\n",
      "BC flux\t\t\t\t\t\t : 0.0000000000000000e+00\n",
      "Total Flux\t\t\t\t\t : 8.1709059005968970e+02\n",
      "\n",
      "Diff from prev total\t\t\t\t : -8.1709059006161988e+02\n",
      "Percent diff from expected difference\t\t : 2.362253530170e-10\n",
      "Percent diff from expected total water sum\t : 1.892124859483e-14\n",
      "======================================================\n",
      "Timestep 16\n",
      "======================================================\n",
      "Surface storage\t\t\t\t\t : 2.0162190149050304e+06\n",
      "Subsurface storage\t\t\t\t : 7.8271736884150896e+06\n",
      "Total water in domain\t\t\t\t : 9.8433927033201195e+06\n",
      "\n",
      "Surface runoff from pftools\t\t\t : 8.0515653752042954e+02\n",
      "Surface runoff from pfsimulator\t\t\t : 8.0515653752042954e+02\n",
      "BC flux\t\t\t\t\t\t : 0.0000000000000000e+00\n",
      "Total Flux\t\t\t\t\t : 8.0515653752042954e+02\n",
      "\n",
      "Diff from prev total\t\t\t\t : -8.0515653752163053e+02\n",
      "Percent diff from expected difference\t\t : 1.491620197719e-10\n",
      "Percent diff from expected total water sum\t : 1.892279628956e-14\n",
      "======================================================\n",
      "Timestep 17\n",
      "======================================================\n",
      "Surface storage\t\t\t\t\t : 2.0154216913150463e+06\n",
      "Subsurface storage\t\t\t\t : 7.8271736804418648e+06\n",
      "Total water in domain\t\t\t\t : 9.8425953717569113e+06\n",
      "\n",
      "Surface runoff from pftools\t\t\t : 7.9733156322237369e+02\n",
      "Surface runoff from pfsimulator\t\t\t : 7.9733156322237369e+02\n",
      "BC flux\t\t\t\t\t\t : 0.0000000000000000e+00\n",
      "Total Flux\t\t\t\t\t : 7.9733156322237369e+02\n",
      "\n",
      "Diff from prev total\t\t\t\t : -7.9733156320825219e+02\n",
      "Percent diff from expected difference\t\t : 1.771094675304e-09\n",
      "Percent diff from expected total water sum\t : 1.513946335395e-13\n",
      "======================================================\n",
      "Timestep 18\n",
      "======================================================\n",
      "Surface storage\t\t\t\t\t : 2.0146297442397070e+06\n",
      "Subsurface storage\t\t\t\t : 7.8271736725223893e+06\n",
      "Total water in domain\t\t\t\t : 9.8418034167620968e+06\n",
      "\n",
      "Surface runoff from pftools\t\t\t : 7.9195499480985927e+02\n",
      "Surface runoff from pfsimulator\t\t\t : 7.9195499480985927e+02\n",
      "BC flux\t\t\t\t\t\t : 0.0000000000000000e+00\n",
      "Total Flux\t\t\t\t\t : 7.9195499480985927e+02\n",
      "\n",
      "Diff from prev total\t\t\t\t : -7.9195499481447041e+02\n",
      "Percent diff from expected difference\t\t : 5.822474974220e-10\n",
      "Percent diff from expected total water sum\t : 3.785170400901e-14\n",
      "======================================================\n",
      "Timestep 19\n",
      "======================================================\n",
      "Surface storage\t\t\t\t\t : 2.0138416473208969e+06\n",
      "Subsurface storage\t\t\t\t : 7.8271736646414138e+06\n",
      "Total water in domain\t\t\t\t : 9.8410153119623102e+06\n",
      "\n",
      "Surface runoff from pftools\t\t\t : 7.8810479978305841e+02\n",
      "Surface runoff from pfsimulator\t\t\t : 7.8810479978305841e+02\n",
      "BC flux\t\t\t\t\t\t : 0.0000000000000000e+00\n",
      "Total Flux\t\t\t\t\t : 7.8810479978305841e+02\n",
      "\n",
      "Diff from prev total\t\t\t\t : -7.8810479978658259e+02\n",
      "Percent diff from expected difference\t\t : 4.471712751277e-10\n",
      "Percent diff from expected total water sum\t : 3.785473531307e-14\n",
      "\n",
      "\n",
      "\n",
      "slopes_only : PASSED\n",
      "Using process grid (1,1,1)\n",
      "Using process grid (1,1,1)\n",
      "Using process grid (1,1,1)\n",
      "Using process grid (1,1,1)\n",
      "Using process grid (1,1,1)\n",
      "\n"
     ]
    }
   ],
   "source": [
    "print(output.decode(\"utf-8\").format())"
   ]
  },
  {
   "cell_type": "markdown",
   "metadata": {},
   "source": [
    "# Calculate overland flow from domain"
   ]
  },
  {
   "cell_type": "code",
   "execution_count": 66,
   "metadata": {},
   "outputs": [
    {
     "name": "stdout",
     "output_type": "stream",
     "text": [
      "Time Elapsed:  0.024671077728271484 s\n"
     ]
    }
   ],
   "source": [
    "start = time.time()\n",
    "bashCommand = \"tclsh total_surface_runoff.tcl > overland.txt\"\n",
    "process = subprocess.Popen(bashCommand.split(), stdout=subprocess.PIPE)\n",
    "output, error = process.communicate()\n",
    "end = time.time()\n",
    "print('Time Elapsed:  %s s' %(end - start))"
   ]
  },
  {
   "cell_type": "code",
   "execution_count": null,
   "metadata": {},
   "outputs": [],
   "source": []
  }
 ],
 "metadata": {
  "kernelspec": {
   "display_name": "Python 3",
   "language": "python",
   "name": "python3"
  },
  "language_info": {
   "codemirror_mode": {
    "name": "ipython",
    "version": 3
   },
   "file_extension": ".py",
   "mimetype": "text/x-python",
   "name": "python",
   "nbconvert_exporter": "python",
   "pygments_lexer": "ipython3",
   "version": "3.7.3"
  }
 },
 "nbformat": 4,
 "nbformat_minor": 2
}
