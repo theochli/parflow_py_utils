{
 "cells": [
  {
   "cell_type": "code",
   "execution_count": 1,
   "metadata": {},
   "outputs": [],
   "source": [
    "from postproc import scale_pfb\n",
    "import numpy as np\n"
   ]
  },
  {
   "cell_type": "code",
   "execution_count": 2,
   "metadata": {},
   "outputs": [],
   "source": [
    "factors = np.array([[10.0],  # <- bottom\n",
    "                    [5.0],\n",
    "                    [2.5],\n",
    "                    [2.5],\n",
    "                    [1.0],\n",
    "                    [1.0],\n",
    "                    [0.5],\n",
    "                    [0.5],\n",
    "                    [0.5],\n",
    "                    [0.5]]) # <- top"
   ]
  },
  {
   "cell_type": "code",
   "execution_count": 5,
   "metadata": {},
   "outputs": [
    {
     "name": "stdout",
     "output_type": "stream",
     "text": [
      "scale_pfb(pfbinfnam,vdzarr,pfboutfnam,nx,ny,dx,dy,dz,[nz])\n",
      "\n",
      "Wrapper for ``scale_pfb``.\n",
      "\n",
      "Parameters\n",
      "----------\n",
      "pfbinfnam : input string(len=-1)\n",
      "vdzarr : input rank-2 array('d') with bounds (nz,1)\n",
      "pfboutfnam : input string(len=-1)\n",
      "nx : input int\n",
      "ny : input int\n",
      "dx : input float\n",
      "dy : input float\n",
      "dz : input float\n",
      "\n",
      "Other Parameters\n",
      "----------------\n",
      "nz : input int, optional\n",
      "    Default: shape(vdzarr,0)\n",
      "\n"
     ]
    }
   ],
   "source": [
    "print(scale_pfb.__doc__)"
   ]
  },
  {
   "cell_type": "code",
   "execution_count": 6,
   "metadata": {},
   "outputs": [],
   "source": [
    "for i in range(0,20):\n",
    "    infnam = 'subsurface_storage.%s.pfb' %i\n",
    "    outfnam = 'vdz_subsurface_storage.%s.pfb' %i\n",
    "    \n",
    "    scale_pfb(pfbinfnam = infnam, vdzarr = factors, pfboutfnam = outfnam, \n",
    "         nx = 12, ny = 10, dx = 10, dy = 10, dz = 1)"
   ]
  },
  {
   "cell_type": "code",
   "execution_count": 5,
   "metadata": {},
   "outputs": [],
   "source": [
    "\n",
    "\n",
    "scale_pfb(pfbinfnam = 'subsurface_storage.0.pfb', vdzarr = factors, pfboutfnam = \"test.pfb\", \n",
    "         nx = 12, ny = 10, dx = 10, dy = 10, dz = 1)"
   ]
  }
 ],
 "metadata": {
  "kernelspec": {
   "display_name": "Python 3",
   "language": "python",
   "name": "python3"
  },
  "language_info": {
   "codemirror_mode": {
    "name": "ipython",
    "version": 3
   },
   "file_extension": ".py",
   "mimetype": "text/x-python",
   "name": "python",
   "nbconvert_exporter": "python",
   "pygments_lexer": "ipython3",
   "version": "3.7.1"
  }
 },
 "nbformat": 4,
 "nbformat_minor": 2
}
