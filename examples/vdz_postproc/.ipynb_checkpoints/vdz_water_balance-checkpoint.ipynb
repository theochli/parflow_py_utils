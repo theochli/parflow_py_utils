{
 "cells": [
  {
   "cell_type": "markdown",
   "metadata": {},
   "source": [
    "# Variable dz water balance\n",
    "\n",
    "The purpose of this script is to be able to monitor a run's progress and view how the water balance is progressing (for example during spinup). It should take into consideration variable dz adjustments"
   ]
  },
  {
   "cell_type": "code",
   "execution_count": 37,
   "metadata": {},
   "outputs": [],
   "source": [
    "from postproc import scale_pfb\n",
    "import numpy as np\n",
    "\n",
    "import subprocess\n",
    "import glob\n",
    "import os\n",
    "import shutil\n",
    "import time\n",
    "import pandas as pd\n",
    "from io import StringIO\n",
    "\n",
    "%matplotlib inline"
   ]
  },
  {
   "cell_type": "markdown",
   "metadata": {},
   "source": [
    "## Subsurface storage (summing the converted vdz .pfb files over entire domain)"
   ]
  },
  {
   "cell_type": "code",
   "execution_count": 41,
   "metadata": {
    "scrolled": true
   },
   "outputs": [
    {
     "name": "stdout",
     "output_type": "stream",
     "text": [
      "Time Elapsed:  0.04006075859069824 s\n"
     ]
    },
    {
     "data": {
      "image/png": "[encoded data removed]",
      "text/plain": [
       "<Figure size 432x288 with 1 Axes>"
      ]
     },
     "metadata": {
      "needs_background": "light"
     },
     "output_type": "display_data"
    }
   ],
   "source": [
    "# The following runs the tcl file, with a runtime argument (the index of the last file name)\n",
    "start = time.time()\n",
    "bashCommand = \"tclsh sum_domain_example.tcl 19\"\n",
    "process = subprocess.Popen(bashCommand.split(), stdout=subprocess.PIPE)\n",
    "output, error = process.communicate()\n",
    "\n",
    "# Save the output to a dataframe\n",
    "output = output.decode(\"utf-8\").format()\n",
    "df = pd.read_csv(StringIO(output), sep=\"\\t\", header = None)\n",
    "df.columns = ['vdz_subsurfstor']  # add a header (column name)\n",
    "df.plot.line() # plot line\n",
    "\n",
    "end = time.time()\n",
    "print('Time Elapsed:  %s s' %(end - start))"
   ]
  },
  {
   "cell_type": "code",
   "execution_count": 50,
   "metadata": {
    "scrolled": true
   },
   "outputs": [
    {
     "data": {
      "text/plain": [
       "0          NaN\n",
       "1     0.935030\n",
       "2     0.926369\n",
       "3     0.917866\n",
       "4     0.909518\n",
       "5     0.788163\n",
       "6     0.671977\n",
       "7     0.667476\n",
       "8     0.663036\n",
       "9     0.658654\n",
       "10    0.654331\n",
       "11    0.650065\n",
       "12    0.550245\n",
       "13    0.008809\n",
       "14    0.007537\n",
       "15    0.007277\n",
       "16    0.007077\n",
       "17    0.006921\n",
       "18    0.006796\n",
       "Name: vdz_subsurfstor, dtype: float64"
      ]
     },
     "execution_count": 50,
     "metadata": {},
     "output_type": "execute_result"
    }
   ],
   "source": [
    "df.vdz_subsurfstor.pct_change()*100 # These are changing by such little percentages, because layers too thick probably..."
   ]
  },
  {
   "cell_type": "markdown",
   "metadata": {},
   "source": [
    "## Overland Flow"
   ]
  }
 ],
 "metadata": {
  "kernelspec": {
   "display_name": "Python 3",
   "language": "python",
   "name": "python3"
  },
  "language_info": {
   "codemirror_mode": {
    "name": "ipython",
    "version": 3
   },
   "file_extension": ".py",
   "mimetype": "text/x-python",
   "name": "python",
   "nbconvert_exporter": "python",
   "pygments_lexer": "ipython3",
   "version": "3.7.3"
  }
 },
 "nbformat": 4,
 "nbformat_minor": 2
}
