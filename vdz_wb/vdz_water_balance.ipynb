{
 "cells": [
  {
   "cell_type": "markdown",
   "metadata": {},
   "source": [
    "# Variable dz water balance\n",
    "\n",
    "The purpose of this script is to be able to monitor a run's progress and view how the water balance is progressing (for example during spinup). It should take into consideration variable dz adjustments"
   ]
  },
  {
   "cell_type": "code",
   "execution_count": 34,
   "metadata": {},
   "outputs": [],
   "source": [
    "from postproc import scale_pfb\n",
    "import numpy as np\n",
    "\n",
    "import subprocess\n",
    "import glob\n",
    "import os\n",
    "import shutil\n",
    "import time\n",
    "import pandas as pd\n",
    "from io import StringIO\n",
    "\n",
    "import itertools\n",
    "\n",
    "\n",
    "%matplotlib inline"
   ]
  },
  {
   "cell_type": "code",
   "execution_count": 2,
   "metadata": {},
   "outputs": [],
   "source": [
    "cur_stop = 87610"
   ]
  },
  {
   "cell_type": "code",
   "execution_count": 3,
   "metadata": {},
   "outputs": [
    {
     "data": {
      "text/plain": [
       "87610"
      ]
     },
     "execution_count": 3,
     "metadata": {},
     "output_type": "execute_result"
    }
   ],
   "source": [
    "8761*10"
   ]
  },
  {
   "cell_type": "code",
   "execution_count": 4,
   "metadata": {},
   "outputs": [],
   "source": [
    "rundir = '/home/theo/pf_files/pf_machine/spinup03'\n",
    "#rundir = '/home/tclim/Dropbox/projects/pf_simple/01testruns/constslope/'"
   ]
  },
  {
   "cell_type": "markdown",
   "metadata": {},
   "source": [
    "## Write Silo Files for Water Balance"
   ]
  },
  {
   "cell_type": "code",
   "execution_count": 5,
   "metadata": {},
   "outputs": [
    {
     "name": "stdout",
     "output_type": "stream",
     "text": [
      "b''\n",
      "None\n"
     ]
    }
   ],
   "source": [
    "bashCommand = \"tclsh write_wb_silos.tcl %s %s %s %s\" %(rundir,'slopes_only',0,cur_stop)\n",
    "process = subprocess.Popen(bashCommand.split(), stdout=subprocess.PIPE)\n",
    "output, error = process.communicate()\n",
    "print(output)\n",
    "print(error)"
   ]
  },
  {
   "cell_type": "markdown",
   "metadata": {},
   "source": [
    "## Read in NLDAS input\n",
    "\n",
    "```\n",
    "DSWR: Downward Visible or Short-Wave radiation [W/m2 ]. (SW radiation flux downwards)\n",
    "DLWR: Downward Infa-Red or Long-Wave radiation [W/m2 ] (LW radiation flux downwards)\n",
    "APCP: Precipitation rate [mm/s]  (Precipitation hourly total)\n",
    "Temp: Air temperature [K]  (2-m above ground Termperature)\n",
    "UGRD: West-to-East or U-component of wind [m/s]  (10-m above ground Zonal wind speed)\n",
    "VGRD: South-to-North or V-component of wind [m/s] (10-m above ground Medional wind speed)\n",
    "Press: Atmospheric Pressure [pa] (Surface Pressure)\n",
    "SPFH: Water-vapor specific humidity [kg/kg] (2-m above ground humidity)\n",
    "\n",
    "```"
   ]
  },
  {
   "cell_type": "code",
   "execution_count": 6,
   "metadata": {
    "scrolled": true
   },
   "outputs": [
    {
     "data": {
      "text/html": [
       "<div>\n",
       "<style scoped>\n",
       "    .dataframe tbody tr th:only-of-type {\n",
       "        vertical-align: middle;\n",
       "    }\n",
       "\n",
       "    .dataframe tbody tr th {\n",
       "        vertical-align: top;\n",
       "    }\n",
       "\n",
       "    .dataframe thead th {\n",
       "        text-align: right;\n",
       "    }\n",
       "</style>\n",
       "<table border=\"1\" class=\"dataframe\">\n",
       "  <thead>\n",
       "    <tr style=\"text-align: right;\">\n",
       "      <th></th>\n",
       "      <th>DSWR</th>\n",
       "      <th>DLWR</th>\n",
       "      <th>APCP</th>\n",
       "      <th>TMP</th>\n",
       "      <th>UGRD</th>\n",
       "      <th>VGRD</th>\n",
       "      <th>PRESS</th>\n",
       "      <th>SPFH</th>\n",
       "    </tr>\n",
       "  </thead>\n",
       "  <tbody>\n",
       "    <tr>\n",
       "      <th>0</th>\n",
       "      <td>0.0</td>\n",
       "      <td>306.959991</td>\n",
       "      <td>0.000212</td>\n",
       "      <td>270.720001</td>\n",
       "      <td>-0.66</td>\n",
       "      <td>1.46</td>\n",
       "      <td>98751.226562</td>\n",
       "      <td>0.003161</td>\n",
       "    </tr>\n",
       "    <tr>\n",
       "      <th>1</th>\n",
       "      <td>0.0</td>\n",
       "      <td>306.959991</td>\n",
       "      <td>0.000166</td>\n",
       "      <td>270.950012</td>\n",
       "      <td>-0.51</td>\n",
       "      <td>1.10</td>\n",
       "      <td>98789.796875</td>\n",
       "      <td>0.003190</td>\n",
       "    </tr>\n",
       "    <tr>\n",
       "      <th>2</th>\n",
       "      <td>0.0</td>\n",
       "      <td>306.959991</td>\n",
       "      <td>0.000200</td>\n",
       "      <td>271.179993</td>\n",
       "      <td>-0.37</td>\n",
       "      <td>0.73</td>\n",
       "      <td>98827.718750</td>\n",
       "      <td>0.003218</td>\n",
       "    </tr>\n",
       "    <tr>\n",
       "      <th>3</th>\n",
       "      <td>0.0</td>\n",
       "      <td>306.019989</td>\n",
       "      <td>0.000065</td>\n",
       "      <td>271.410004</td>\n",
       "      <td>-0.22</td>\n",
       "      <td>0.36</td>\n",
       "      <td>98866.281250</td>\n",
       "      <td>0.003247</td>\n",
       "    </tr>\n",
       "    <tr>\n",
       "      <th>4</th>\n",
       "      <td>0.0</td>\n",
       "      <td>306.019989</td>\n",
       "      <td>0.000049</td>\n",
       "      <td>271.309998</td>\n",
       "      <td>-0.24</td>\n",
       "      <td>0.18</td>\n",
       "      <td>98764.718750</td>\n",
       "      <td>0.003246</td>\n",
       "    </tr>\n",
       "  </tbody>\n",
       "</table>\n",
       "</div>"
      ],
      "text/plain": [
       "   DSWR        DLWR      APCP         TMP  UGRD  VGRD         PRESS      SPFH\n",
       "0   0.0  306.959991  0.000212  270.720001 -0.66  1.46  98751.226562  0.003161\n",
       "1   0.0  306.959991  0.000166  270.950012 -0.51  1.10  98789.796875  0.003190\n",
       "2   0.0  306.959991  0.000200  271.179993 -0.37  0.73  98827.718750  0.003218\n",
       "3   0.0  306.019989  0.000065  271.410004 -0.22  0.36  98866.281250  0.003247\n",
       "4   0.0  306.019989  0.000049  271.309998 -0.24  0.18  98764.718750  0.003246"
      ]
     },
     "execution_count": 6,
     "metadata": {},
     "output_type": "execute_result"
    }
   ],
   "source": [
    "nldas = pd.read_fwf('%s/dauphco.nldas.10yr.txt' %rundir, header = None, sep = '')\n",
    "nldas.columns = ['DSWR', 'DLWR', 'APCP', 'TMP', 'UGRD', 'VGRD', 'PRESS', 'SPFH']\n",
    "nldas.head()"
   ]
  },
  {
   "cell_type": "code",
   "execution_count": 7,
   "metadata": {
    "scrolled": false
   },
   "outputs": [
    {
     "data": {
      "text/plain": [
       "<matplotlib.axes._subplots.AxesSubplot at 0x7fc29c9bad68>"
      ]
     },
     "execution_count": 7,
     "metadata": {},
     "output_type": "execute_result"
    },
    {
     "data": {
      "image/png": "[encoded data removed]",
      "text/plain": [
       "<Figure size 432x288 with 1 Axes>"
      ]
     },
     "metadata": {
      "needs_background": "light"
     },
     "output_type": "display_data"
    }
   ],
   "source": [
    "prcp_m_hr = nldas.APCP/1000*60*60 # meters per hour precipitation\n",
    "prcp_v = prcp_m_hr*1200*1000 # total precip volume over domain (to use in water balance)\n",
    "\n",
    "prcp_m_hr[:cur_stop].plot.line()"
   ]
  },
  {
   "cell_type": "code",
   "execution_count": 39,
   "metadata": {},
   "outputs": [
    {
     "data": {
      "text/plain": [
       "8761"
      ]
     },
     "execution_count": 39,
     "metadata": {},
     "output_type": "execute_result"
    }
   ],
   "source": [
    "lst = range(1,366)\n",
    "d = list(itertools.chain.from_iterable(itertools.repeat(x, 24) for x in lst))\n",
    "d.append(366)\n",
    "len(d)"
   ]
  },
  {
   "cell_type": "code",
   "execution_count": 43,
   "metadata": {},
   "outputs": [
    {
     "data": {
      "text/plain": [
       "<matplotlib.axes._subplots.AxesSubplot at 0x7fc29caba940>"
      ]
     },
     "execution_count": 43,
     "metadata": {},
     "output_type": "execute_result"
    },
    {
     "data": {
      "image/png": "[encoded data removed]",
      "text/plain": [
       "<Figure size 432x288 with 1 Axes>"
      ]
     },
     "metadata": {
      "needs_background": "light"
     },
     "output_type": "display_data"
    }
   ],
   "source": [
    "prcp_1yr = pd.DataFrame({'prcp_m_h' : prcp_m_hr[:8761],\n",
    "                        'doy': d})\n",
    "prcp_1yr['prcp_m_h'].plot.line()"
   ]
  },
  {
   "cell_type": "code",
   "execution_count": 49,
   "metadata": {},
   "outputs": [
    {
     "data": {
      "text/plain": [
       "<matplotlib.axes._subplots.AxesSubplot at 0x7fc2349c1c50>"
      ]
     },
     "execution_count": 49,
     "metadata": {},
     "output_type": "execute_result"
    },
    {
     "data": {
      "image/png": "[encoded data removed]",
      "text/plain": [
       "<Figure size 432x288 with 1 Axes>"
      ]
     },
     "metadata": {
      "needs_background": "light"
     },
     "output_type": "display_data"
    }
   ],
   "source": [
    "# DAILY PRECIPITATION TOTALS\n",
    "prcp_1yr_daily = prcp_1yr.groupby(['doy'], as_index=False).sum()\n",
    "prcp_1yr_daily['prcp_m_h'].plot.line()"
   ]
  },
  {
   "cell_type": "code",
   "execution_count": 8,
   "metadata": {},
   "outputs": [],
   "source": [
    "def silo2pfb(rundir, bnam, start, stop, fw=0):\n",
    "    '''\n",
    "    Converts a timeseries of silo output to pfb format\n",
    "    (saves converted pfbs to same directory)\n",
    "    \n",
    "    bnam     the basename of the files (everything up to the iterating index)\n",
    "    start    start number of file indexing\n",
    "    end      end number of file indexing\n",
    "    fw       fixed width = 0 for non-fixed width iterating index, \n",
    "             fixed width = 1 for fixed width (assumed width is 5) index.\n",
    "    '''\n",
    "    bashCommand = \"tclsh silotopfb_iter_bnam.tcl %s %s %s %s %s\" %(rundir, bnam,start,stop, fw)\n",
    "    process = subprocess.Popen(bashCommand.split(), stdout=subprocess.PIPE)\n",
    "    output, error = process.communicate()\n",
    "    print(output)\n",
    "    print(error)\n",
    "    \n",
    "    # if fw =1, rename the output files to remove $runname.out\n",
    "    if fw:\n",
    "        print(\"renaming output pfb files\")\n",
    "        newbnam = bnam.split(\".\")[-1]\n",
    "        \n",
    "        for i in range(start, stop+1):\n",
    "            ofnam = \"%s/%s.%s.pfb\" %(rundir,bnam,i)\n",
    "            nfnam = \"%s/%s.%s.pfb\" %(rundir,newbnam,i)\n",
    "            os.rename(ofnam, nfnam)\n",
    "\n",
    "def sumoverdomain(rundir, bnam, start, stop):\n",
    "    '''\n",
    "    Sums over the entire domain for an input pfb file,\n",
    "    returns a dataframe with columns for t and the sum values\n",
    "    \n",
    "    bnam    the base name of the files to sum\n",
    "    start   the start number of file indexing\n",
    "    end     the end number of file indexing\n",
    "    '''\n",
    "    bashCommand = \"tclsh sum_domain_bnam.tcl %s %s %s %s\" %(rundir, bnam,start,stop)\n",
    "    process = subprocess.Popen(bashCommand.split(), stdout=subprocess.PIPE)\n",
    "    output, error = process.communicate()\n",
    "\n",
    "    # Save the output to a dataframe\n",
    "    output = output.decode(\"utf-8\").format()\n",
    "    df = pd.read_csv(StringIO(output), sep=\"\\t\", header = None)\n",
    "    df.columns = ['t','sum_val']  # add a header (column name)\n",
    "    \n",
    "    # return\n",
    "    return(df)\n",
    "    "
   ]
  },
  {
   "cell_type": "markdown",
   "metadata": {},
   "source": [
    "# Apply scale factors for vdz\n",
    "\n",
    "The scaling factors need to be applied for subsurface storage, and potentially to surface storage and surface runoff as well.\n",
    "\n",
    "- Need a silotopfb_iter.tcl script that can be applied to various files' base names"
   ]
  },
  {
   "cell_type": "code",
   "execution_count": 9,
   "metadata": {},
   "outputs": [],
   "source": [
    "factors = np.array([[2.0],  # <- bottom\n",
    "                    [2.0],\n",
    "                    [2.0],\n",
    "                    [1.0],\n",
    "                    [1.0],\n",
    "                    [1.0],\n",
    "                    [0.25],\n",
    "                    [0.25],\n",
    "                    [0.25],\n",
    "                    [0.25]]) # <- top"
   ]
  },
  {
   "cell_type": "markdown",
   "metadata": {},
   "source": [
    "## Overland Flow \n",
    "Overland flow does not need scale factors applied.\n",
    "\n",
    "**NOTE**: Overland flow needs to be calculated from the silo files that are output from having the Key `pfset Solver.WriteSiloOverlandSum` on. This will produce the correct overland flow sums from the domain needed to close the water balance. The files are of the form: `<runname>.out.overlandsum.00001.silo`. "
   ]
  },
  {
   "cell_type": "code",
   "execution_count": 10,
   "metadata": {},
   "outputs": [
    {
     "name": "stdout",
     "output_type": "stream",
     "text": [
      "b''\n",
      "None\n",
      "renaming output pfb files\n"
     ]
    },
    {
     "data": {
      "text/html": [
       "<div>\n",
       "<style scoped>\n",
       "    .dataframe tbody tr th:only-of-type {\n",
       "        vertical-align: middle;\n",
       "    }\n",
       "\n",
       "    .dataframe tbody tr th {\n",
       "        vertical-align: top;\n",
       "    }\n",
       "\n",
       "    .dataframe thead th {\n",
       "        text-align: right;\n",
       "    }\n",
       "</style>\n",
       "<table border=\"1\" class=\"dataframe\">\n",
       "  <thead>\n",
       "    <tr style=\"text-align: right;\">\n",
       "      <th></th>\n",
       "      <th>t</th>\n",
       "      <th>sum_val</th>\n",
       "    </tr>\n",
       "  </thead>\n",
       "  <tbody>\n",
       "    <tr>\n",
       "      <th>0</th>\n",
       "      <td>1</td>\n",
       "      <td>23.916557</td>\n",
       "    </tr>\n",
       "    <tr>\n",
       "      <th>1</th>\n",
       "      <td>2</td>\n",
       "      <td>37.002550</td>\n",
       "    </tr>\n",
       "    <tr>\n",
       "      <th>2</th>\n",
       "      <td>3</td>\n",
       "      <td>50.713278</td>\n",
       "    </tr>\n",
       "    <tr>\n",
       "      <th>3</th>\n",
       "      <td>4</td>\n",
       "      <td>36.732714</td>\n",
       "    </tr>\n",
       "    <tr>\n",
       "      <th>4</th>\n",
       "      <td>5</td>\n",
       "      <td>27.398416</td>\n",
       "    </tr>\n",
       "    <tr>\n",
       "      <th>5</th>\n",
       "      <td>6</td>\n",
       "      <td>17.959015</td>\n",
       "    </tr>\n",
       "    <tr>\n",
       "      <th>6</th>\n",
       "      <td>7</td>\n",
       "      <td>11.545119</td>\n",
       "    </tr>\n",
       "    <tr>\n",
       "      <th>7</th>\n",
       "      <td>8</td>\n",
       "      <td>8.051955</td>\n",
       "    </tr>\n",
       "    <tr>\n",
       "      <th>8</th>\n",
       "      <td>9</td>\n",
       "      <td>6.054307</td>\n",
       "    </tr>\n",
       "    <tr>\n",
       "      <th>9</th>\n",
       "      <td>10</td>\n",
       "      <td>4.874930</td>\n",
       "    </tr>\n",
       "  </tbody>\n",
       "</table>\n",
       "</div>"
      ],
      "text/plain": [
       "    t    sum_val\n",
       "0   1  23.916557\n",
       "1   2  37.002550\n",
       "2   3  50.713278\n",
       "3   4  36.732714\n",
       "4   5  27.398416\n",
       "5   6  17.959015\n",
       "6   7  11.545119\n",
       "7   8   8.051955\n",
       "8   9   6.054307\n",
       "9  10   4.874930"
      ]
     },
     "execution_count": 10,
     "metadata": {},
     "output_type": "execute_result"
    }
   ],
   "source": [
    "silo2pfb(rundir = rundir, \n",
    "         bnam ='slopes_only.out.overlandsum' , start= 1, stop=cur_stop, fw = 1)\n",
    "\n",
    "of = sumoverdomain(rundir = rundir, \n",
    "                   bnam = 'overlandsum',start = 1, stop= cur_stop)\n",
    "of['sum_val'] = of['sum_val']\n",
    "of.head(10)"
   ]
  },
  {
   "cell_type": "markdown",
   "metadata": {},
   "source": [
    "## Surface Storage \n",
    "Surface storage does not need scale factors applied"
   ]
  },
  {
   "cell_type": "code",
   "execution_count": 11,
   "metadata": {},
   "outputs": [
    {
     "name": "stdout",
     "output_type": "stream",
     "text": [
      "b''\n",
      "None\n"
     ]
    },
    {
     "data": {
      "text/html": [
       "<div>\n",
       "<style scoped>\n",
       "    .dataframe tbody tr th:only-of-type {\n",
       "        vertical-align: middle;\n",
       "    }\n",
       "\n",
       "    .dataframe tbody tr th {\n",
       "        vertical-align: top;\n",
       "    }\n",
       "\n",
       "    .dataframe thead th {\n",
       "        text-align: right;\n",
       "    }\n",
       "</style>\n",
       "<table border=\"1\" class=\"dataframe\">\n",
       "  <thead>\n",
       "    <tr style=\"text-align: right;\">\n",
       "      <th></th>\n",
       "      <th>t</th>\n",
       "      <th>sum_val</th>\n",
       "    </tr>\n",
       "  </thead>\n",
       "  <tbody>\n",
       "    <tr>\n",
       "      <th>0</th>\n",
       "      <td>0</td>\n",
       "      <td>69.214780</td>\n",
       "    </tr>\n",
       "    <tr>\n",
       "      <th>1</th>\n",
       "      <td>1</td>\n",
       "      <td>177.978190</td>\n",
       "    </tr>\n",
       "    <tr>\n",
       "      <th>2</th>\n",
       "      <td>2</td>\n",
       "      <td>260.336701</td>\n",
       "    </tr>\n",
       "    <tr>\n",
       "      <th>3</th>\n",
       "      <td>3</td>\n",
       "      <td>347.033506</td>\n",
       "    </tr>\n",
       "    <tr>\n",
       "      <th>4</th>\n",
       "      <td>4</td>\n",
       "      <td>394.183259</td>\n",
       "    </tr>\n",
       "    <tr>\n",
       "      <th>5</th>\n",
       "      <td>5</td>\n",
       "      <td>443.737208</td>\n",
       "    </tr>\n",
       "    <tr>\n",
       "      <th>6</th>\n",
       "      <td>6</td>\n",
       "      <td>488.319973</td>\n",
       "    </tr>\n",
       "    <tr>\n",
       "      <th>7</th>\n",
       "      <td>7</td>\n",
       "      <td>533.944280</td>\n",
       "    </tr>\n",
       "    <tr>\n",
       "      <th>8</th>\n",
       "      <td>8</td>\n",
       "      <td>582.957621</td>\n",
       "    </tr>\n",
       "    <tr>\n",
       "      <th>9</th>\n",
       "      <td>9</td>\n",
       "      <td>633.916427</td>\n",
       "    </tr>\n",
       "  </tbody>\n",
       "</table>\n",
       "</div>"
      ],
      "text/plain": [
       "   t     sum_val\n",
       "0  0   69.214780\n",
       "1  1  177.978190\n",
       "2  2  260.336701\n",
       "3  3  347.033506\n",
       "4  4  394.183259\n",
       "5  5  443.737208\n",
       "6  6  488.319973\n",
       "7  7  533.944280\n",
       "8  8  582.957621\n",
       "9  9  633.916427"
      ]
     },
     "execution_count": 11,
     "metadata": {},
     "output_type": "execute_result"
    }
   ],
   "source": [
    "silo2pfb(rundir = rundir, bnam ='surface_storage' , start= 0, stop=cur_stop)\n",
    "s = sumoverdomain(rundir = rundir, bnam = 'surface_storage',start = 0, stop= cur_stop)\n",
    "s.head(10)"
   ]
  },
  {
   "cell_type": "markdown",
   "metadata": {},
   "source": [
    "## Subsurface storage"
   ]
  },
  {
   "cell_type": "code",
   "execution_count": 12,
   "metadata": {},
   "outputs": [
    {
     "name": "stdout",
     "output_type": "stream",
     "text": [
      "b''\n",
      "None\n"
     ]
    },
    {
     "data": {
      "text/html": [
       "<div>\n",
       "<style scoped>\n",
       "    .dataframe tbody tr th:only-of-type {\n",
       "        vertical-align: middle;\n",
       "    }\n",
       "\n",
       "    .dataframe tbody tr th {\n",
       "        vertical-align: top;\n",
       "    }\n",
       "\n",
       "    .dataframe thead th {\n",
       "        text-align: right;\n",
       "    }\n",
       "</style>\n",
       "<table border=\"1\" class=\"dataframe\">\n",
       "  <thead>\n",
       "    <tr style=\"text-align: right;\">\n",
       "      <th></th>\n",
       "      <th>t</th>\n",
       "      <th>sum_val</th>\n",
       "    </tr>\n",
       "  </thead>\n",
       "  <tbody>\n",
       "    <tr>\n",
       "      <th>0</th>\n",
       "      <td>0</td>\n",
       "      <td>3.093116e+06</td>\n",
       "    </tr>\n",
       "    <tr>\n",
       "      <th>1</th>\n",
       "      <td>1</td>\n",
       "      <td>3.093648e+06</td>\n",
       "    </tr>\n",
       "    <tr>\n",
       "      <th>2</th>\n",
       "      <td>2</td>\n",
       "      <td>3.094044e+06</td>\n",
       "    </tr>\n",
       "    <tr>\n",
       "      <th>3</th>\n",
       "      <td>3</td>\n",
       "      <td>3.094538e+06</td>\n",
       "    </tr>\n",
       "    <tr>\n",
       "      <th>4</th>\n",
       "      <td>4</td>\n",
       "      <td>3.094646e+06</td>\n",
       "    </tr>\n",
       "    <tr>\n",
       "      <th>5</th>\n",
       "      <td>5</td>\n",
       "      <td>3.094711e+06</td>\n",
       "    </tr>\n",
       "    <tr>\n",
       "      <th>6</th>\n",
       "      <td>6</td>\n",
       "      <td>3.094674e+06</td>\n",
       "    </tr>\n",
       "    <tr>\n",
       "      <th>7</th>\n",
       "      <td>7</td>\n",
       "      <td>3.094601e+06</td>\n",
       "    </tr>\n",
       "    <tr>\n",
       "      <th>8</th>\n",
       "      <td>8</td>\n",
       "      <td>3.094530e+06</td>\n",
       "    </tr>\n",
       "    <tr>\n",
       "      <th>9</th>\n",
       "      <td>9</td>\n",
       "      <td>3.094460e+06</td>\n",
       "    </tr>\n",
       "  </tbody>\n",
       "</table>\n",
       "</div>"
      ],
      "text/plain": [
       "   t       sum_val\n",
       "0  0  3.093116e+06\n",
       "1  1  3.093648e+06\n",
       "2  2  3.094044e+06\n",
       "3  3  3.094538e+06\n",
       "4  4  3.094646e+06\n",
       "5  5  3.094711e+06\n",
       "6  6  3.094674e+06\n",
       "7  7  3.094601e+06\n",
       "8  8  3.094530e+06\n",
       "9  9  3.094460e+06"
      ]
     },
     "execution_count": 12,
     "metadata": {},
     "output_type": "execute_result"
    }
   ],
   "source": [
    "# convert silos to pfbs\n",
    "silo2pfb(rundir = rundir, bnam ='subsurface_storage' , start= 0, stop=cur_stop)\n",
    "\n",
    "# scale pfbs using factors\n",
    "for i in range(0,cur_stop+1):\n",
    "    infnam = '%s/subsurface_storage.%s.pfb' %(rundir, i)\n",
    "    outfnam = '%s/vdz_subsurface_storage.%s.pfb' %(rundir,i)\n",
    "    \n",
    "    scale_pfb(pfbinfnam = infnam, vdzarr = factors, pfboutfnam = outfnam, \n",
    "         nx = 12, ny = 10, dx = 10, dy = 10, dz = 1)\n",
    "    \n",
    "ss = sumoverdomain(rundir = rundir,\n",
    "                   bnam = 'vdz_subsurface_storage',start = 0, stop= cur_stop)\n",
    "ss.head(10)"
   ]
  },
  {
   "cell_type": "markdown",
   "metadata": {},
   "source": [
    "## Evapotranspiration"
   ]
  },
  {
   "cell_type": "code",
   "execution_count": 13,
   "metadata": {},
   "outputs": [
    {
     "name": "stdout",
     "output_type": "stream",
     "text": [
      "b''\n",
      "None\n",
      "renaming output pfb files\n"
     ]
    },
    {
     "data": {
      "text/html": [
       "<div>\n",
       "<style scoped>\n",
       "    .dataframe tbody tr th:only-of-type {\n",
       "        vertical-align: middle;\n",
       "    }\n",
       "\n",
       "    .dataframe tbody tr th {\n",
       "        vertical-align: top;\n",
       "    }\n",
       "\n",
       "    .dataframe thead th {\n",
       "        text-align: right;\n",
       "    }\n",
       "</style>\n",
       "<table border=\"1\" class=\"dataframe\">\n",
       "  <thead>\n",
       "    <tr style=\"text-align: right;\">\n",
       "      <th></th>\n",
       "      <th>t</th>\n",
       "      <th>sum_val</th>\n",
       "    </tr>\n",
       "  </thead>\n",
       "  <tbody>\n",
       "    <tr>\n",
       "      <th>0</th>\n",
       "      <td>0</td>\n",
       "      <td>664.576568</td>\n",
       "    </tr>\n",
       "    <tr>\n",
       "      <th>1</th>\n",
       "      <td>1</td>\n",
       "      <td>516.146160</td>\n",
       "    </tr>\n",
       "    <tr>\n",
       "      <th>2</th>\n",
       "      <td>2</td>\n",
       "      <td>630.891687</td>\n",
       "    </tr>\n",
       "    <tr>\n",
       "      <th>3</th>\n",
       "      <td>3</td>\n",
       "      <td>192.314737</td>\n",
       "    </tr>\n",
       "    <tr>\n",
       "      <th>4</th>\n",
       "      <td>4</td>\n",
       "      <td>141.509234</td>\n",
       "    </tr>\n",
       "    <tr>\n",
       "      <th>5</th>\n",
       "      <td>5</td>\n",
       "      <td>25.742568</td>\n",
       "    </tr>\n",
       "    <tr>\n",
       "      <th>6</th>\n",
       "      <td>6</td>\n",
       "      <td>-15.376034</td>\n",
       "    </tr>\n",
       "    <tr>\n",
       "      <th>7</th>\n",
       "      <td>7</td>\n",
       "      <td>-14.154551</td>\n",
       "    </tr>\n",
       "    <tr>\n",
       "      <th>8</th>\n",
       "      <td>8</td>\n",
       "      <td>-13.493244</td>\n",
       "    </tr>\n",
       "    <tr>\n",
       "      <th>9</th>\n",
       "      <td>9</td>\n",
       "      <td>-12.937513</td>\n",
       "    </tr>\n",
       "  </tbody>\n",
       "</table>\n",
       "</div>"
      ],
      "text/plain": [
       "   t     sum_val\n",
       "0  0  664.576568\n",
       "1  1  516.146160\n",
       "2  2  630.891687\n",
       "3  3  192.314737\n",
       "4  4  141.509234\n",
       "5  5   25.742568\n",
       "6  6  -15.376034\n",
       "7  7  -14.154551\n",
       "8  8  -13.493244\n",
       "9  9  -12.937513"
      ]
     },
     "execution_count": 13,
     "metadata": {},
     "output_type": "execute_result"
    }
   ],
   "source": [
    "factors = np.array([[2.0],  # <- bottom\n",
    "                    [2.0],\n",
    "                    [2.0],\n",
    "                    [1.0],\n",
    "                    [1.0],\n",
    "                    [1.0],\n",
    "                    [0.25],\n",
    "                    [0.25],\n",
    "                    [0.25],\n",
    "                    [0.25]]) # <- top\n",
    "\n",
    "silo2pfb(rundir = rundir, \n",
    "         bnam ='slopes_only.out.evaptranssum' , start= 1, stop=cur_stop, fw = 1)\n",
    "\n",
    "# scale pfbs using factors\n",
    "for i in range(1,cur_stop):\n",
    "    infnam = '%s/evaptranssum.%s.pfb' %(rundir, i)\n",
    "    outfnam = '%s/vdz_evaptranssum.%s.pfb' %(rundir,i)\n",
    "    \n",
    "    scale_pfb(pfbinfnam = infnam, vdzarr = factors, pfboutfnam = outfnam, \n",
    "         nx = 12, ny = 10, dx = 10, dy = 10, dz = 1)\n",
    "\n",
    "et = sumoverdomain(rundir = rundir, \n",
    "                   bnam = 'vdz_evaptranssum',start = 1, stop= cur_stop)\n",
    "et['sum_val'] = et['sum_val']\n",
    "et['t'] = et['t'] - 1\n",
    "et.head(10)"
   ]
  },
  {
   "cell_type": "code",
   "execution_count": 14,
   "metadata": {},
   "outputs": [
    {
     "data": {
      "text/html": [
       "<div>\n",
       "<style scoped>\n",
       "    .dataframe tbody tr th:only-of-type {\n",
       "        vertical-align: middle;\n",
       "    }\n",
       "\n",
       "    .dataframe tbody tr th {\n",
       "        vertical-align: top;\n",
       "    }\n",
       "\n",
       "    .dataframe thead th {\n",
       "        text-align: right;\n",
       "    }\n",
       "</style>\n",
       "<table border=\"1\" class=\"dataframe\">\n",
       "  <thead>\n",
       "    <tr style=\"text-align: right;\">\n",
       "      <th></th>\n",
       "      <th>t</th>\n",
       "      <th>sum_val</th>\n",
       "    </tr>\n",
       "  </thead>\n",
       "  <tbody>\n",
       "    <tr>\n",
       "      <th>87604</th>\n",
       "      <td>87604</td>\n",
       "      <td>74.653016</td>\n",
       "    </tr>\n",
       "    <tr>\n",
       "      <th>87605</th>\n",
       "      <td>87605</td>\n",
       "      <td>74.901991</td>\n",
       "    </tr>\n",
       "    <tr>\n",
       "      <th>87606</th>\n",
       "      <td>87606</td>\n",
       "      <td>75.162313</td>\n",
       "    </tr>\n",
       "    <tr>\n",
       "      <th>87607</th>\n",
       "      <td>87607</td>\n",
       "      <td>75.434516</td>\n",
       "    </tr>\n",
       "    <tr>\n",
       "      <th>87608</th>\n",
       "      <td>87608</td>\n",
       "      <td>75.719095</td>\n",
       "    </tr>\n",
       "  </tbody>\n",
       "</table>\n",
       "</div>"
      ],
      "text/plain": [
       "           t    sum_val\n",
       "87604  87604  74.653016\n",
       "87605  87605  74.901991\n",
       "87606  87606  75.162313\n",
       "87607  87607  75.434516\n",
       "87608  87608  75.719095"
      ]
     },
     "execution_count": 14,
     "metadata": {},
     "output_type": "execute_result"
    }
   ],
   "source": [
    "et.tail()"
   ]
  },
  {
   "cell_type": "markdown",
   "metadata": {},
   "source": [
    "# Water balance\n",
    "\n",
    "**NOTE** This will not balance if the run was executed with overland flow keys on! Water will begin to be \"lost\" from the domain when overland flow occurs."
   ]
  },
  {
   "cell_type": "code",
   "execution_count": 15,
   "metadata": {
    "scrolled": true
   },
   "outputs": [
    {
     "data": {
      "text/html": [
       "<div>\n",
       "<style scoped>\n",
       "    .dataframe tbody tr th:only-of-type {\n",
       "        vertical-align: middle;\n",
       "    }\n",
       "\n",
       "    .dataframe tbody tr th {\n",
       "        vertical-align: top;\n",
       "    }\n",
       "\n",
       "    .dataframe thead th {\n",
       "        text-align: right;\n",
       "    }\n",
       "</style>\n",
       "<table border=\"1\" class=\"dataframe\">\n",
       "  <thead>\n",
       "    <tr style=\"text-align: right;\">\n",
       "      <th></th>\n",
       "      <th>t</th>\n",
       "      <th>vdz_subsurfstor</th>\n",
       "      <th>overland_flow</th>\n",
       "      <th>surf_stor</th>\n",
       "      <th>vdz_et</th>\n",
       "      <th>dom_tot</th>\n",
       "      <th>bndy_flux</th>\n",
       "      <th>exp_wb</th>\n",
       "      <th>dom_tot_chg</th>\n",
       "      <th>diff</th>\n",
       "      <th>pc_diff</th>\n",
       "      <th>prcp_v</th>\n",
       "    </tr>\n",
       "  </thead>\n",
       "  <tbody>\n",
       "    <tr>\n",
       "      <th>0</th>\n",
       "      <td>0</td>\n",
       "      <td>3.093116e+06</td>\n",
       "      <td>-23.916557</td>\n",
       "      <td>69.214780</td>\n",
       "      <td>664.576568</td>\n",
       "      <td>3.093185e+06</td>\n",
       "      <td>640.660011</td>\n",
       "      <td>3.094466e+06</td>\n",
       "      <td>640.660024</td>\n",
       "      <td>1.293016e-05</td>\n",
       "      <td>4.178479e-10</td>\n",
       "      <td>914.4144</td>\n",
       "    </tr>\n",
       "    <tr>\n",
       "      <th>1</th>\n",
       "      <td>1</td>\n",
       "      <td>3.093648e+06</td>\n",
       "      <td>-37.002550</td>\n",
       "      <td>177.978190</td>\n",
       "      <td>516.146160</td>\n",
       "      <td>3.093825e+06</td>\n",
       "      <td>479.143610</td>\n",
       "      <td>3.094784e+06</td>\n",
       "      <td>479.143610</td>\n",
       "      <td>8.680664e-07</td>\n",
       "      <td>2.804934e-11</td>\n",
       "      <td>717.5952</td>\n",
       "    </tr>\n",
       "    <tr>\n",
       "      <th>2</th>\n",
       "      <td>2</td>\n",
       "      <td>3.094044e+06</td>\n",
       "      <td>-50.713278</td>\n",
       "      <td>260.336701</td>\n",
       "      <td>630.891687</td>\n",
       "      <td>3.094305e+06</td>\n",
       "      <td>580.178408</td>\n",
       "      <td>3.095465e+06</td>\n",
       "      <td>580.178410</td>\n",
       "      <td>1.653907e-06</td>\n",
       "      <td>5.343000e-11</td>\n",
       "      <td>862.7904</td>\n",
       "    </tr>\n",
       "    <tr>\n",
       "      <th>3</th>\n",
       "      <td>3</td>\n",
       "      <td>3.094538e+06</td>\n",
       "      <td>-36.732714</td>\n",
       "      <td>347.033506</td>\n",
       "      <td>192.314737</td>\n",
       "      <td>3.094885e+06</td>\n",
       "      <td>155.582023</td>\n",
       "      <td>3.095196e+06</td>\n",
       "      <td>155.582235</td>\n",
       "      <td>2.116837e-04</td>\n",
       "      <td>6.839105e-09</td>\n",
       "      <td>281.5344</td>\n",
       "    </tr>\n",
       "    <tr>\n",
       "      <th>4</th>\n",
       "      <td>4</td>\n",
       "      <td>3.094646e+06</td>\n",
       "      <td>-27.398416</td>\n",
       "      <td>394.183259</td>\n",
       "      <td>141.509234</td>\n",
       "      <td>3.095040e+06</td>\n",
       "      <td>114.110818</td>\n",
       "      <td>3.095269e+06</td>\n",
       "      <td>114.110837</td>\n",
       "      <td>1.967112e-05</td>\n",
       "      <td>6.355223e-10</td>\n",
       "      <td>210.9456</td>\n",
       "    </tr>\n",
       "    <tr>\n",
       "      <th>5</th>\n",
       "      <td>5</td>\n",
       "      <td>3.094711e+06</td>\n",
       "      <td>-17.959015</td>\n",
       "      <td>443.737208</td>\n",
       "      <td>25.742568</td>\n",
       "      <td>3.095155e+06</td>\n",
       "      <td>7.783553</td>\n",
       "      <td>3.095170e+06</td>\n",
       "      <td>7.783545</td>\n",
       "      <td>-7.855909e-06</td>\n",
       "      <td>2.538119e-10</td>\n",
       "      <td>56.4192</td>\n",
       "    </tr>\n",
       "    <tr>\n",
       "      <th>6</th>\n",
       "      <td>6</td>\n",
       "      <td>3.094674e+06</td>\n",
       "      <td>-11.545119</td>\n",
       "      <td>488.319973</td>\n",
       "      <td>-15.376034</td>\n",
       "      <td>3.095162e+06</td>\n",
       "      <td>-26.921154</td>\n",
       "      <td>3.095108e+06</td>\n",
       "      <td>-26.921154</td>\n",
       "      <td>-2.746850e-08</td>\n",
       "      <td>8.874811e-13</td>\n",
       "      <td>0.0000</td>\n",
       "    </tr>\n",
       "    <tr>\n",
       "      <th>7</th>\n",
       "      <td>7</td>\n",
       "      <td>3.094601e+06</td>\n",
       "      <td>-8.051955</td>\n",
       "      <td>533.944280</td>\n",
       "      <td>-14.154551</td>\n",
       "      <td>3.095135e+06</td>\n",
       "      <td>-22.206506</td>\n",
       "      <td>3.095091e+06</td>\n",
       "      <td>-22.206496</td>\n",
       "      <td>1.025998e-05</td>\n",
       "      <td>3.314921e-10</td>\n",
       "      <td>0.0000</td>\n",
       "    </tr>\n",
       "    <tr>\n",
       "      <th>8</th>\n",
       "      <td>8</td>\n",
       "      <td>3.094530e+06</td>\n",
       "      <td>-6.054307</td>\n",
       "      <td>582.957621</td>\n",
       "      <td>-13.493244</td>\n",
       "      <td>3.095113e+06</td>\n",
       "      <td>-19.547550</td>\n",
       "      <td>3.095074e+06</td>\n",
       "      <td>-19.547550</td>\n",
       "      <td>-4.365224e-08</td>\n",
       "      <td>1.410378e-12</td>\n",
       "      <td>0.0000</td>\n",
       "    </tr>\n",
       "    <tr>\n",
       "      <th>9</th>\n",
       "      <td>9</td>\n",
       "      <td>3.094460e+06</td>\n",
       "      <td>-4.874930</td>\n",
       "      <td>633.916427</td>\n",
       "      <td>-12.937513</td>\n",
       "      <td>3.095094e+06</td>\n",
       "      <td>-17.812442</td>\n",
       "      <td>3.095058e+06</td>\n",
       "      <td>-17.812442</td>\n",
       "      <td>3.950076e-07</td>\n",
       "      <td>1.276253e-11</td>\n",
       "      <td>0.0000</td>\n",
       "    </tr>\n",
       "    <tr>\n",
       "      <th>10</th>\n",
       "      <td>10</td>\n",
       "      <td>3.094390e+06</td>\n",
       "      <td>-4.173533</td>\n",
       "      <td>686.123533</td>\n",
       "      <td>-12.358366</td>\n",
       "      <td>3.095076e+06</td>\n",
       "      <td>-16.531898</td>\n",
       "      <td>3.095043e+06</td>\n",
       "      <td>-16.531902</td>\n",
       "      <td>-3.255032e-06</td>\n",
       "      <td>1.051692e-10</td>\n",
       "      <td>0.0000</td>\n",
       "    </tr>\n",
       "    <tr>\n",
       "      <th>11</th>\n",
       "      <td>11</td>\n",
       "      <td>3.094320e+06</td>\n",
       "      <td>-3.705756</td>\n",
       "      <td>739.239443</td>\n",
       "      <td>-12.749458</td>\n",
       "      <td>3.095059e+06</td>\n",
       "      <td>-16.455214</td>\n",
       "      <td>3.095026e+06</td>\n",
       "      <td>-16.455249</td>\n",
       "      <td>-3.486632e-05</td>\n",
       "      <td>1.126527e-09</td>\n",
       "      <td>0.0000</td>\n",
       "    </tr>\n",
       "    <tr>\n",
       "      <th>12</th>\n",
       "      <td>12</td>\n",
       "      <td>3.094250e+06</td>\n",
       "      <td>-3.322075</td>\n",
       "      <td>792.611516</td>\n",
       "      <td>-14.366579</td>\n",
       "      <td>3.095043e+06</td>\n",
       "      <td>-17.688654</td>\n",
       "      <td>3.095007e+06</td>\n",
       "      <td>-17.688653</td>\n",
       "      <td>8.581605e-07</td>\n",
       "      <td>2.772725e-11</td>\n",
       "      <td>0.0000</td>\n",
       "    </tr>\n",
       "    <tr>\n",
       "      <th>13</th>\n",
       "      <td>13</td>\n",
       "      <td>3.094179e+06</td>\n",
       "      <td>-4.332672</td>\n",
       "      <td>845.790045</td>\n",
       "      <td>45.480289</td>\n",
       "      <td>3.095025e+06</td>\n",
       "      <td>41.147617</td>\n",
       "      <td>3.095107e+06</td>\n",
       "      <td>41.147618</td>\n",
       "      <td>1.272975e-06</td>\n",
       "      <td>4.112863e-11</td>\n",
       "      <td>79.4448</td>\n",
       "    </tr>\n",
       "    <tr>\n",
       "      <th>14</th>\n",
       "      <td>14</td>\n",
       "      <td>3.094162e+06</td>\n",
       "      <td>-3.663941</td>\n",
       "      <td>903.974133</td>\n",
       "      <td>-18.119657</td>\n",
       "      <td>3.095066e+06</td>\n",
       "      <td>-21.783598</td>\n",
       "      <td>3.095023e+06</td>\n",
       "      <td>-21.783675</td>\n",
       "      <td>-7.735587e-05</td>\n",
       "      <td>2.499363e-09</td>\n",
       "      <td>0.0000</td>\n",
       "    </tr>\n",
       "    <tr>\n",
       "      <th>15</th>\n",
       "      <td>15</td>\n",
       "      <td>3.094089e+06</td>\n",
       "      <td>-3.958564</td>\n",
       "      <td>955.895192</td>\n",
       "      <td>20.287133</td>\n",
       "      <td>3.095044e+06</td>\n",
       "      <td>16.328569</td>\n",
       "      <td>3.095077e+06</td>\n",
       "      <td>16.328561</td>\n",
       "      <td>-8.381436e-06</td>\n",
       "      <td>2.707989e-10</td>\n",
       "      <td>55.6848</td>\n",
       "    </tr>\n",
       "    <tr>\n",
       "      <th>16</th>\n",
       "      <td>16</td>\n",
       "      <td>3.094050e+06</td>\n",
       "      <td>-3.482935</td>\n",
       "      <td>1010.937150</td>\n",
       "      <td>-17.987578</td>\n",
       "      <td>3.095061e+06</td>\n",
       "      <td>-21.470513</td>\n",
       "      <td>3.095018e+06</td>\n",
       "      <td>-21.470537</td>\n",
       "      <td>-2.443669e-05</td>\n",
       "      <td>7.895493e-10</td>\n",
       "      <td>0.0000</td>\n",
       "    </tr>\n",
       "    <tr>\n",
       "      <th>17</th>\n",
       "      <td>17</td>\n",
       "      <td>3.093977e+06</td>\n",
       "      <td>-2.914805</td>\n",
       "      <td>1062.650633</td>\n",
       "      <td>-25.487734</td>\n",
       "      <td>3.095039e+06</td>\n",
       "      <td>-28.402539</td>\n",
       "      <td>3.094983e+06</td>\n",
       "      <td>-28.402538</td>\n",
       "      <td>1.160591e-06</td>\n",
       "      <td>3.749911e-11</td>\n",
       "      <td>0.0000</td>\n",
       "    </tr>\n",
       "    <tr>\n",
       "      <th>18</th>\n",
       "      <td>18</td>\n",
       "      <td>3.093897e+06</td>\n",
       "      <td>-2.558896</td>\n",
       "      <td>1113.614339</td>\n",
       "      <td>-24.877207</td>\n",
       "      <td>3.095011e+06</td>\n",
       "      <td>-27.436102</td>\n",
       "      <td>3.094956e+06</td>\n",
       "      <td>-27.436103</td>\n",
       "      <td>-7.395388e-07</td>\n",
       "      <td>2.389497e-11</td>\n",
       "      <td>0.0000</td>\n",
       "    </tr>\n",
       "    <tr>\n",
       "      <th>19</th>\n",
       "      <td>19</td>\n",
       "      <td>3.093819e+06</td>\n",
       "      <td>-2.321684</td>\n",
       "      <td>1164.992403</td>\n",
       "      <td>-24.132901</td>\n",
       "      <td>3.094984e+06</td>\n",
       "      <td>-26.454585</td>\n",
       "      <td>3.094931e+06</td>\n",
       "      <td>-26.454585</td>\n",
       "      <td>-2.658497e-07</td>\n",
       "      <td>8.589845e-12</td>\n",
       "      <td>0.0000</td>\n",
       "    </tr>\n",
       "  </tbody>\n",
       "</table>\n",
       "</div>"
      ],
      "text/plain": [
       "     t  vdz_subsurfstor  overland_flow    surf_stor      vdz_et       dom_tot  \\\n",
       "0    0     3.093116e+06     -23.916557    69.214780  664.576568  3.093185e+06   \n",
       "1    1     3.093648e+06     -37.002550   177.978190  516.146160  3.093825e+06   \n",
       "2    2     3.094044e+06     -50.713278   260.336701  630.891687  3.094305e+06   \n",
       "3    3     3.094538e+06     -36.732714   347.033506  192.314737  3.094885e+06   \n",
       "4    4     3.094646e+06     -27.398416   394.183259  141.509234  3.095040e+06   \n",
       "5    5     3.094711e+06     -17.959015   443.737208   25.742568  3.095155e+06   \n",
       "6    6     3.094674e+06     -11.545119   488.319973  -15.376034  3.095162e+06   \n",
       "7    7     3.094601e+06      -8.051955   533.944280  -14.154551  3.095135e+06   \n",
       "8    8     3.094530e+06      -6.054307   582.957621  -13.493244  3.095113e+06   \n",
       "9    9     3.094460e+06      -4.874930   633.916427  -12.937513  3.095094e+06   \n",
       "10  10     3.094390e+06      -4.173533   686.123533  -12.358366  3.095076e+06   \n",
       "11  11     3.094320e+06      -3.705756   739.239443  -12.749458  3.095059e+06   \n",
       "12  12     3.094250e+06      -3.322075   792.611516  -14.366579  3.095043e+06   \n",
       "13  13     3.094179e+06      -4.332672   845.790045   45.480289  3.095025e+06   \n",
       "14  14     3.094162e+06      -3.663941   903.974133  -18.119657  3.095066e+06   \n",
       "15  15     3.094089e+06      -3.958564   955.895192   20.287133  3.095044e+06   \n",
       "16  16     3.094050e+06      -3.482935  1010.937150  -17.987578  3.095061e+06   \n",
       "17  17     3.093977e+06      -2.914805  1062.650633  -25.487734  3.095039e+06   \n",
       "18  18     3.093897e+06      -2.558896  1113.614339  -24.877207  3.095011e+06   \n",
       "19  19     3.093819e+06      -2.321684  1164.992403  -24.132901  3.094984e+06   \n",
       "\n",
       "     bndy_flux        exp_wb  dom_tot_chg          diff       pc_diff  \\\n",
       "0   640.660011  3.094466e+06   640.660024  1.293016e-05  4.178479e-10   \n",
       "1   479.143610  3.094784e+06   479.143610  8.680664e-07  2.804934e-11   \n",
       "2   580.178408  3.095465e+06   580.178410  1.653907e-06  5.343000e-11   \n",
       "3   155.582023  3.095196e+06   155.582235  2.116837e-04  6.839105e-09   \n",
       "4   114.110818  3.095269e+06   114.110837  1.967112e-05  6.355223e-10   \n",
       "5     7.783553  3.095170e+06     7.783545 -7.855909e-06  2.538119e-10   \n",
       "6   -26.921154  3.095108e+06   -26.921154 -2.746850e-08  8.874811e-13   \n",
       "7   -22.206506  3.095091e+06   -22.206496  1.025998e-05  3.314921e-10   \n",
       "8   -19.547550  3.095074e+06   -19.547550 -4.365224e-08  1.410378e-12   \n",
       "9   -17.812442  3.095058e+06   -17.812442  3.950076e-07  1.276253e-11   \n",
       "10  -16.531898  3.095043e+06   -16.531902 -3.255032e-06  1.051692e-10   \n",
       "11  -16.455214  3.095026e+06   -16.455249 -3.486632e-05  1.126527e-09   \n",
       "12  -17.688654  3.095007e+06   -17.688653  8.581605e-07  2.772725e-11   \n",
       "13   41.147617  3.095107e+06    41.147618  1.272975e-06  4.112863e-11   \n",
       "14  -21.783598  3.095023e+06   -21.783675 -7.735587e-05  2.499363e-09   \n",
       "15   16.328569  3.095077e+06    16.328561 -8.381436e-06  2.707989e-10   \n",
       "16  -21.470513  3.095018e+06   -21.470537 -2.443669e-05  7.895493e-10   \n",
       "17  -28.402539  3.094983e+06   -28.402538  1.160591e-06  3.749911e-11   \n",
       "18  -27.436102  3.094956e+06   -27.436103 -7.395388e-07  2.389497e-11   \n",
       "19  -26.454585  3.094931e+06   -26.454585 -2.658497e-07  8.589845e-12   \n",
       "\n",
       "      prcp_v  \n",
       "0   914.4144  \n",
       "1   717.5952  \n",
       "2   862.7904  \n",
       "3   281.5344  \n",
       "4   210.9456  \n",
       "5    56.4192  \n",
       "6     0.0000  \n",
       "7     0.0000  \n",
       "8     0.0000  \n",
       "9     0.0000  \n",
       "10    0.0000  \n",
       "11    0.0000  \n",
       "12    0.0000  \n",
       "13   79.4448  \n",
       "14    0.0000  \n",
       "15   55.6848  \n",
       "16    0.0000  \n",
       "17    0.0000  \n",
       "18    0.0000  \n",
       "19    0.0000  "
      ]
     },
     "execution_count": 15,
     "metadata": {},
     "output_type": "execute_result"
    }
   ],
   "source": [
    "wb = ss.merge(of, on = 't', how = 'left').merge(s, on = 't', how = 'left').merge(et, on = 't', how = 'left')\n",
    "wb.columns = ['t', 'vdz_subsurfstor', 'overland_flow', 'surf_stor', 'vdz_et']\n",
    "wb['overland_flow'] = (- wb['overland_flow'])  \n",
    "wb['overland_flow'] = wb['overland_flow'].shift(-1)  \n",
    "wb['dom_tot'] = wb['vdz_subsurfstor'] +  wb['surf_stor'] \n",
    "wb['bndy_flux'] = wb['vdz_et'] + wb['overland_flow']                \n",
    "wb['exp_wb'] = wb['dom_tot'].shift(-1) + wb['bndy_flux']\n",
    "wb['dom_tot_chg'] = wb['dom_tot'].diff()\n",
    "wb['dom_tot_chg'] = wb['dom_tot_chg'].shift(-1)\n",
    "wb['diff'] = wb['dom_tot_chg'] - wb['bndy_flux']\n",
    "wb['pc_diff'] = abs(wb['diff'])/wb['exp_wb']*100\n",
    "wb['prcp_v'] = prcp_v[:cur_stop]\n",
    "\n",
    "wb.head(20)"
   ]
  },
  {
   "cell_type": "code",
   "execution_count": 16,
   "metadata": {
    "scrolled": true
   },
   "outputs": [
    {
     "data": {
      "text/plain": [
       "(0, 12)"
      ]
     },
     "execution_count": 16,
     "metadata": {},
     "output_type": "execute_result"
    }
   ],
   "source": [
    "wb[abs(wb['pc_diff']) > 0.0005].shape  # this should have zero rows if the water balance is closing"
   ]
  },
  {
   "cell_type": "code",
   "execution_count": 17,
   "metadata": {},
   "outputs": [
    {
     "data": {
      "text/plain": [
       "1.359325576696302e-07"
      ]
     },
     "execution_count": 17,
     "metadata": {},
     "output_type": "execute_result"
    }
   ],
   "source": [
    "# check what the pct differences are\n",
    "max(wb.pc_diff.dropna())"
   ]
  },
  {
   "cell_type": "code",
   "execution_count": 18,
   "metadata": {
    "scrolled": true
   },
   "outputs": [
    {
     "data": {
      "text/plain": [
       "0               NaN\n",
       "8761     750.246867\n",
       "17522      0.110709\n",
       "26283      0.038428\n",
       "35044      0.019031\n",
       "43805      0.011820\n",
       "52566      0.008671\n",
       "61327      0.006697\n",
       "70088      0.005695\n",
       "78849      0.004953\n",
       "87610      0.005413\n",
       "Name: surf_stor, dtype: float64"
      ]
     },
     "execution_count": 18,
     "metadata": {},
     "output_type": "execute_result"
    }
   ],
   "source": [
    "# for checking changes from multiple years (of spinup) -- make sure water is not building up on surface\n",
    "wb['surf_stor'].iloc[np.multiply(8761,[0,1,2,3,4,5,6,7,8,9,10])].pct_change()"
   ]
  },
  {
   "cell_type": "code",
   "execution_count": 19,
   "metadata": {
    "scrolled": true
   },
   "outputs": [
    {
     "data": {
      "text/plain": [
       "0             NaN\n",
       "8761     0.036591\n",
       "17522    0.013182\n",
       "26283    0.005954\n",
       "35044    0.003135\n",
       "43805    0.001960\n",
       "52566    0.001378\n",
       "61327    0.001040\n",
       "70088    0.000840\n",
       "78849    0.000713\n",
       "87610    0.000773\n",
       "Name: vdz_subsurfstor, dtype: float64"
      ]
     },
     "execution_count": 19,
     "metadata": {},
     "output_type": "execute_result"
    }
   ],
   "source": [
    "# for checking changes from multiple years (of spinup)\n",
    "wb['vdz_subsurfstor'].iloc[np.multiply(8761,[0,1,2,3,4,5,6,7,8,9,10])].pct_change()"
   ]
  },
  {
   "cell_type": "code",
   "execution_count": 20,
   "metadata": {},
   "outputs": [
    {
     "data": {
      "text/plain": [
       "<matplotlib.axes._subplots.AxesSubplot at 0x7fc2adf76748>"
      ]
     },
     "execution_count": 20,
     "metadata": {},
     "output_type": "execute_result"
    },
    {
     "data": {
      "image/png": "[encoded data removed]",
      "text/plain": [
       "<Figure size 432x288 with 1 Axes>"
      ]
     },
     "metadata": {
      "needs_background": "light"
     },
     "output_type": "display_data"
    }
   ],
   "source": [
    "wb['vdz_subsurfstor'].plot.line()"
   ]
  },
  {
   "cell_type": "code",
   "execution_count": 24,
   "metadata": {},
   "outputs": [
    {
     "data": {
      "text/plain": [
       "<matplotlib.axes._subplots.AxesSubplot at 0x7fc2ac62a1d0>"
      ]
     },
     "execution_count": 24,
     "metadata": {},
     "output_type": "execute_result"
    },
    {
     "data": {
      "image/png": "[encoded data removed]",
      "text/plain": [
       "<Figure size 432x288 with 1 Axes>"
      ]
     },
     "metadata": {
      "needs_background": "light"
     },
     "output_type": "display_data"
    }
   ],
   "source": [
    "wb['surf_stor'].plot.line()"
   ]
  },
  {
   "cell_type": "code",
   "execution_count": 21,
   "metadata": {},
   "outputs": [
    {
     "data": {
      "text/plain": [
       "<matplotlib.axes._subplots.AxesSubplot at 0x7fc2ac9862e8>"
      ]
     },
     "execution_count": 21,
     "metadata": {},
     "output_type": "execute_result"
    },
    {
     "data": {
      "image/png": "[encoded data removed]",
      "text/plain": [
       "<Figure size 432x288 with 1 Axes>"
      ]
     },
     "metadata": {
      "needs_background": "light"
     },
     "output_type": "display_data"
    }
   ],
   "source": [
    "# boundary fluxes\n",
    "wb[['vdz_et', 'overland_flow']].plot.line()"
   ]
  },
  {
   "cell_type": "code",
   "execution_count": 22,
   "metadata": {},
   "outputs": [
    {
     "data": {
      "text/plain": [
       "<matplotlib.axes._subplots.AxesSubplot at 0x7fc2ac93e4a8>"
      ]
     },
     "execution_count": 22,
     "metadata": {},
     "output_type": "execute_result"
    },
    {
     "data": {
      "image/png": "[encoded data removed]",
      "text/plain": [
       "<Figure size 432x288 with 1 Axes>"
      ]
     },
     "metadata": {
      "needs_background": "light"
     },
     "output_type": "display_data"
    }
   ],
   "source": [
    "wb['overland_flow'].plot()"
   ]
  },
  {
   "cell_type": "code",
   "execution_count": 26,
   "metadata": {},
   "outputs": [
    {
     "data": {
      "text/plain": [
       "<matplotlib.axes._subplots.AxesSubplot at 0x7fc2ac26a208>"
      ]
     },
     "execution_count": 26,
     "metadata": {},
     "output_type": "execute_result"
    },
    {
     "data": {
      "image/png": "[encoded data removed]",
      "text/plain": [
       "<Figure size 432x288 with 1 Axes>"
      ]
     },
     "metadata": {
      "needs_background": "light"
     },
     "output_type": "display_data"
    }
   ],
   "source": [
    "wb['overland_flow'][78849 : 87610].plot.line()"
   ]
  },
  {
   "cell_type": "code",
   "execution_count": 30,
   "metadata": {},
   "outputs": [
    {
     "data": {
      "text/plain": [
       "count    8761.000000\n",
       "mean      -76.988644\n",
       "std       122.533307\n",
       "min     -3124.278180\n",
       "25%       -63.909935\n",
       "50%       -60.093247\n",
       "75%       -50.696451\n",
       "max       -28.736176\n",
       "Name: overland_flow, dtype: float64"
      ]
     },
     "execution_count": 30,
     "metadata": {},
     "output_type": "execute_result"
    }
   ],
   "source": [
    "wb['overland_flow'][78849 : 87610].describe()"
   ]
  },
  {
   "cell_type": "code",
   "execution_count": 31,
   "metadata": {},
   "outputs": [
    {
     "data": {
      "text/plain": [
       "-60.093246588267355"
      ]
     },
     "execution_count": 31,
     "metadata": {},
     "output_type": "execute_result"
    }
   ],
   "source": [
    "wb['overland_flow'][78849 : 87610].median()"
   ]
  },
  {
   "cell_type": "code",
   "execution_count": 25,
   "metadata": {},
   "outputs": [
    {
     "data": {
      "text/plain": [
       "78849"
      ]
     },
     "execution_count": 25,
     "metadata": {},
     "output_type": "execute_result"
    }
   ],
   "source": [
    "87610 - 8761"
   ]
  },
  {
   "cell_type": "code",
   "execution_count": 23,
   "metadata": {},
   "outputs": [],
   "source": [
    "# save this water balance to file\n",
    "#wb.to_csv('spinup03_10years.csv')"
   ]
  }
 ],
 "metadata": {
  "kernelspec": {
   "display_name": "Python 3",
   "language": "python",
   "name": "python3"
  },
  "language_info": {
   "codemirror_mode": {
    "name": "ipython",
    "version": 3
   },
   "file_extension": ".py",
   "mimetype": "text/x-python",
   "name": "python",
   "nbconvert_exporter": "python",
   "pygments_lexer": "ipython3",
   "version": "3.7.1"
  }
 },
 "nbformat": 4,
 "nbformat_minor": 2
}
