{
 "cells": [
  {
   "cell_type": "markdown",
   "metadata": {},
   "source": [
    "# Variable dz water balance\n",
    "\n",
    "The purpose of this script is to be able to monitor a run's progress and view how the water balance is progressing (for example during spinup). It should take into consideration variable dz adjustments"
   ]
  },
  {
   "cell_type": "code",
   "execution_count": 1,
   "metadata": {},
   "outputs": [],
   "source": [
    "from postproc import scale_pfb\n",
    "import numpy as np\n",
    "\n",
    "import subprocess\n",
    "import glob\n",
    "import os\n",
    "import shutil\n",
    "import time\n",
    "import pandas as pd\n",
    "from io import StringIO\n",
    "\n",
    "%matplotlib inline"
   ]
  },
  {
   "cell_type": "code",
   "execution_count": 2,
   "metadata": {},
   "outputs": [],
   "source": [
    "cur_stop = 87610"
   ]
  },
  {
   "cell_type": "code",
   "execution_count": 3,
   "metadata": {},
   "outputs": [
    {
     "data": {
      "text/plain": [
       "87610"
      ]
     },
     "execution_count": 3,
     "metadata": {},
     "output_type": "execute_result"
    }
   ],
   "source": [
    "8761*10"
   ]
  },
  {
   "cell_type": "code",
   "execution_count": 4,
   "metadata": {},
   "outputs": [],
   "source": [
    "rundir = '/home/theo/pf_files/pf_machine/spinup02a'\n",
    "#rundir = '/home/tclim/Dropbox/projects/pf_simple/01testruns/constslope/'"
   ]
  },
  {
   "cell_type": "markdown",
   "metadata": {},
   "source": [
    "## Write Silo Files for Water Balance"
   ]
  },
  {
   "cell_type": "code",
   "execution_count": 5,
   "metadata": {},
   "outputs": [
    {
     "name": "stdout",
     "output_type": "stream",
     "text": [
      "b''\n",
      "None\n"
     ]
    }
   ],
   "source": [
    "bashCommand = \"tclsh write_wb_silos.tcl %s %s %s %s\" %(rundir,'slopes_only',0,cur_stop)\n",
    "process = subprocess.Popen(bashCommand.split(), stdout=subprocess.PIPE)\n",
    "output, error = process.communicate()\n",
    "print(output)\n",
    "print(error)"
   ]
  },
  {
   "cell_type": "markdown",
   "metadata": {},
   "source": [
    "## Read in NLDAS input\n",
    "\n",
    "```\n",
    "DSWR: Downward Visible or Short-Wave radiation [W/m2 ]. (SW radiation flux downwards)\n",
    "DLWR: Downward Infa-Red or Long-Wave radiation [W/m2 ] (LW radiation flux downwards)\n",
    "APCP: Precipitation rate [mm/s]  (Precipitation hourly total)\n",
    "Temp: Air temperature [K]  (2-m above ground Termperature)\n",
    "UGRD: West-to-East or U-component of wind [m/s]  (10-m above ground Zonal wind speed)\n",
    "VGRD: South-to-North or V-component of wind [m/s] (10-m above ground Medional wind speed)\n",
    "Press: Atmospheric Pressure [pa] (Surface Pressure)\n",
    "SPFH: Water-vapor specific humidity [kg/kg] (2-m above ground humidity)\n",
    "\n",
    "```"
   ]
  },
  {
   "cell_type": "code",
   "execution_count": 6,
   "metadata": {
    "scrolled": true
   },
   "outputs": [
    {
     "data": {
      "text/html": [
       "<div>\n",
       "<style scoped>\n",
       "    .dataframe tbody tr th:only-of-type {\n",
       "        vertical-align: middle;\n",
       "    }\n",
       "\n",
       "    .dataframe tbody tr th {\n",
       "        vertical-align: top;\n",
       "    }\n",
       "\n",
       "    .dataframe thead th {\n",
       "        text-align: right;\n",
       "    }\n",
       "</style>\n",
       "<table border=\"1\" class=\"dataframe\">\n",
       "  <thead>\n",
       "    <tr style=\"text-align: right;\">\n",
       "      <th></th>\n",
       "      <th>DSWR</th>\n",
       "      <th>DLWR</th>\n",
       "      <th>APCP</th>\n",
       "      <th>TMP</th>\n",
       "      <th>UGRD</th>\n",
       "      <th>VGRD</th>\n",
       "      <th>PRESS</th>\n",
       "      <th>SPFH</th>\n",
       "    </tr>\n",
       "  </thead>\n",
       "  <tbody>\n",
       "    <tr>\n",
       "      <th>0</th>\n",
       "      <td>0.0</td>\n",
       "      <td>306.959991</td>\n",
       "      <td>0.000212</td>\n",
       "      <td>270.720001</td>\n",
       "      <td>-0.66</td>\n",
       "      <td>1.46</td>\n",
       "      <td>98751.226562</td>\n",
       "      <td>0.003161</td>\n",
       "    </tr>\n",
       "    <tr>\n",
       "      <th>1</th>\n",
       "      <td>0.0</td>\n",
       "      <td>306.959991</td>\n",
       "      <td>0.000166</td>\n",
       "      <td>270.950012</td>\n",
       "      <td>-0.51</td>\n",
       "      <td>1.10</td>\n",
       "      <td>98789.796875</td>\n",
       "      <td>0.003190</td>\n",
       "    </tr>\n",
       "    <tr>\n",
       "      <th>2</th>\n",
       "      <td>0.0</td>\n",
       "      <td>306.959991</td>\n",
       "      <td>0.000200</td>\n",
       "      <td>271.179993</td>\n",
       "      <td>-0.37</td>\n",
       "      <td>0.73</td>\n",
       "      <td>98827.718750</td>\n",
       "      <td>0.003218</td>\n",
       "    </tr>\n",
       "    <tr>\n",
       "      <th>3</th>\n",
       "      <td>0.0</td>\n",
       "      <td>306.019989</td>\n",
       "      <td>0.000065</td>\n",
       "      <td>271.410004</td>\n",
       "      <td>-0.22</td>\n",
       "      <td>0.36</td>\n",
       "      <td>98866.281250</td>\n",
       "      <td>0.003247</td>\n",
       "    </tr>\n",
       "    <tr>\n",
       "      <th>4</th>\n",
       "      <td>0.0</td>\n",
       "      <td>306.019989</td>\n",
       "      <td>0.000049</td>\n",
       "      <td>271.309998</td>\n",
       "      <td>-0.24</td>\n",
       "      <td>0.18</td>\n",
       "      <td>98764.718750</td>\n",
       "      <td>0.003246</td>\n",
       "    </tr>\n",
       "  </tbody>\n",
       "</table>\n",
       "</div>"
      ],
      "text/plain": [
       "   DSWR        DLWR      APCP         TMP  UGRD  VGRD         PRESS      SPFH\n",
       "0   0.0  306.959991  0.000212  270.720001 -0.66  1.46  98751.226562  0.003161\n",
       "1   0.0  306.959991  0.000166  270.950012 -0.51  1.10  98789.796875  0.003190\n",
       "2   0.0  306.959991  0.000200  271.179993 -0.37  0.73  98827.718750  0.003218\n",
       "3   0.0  306.019989  0.000065  271.410004 -0.22  0.36  98866.281250  0.003247\n",
       "4   0.0  306.019989  0.000049  271.309998 -0.24  0.18  98764.718750  0.003246"
      ]
     },
     "execution_count": 6,
     "metadata": {},
     "output_type": "execute_result"
    }
   ],
   "source": [
    "nldas = pd.read_fwf('%s/dauphco.nldas.10yr.txt' %rundir, header = None, sep = '')\n",
    "nldas.columns = ['DSWR', 'DLWR', 'APCP', 'TMP', 'UGRD', 'VGRD', 'PRESS', 'SPFH']\n",
    "nldas.head()"
   ]
  },
  {
   "cell_type": "code",
   "execution_count": 7,
   "metadata": {
    "scrolled": true
   },
   "outputs": [
    {
     "data": {
      "text/plain": [
       "<matplotlib.axes._subplots.AxesSubplot at 0x7efe8cc19cc0>"
      ]
     },
     "execution_count": 7,
     "metadata": {},
     "output_type": "execute_result"
    },
    {
     "data": {
      "image/png": "[encoded data removed]",
      "text/plain": [
       "<Figure size 432x288 with 1 Axes>"
      ]
     },
     "metadata": {
      "needs_background": "light"
     },
     "output_type": "display_data"
    }
   ],
   "source": [
    "prcp_m_hr = nldas.APCP/1000*60*60 # meters per hour precipitation\n",
    "prcp_v = prcp_m_hr*1200*1000 # total precip volume over domain (to use in water balance)\n",
    "\n",
    "prcp_m_hr[:cur_stop].plot.line()"
   ]
  },
  {
   "cell_type": "code",
   "execution_count": 8,
   "metadata": {},
   "outputs": [],
   "source": [
    "def silo2pfb(rundir, bnam, start, stop, fw=0):\n",
    "    '''\n",
    "    Converts a timeseries of silo output to pfb format\n",
    "    (saves converted pfbs to same directory)\n",
    "    \n",
    "    bnam     the basename of the files (everything up to the iterating index)\n",
    "    start    start number of file indexing\n",
    "    end      end number of file indexing\n",
    "    fw       fixed width = 0 for non-fixed width iterating index, \n",
    "             fixed width = 1 for fixed width (assumed width is 5) index.\n",
    "    '''\n",
    "    bashCommand = \"tclsh silotopfb_iter_bnam.tcl %s %s %s %s %s\" %(rundir, bnam,start,stop, fw)\n",
    "    process = subprocess.Popen(bashCommand.split(), stdout=subprocess.PIPE)\n",
    "    output, error = process.communicate()\n",
    "    print(output)\n",
    "    print(error)\n",
    "    \n",
    "    # if fw =1, rename the output files to remove $runname.out\n",
    "    if fw:\n",
    "        print(\"renaming output pfb files\")\n",
    "        newbnam = bnam.split(\".\")[-1]\n",
    "        \n",
    "        for i in range(start, stop+1):\n",
    "            ofnam = \"%s/%s.%s.pfb\" %(rundir,bnam,i)\n",
    "            nfnam = \"%s/%s.%s.pfb\" %(rundir,newbnam,i)\n",
    "            os.rename(ofnam, nfnam)\n",
    "\n",
    "def sumoverdomain(rundir, bnam, start, stop):\n",
    "    '''\n",
    "    Sums over the entire domain for an input pfb file,\n",
    "    returns a dataframe with columns for t and the sum values\n",
    "    \n",
    "    bnam    the base name of the files to sum\n",
    "    start   the start number of file indexing\n",
    "    end     the end number of file indexing\n",
    "    '''\n",
    "    bashCommand = \"tclsh sum_domain_bnam.tcl %s %s %s %s\" %(rundir, bnam,start,stop)\n",
    "    process = subprocess.Popen(bashCommand.split(), stdout=subprocess.PIPE)\n",
    "    output, error = process.communicate()\n",
    "\n",
    "    # Save the output to a dataframe\n",
    "    output = output.decode(\"utf-8\").format()\n",
    "    df = pd.read_csv(StringIO(output), sep=\"\\t\", header = None)\n",
    "    df.columns = ['t','sum_val']  # add a header (column name)\n",
    "    \n",
    "    # return\n",
    "    return(df)\n",
    "    "
   ]
  },
  {
   "cell_type": "markdown",
   "metadata": {},
   "source": [
    "# Apply scale factors for vdz\n",
    "\n",
    "The scaling factors need to be applied for subsurface storage, and potentially to surface storage and surface runoff as well.\n",
    "\n",
    "- Need a silotopfb_iter.tcl script that can be applied to various files' base names"
   ]
  },
  {
   "cell_type": "code",
   "execution_count": 9,
   "metadata": {},
   "outputs": [],
   "source": [
    "factors = np.array([[2.0],  # <- bottom\n",
    "                    [2.0],\n",
    "                    [2.0],\n",
    "                    [1.0],\n",
    "                    [1.0],\n",
    "                    [1.0],\n",
    "                    [0.25],\n",
    "                    [0.25],\n",
    "                    [0.25],\n",
    "                    [0.25]]) # <- top"
   ]
  },
  {
   "cell_type": "markdown",
   "metadata": {},
   "source": [
    "## Overland Flow \n",
    "Overland flow does not need scale factors applied.\n",
    "\n",
    "**NOTE**: Overland flow needs to be calculated from the silo files that are output from having the Key `pfset Solver.WriteSiloOverlandSum` on. This will produce the correct overland flow sums from the domain needed to close the water balance. The files are of the form: `<runname>.out.overlandsum.00001.silo`. "
   ]
  },
  {
   "cell_type": "code",
   "execution_count": 10,
   "metadata": {},
   "outputs": [
    {
     "name": "stdout",
     "output_type": "stream",
     "text": [
      "b''\n",
      "None\n",
      "renaming output pfb files\n"
     ]
    },
    {
     "data": {
      "text/html": [
       "<div>\n",
       "<style scoped>\n",
       "    .dataframe tbody tr th:only-of-type {\n",
       "        vertical-align: middle;\n",
       "    }\n",
       "\n",
       "    .dataframe tbody tr th {\n",
       "        vertical-align: top;\n",
       "    }\n",
       "\n",
       "    .dataframe thead th {\n",
       "        text-align: right;\n",
       "    }\n",
       "</style>\n",
       "<table border=\"1\" class=\"dataframe\">\n",
       "  <thead>\n",
       "    <tr style=\"text-align: right;\">\n",
       "      <th></th>\n",
       "      <th>t</th>\n",
       "      <th>sum_val</th>\n",
       "    </tr>\n",
       "  </thead>\n",
       "  <tbody>\n",
       "    <tr>\n",
       "      <th>0</th>\n",
       "      <td>1</td>\n",
       "      <td>31.514707</td>\n",
       "    </tr>\n",
       "    <tr>\n",
       "      <th>1</th>\n",
       "      <td>2</td>\n",
       "      <td>22.254552</td>\n",
       "    </tr>\n",
       "    <tr>\n",
       "      <th>2</th>\n",
       "      <td>3</td>\n",
       "      <td>30.999991</td>\n",
       "    </tr>\n",
       "    <tr>\n",
       "      <th>3</th>\n",
       "      <td>4</td>\n",
       "      <td>5.700078</td>\n",
       "    </tr>\n",
       "    <tr>\n",
       "      <th>4</th>\n",
       "      <td>5</td>\n",
       "      <td>3.910004</td>\n",
       "    </tr>\n",
       "    <tr>\n",
       "      <th>5</th>\n",
       "      <td>6</td>\n",
       "      <td>0.964197</td>\n",
       "    </tr>\n",
       "    <tr>\n",
       "      <th>6</th>\n",
       "      <td>7</td>\n",
       "      <td>0.391840</td>\n",
       "    </tr>\n",
       "    <tr>\n",
       "      <th>7</th>\n",
       "      <td>8</td>\n",
       "      <td>0.409124</td>\n",
       "    </tr>\n",
       "    <tr>\n",
       "      <th>8</th>\n",
       "      <td>9</td>\n",
       "      <td>0.424655</td>\n",
       "    </tr>\n",
       "    <tr>\n",
       "      <th>9</th>\n",
       "      <td>10</td>\n",
       "      <td>0.440964</td>\n",
       "    </tr>\n",
       "  </tbody>\n",
       "</table>\n",
       "</div>"
      ],
      "text/plain": [
       "    t    sum_val\n",
       "0   1  31.514707\n",
       "1   2  22.254552\n",
       "2   3  30.999991\n",
       "3   4   5.700078\n",
       "4   5   3.910004\n",
       "5   6   0.964197\n",
       "6   7   0.391840\n",
       "7   8   0.409124\n",
       "8   9   0.424655\n",
       "9  10   0.440964"
      ]
     },
     "execution_count": 10,
     "metadata": {},
     "output_type": "execute_result"
    }
   ],
   "source": [
    "silo2pfb(rundir = rundir, \n",
    "         bnam ='slopes_only.out.overlandsum' , start= 1, stop=cur_stop, fw = 1)\n",
    "\n",
    "of = sumoverdomain(rundir = rundir, \n",
    "                   bnam = 'overlandsum',start = 1, stop= cur_stop)\n",
    "of['sum_val'] = of['sum_val']\n",
    "of.head(10)"
   ]
  },
  {
   "cell_type": "markdown",
   "metadata": {},
   "source": [
    "## Surface Storage \n",
    "Surface storage does not need scale factors applied"
   ]
  },
  {
   "cell_type": "code",
   "execution_count": 11,
   "metadata": {},
   "outputs": [
    {
     "name": "stdout",
     "output_type": "stream",
     "text": [
      "b''\n",
      "None\n"
     ]
    },
    {
     "data": {
      "text/html": [
       "<div>\n",
       "<style scoped>\n",
       "    .dataframe tbody tr th:only-of-type {\n",
       "        vertical-align: middle;\n",
       "    }\n",
       "\n",
       "    .dataframe tbody tr th {\n",
       "        vertical-align: top;\n",
       "    }\n",
       "\n",
       "    .dataframe thead th {\n",
       "        text-align: right;\n",
       "    }\n",
       "</style>\n",
       "<table border=\"1\" class=\"dataframe\">\n",
       "  <thead>\n",
       "    <tr style=\"text-align: right;\">\n",
       "      <th></th>\n",
       "      <th>t</th>\n",
       "      <th>sum_val</th>\n",
       "    </tr>\n",
       "  </thead>\n",
       "  <tbody>\n",
       "    <tr>\n",
       "      <th>0</th>\n",
       "      <td>0</td>\n",
       "      <td>69.188976</td>\n",
       "    </tr>\n",
       "    <tr>\n",
       "      <th>1</th>\n",
       "      <td>1</td>\n",
       "      <td>132.887454</td>\n",
       "    </tr>\n",
       "    <tr>\n",
       "      <th>2</th>\n",
       "      <td>2</td>\n",
       "      <td>119.831404</td>\n",
       "    </tr>\n",
       "    <tr>\n",
       "      <th>3</th>\n",
       "      <td>3</td>\n",
       "      <td>138.111670</td>\n",
       "    </tr>\n",
       "    <tr>\n",
       "      <th>4</th>\n",
       "      <td>4</td>\n",
       "      <td>84.878705</td>\n",
       "    </tr>\n",
       "    <tr>\n",
       "      <th>5</th>\n",
       "      <td>5</td>\n",
       "      <td>78.161212</td>\n",
       "    </tr>\n",
       "    <tr>\n",
       "      <th>6</th>\n",
       "      <td>6</td>\n",
       "      <td>63.968575</td>\n",
       "    </tr>\n",
       "    <tr>\n",
       "      <th>7</th>\n",
       "      <td>7</td>\n",
       "      <td>59.608444</td>\n",
       "    </tr>\n",
       "    <tr>\n",
       "      <th>8</th>\n",
       "      <td>8</td>\n",
       "      <td>59.629853</td>\n",
       "    </tr>\n",
       "    <tr>\n",
       "      <th>9</th>\n",
       "      <td>9</td>\n",
       "      <td>59.710143</td>\n",
       "    </tr>\n",
       "  </tbody>\n",
       "</table>\n",
       "</div>"
      ],
      "text/plain": [
       "   t     sum_val\n",
       "0  0   69.188976\n",
       "1  1  132.887454\n",
       "2  2  119.831404\n",
       "3  3  138.111670\n",
       "4  4   84.878705\n",
       "5  5   78.161212\n",
       "6  6   63.968575\n",
       "7  7   59.608444\n",
       "8  8   59.629853\n",
       "9  9   59.710143"
      ]
     },
     "execution_count": 11,
     "metadata": {},
     "output_type": "execute_result"
    }
   ],
   "source": [
    "silo2pfb(rundir = rundir, bnam ='surface_storage' , start= 0, stop=cur_stop)\n",
    "s = sumoverdomain(rundir = rundir, bnam = 'surface_storage',start = 0, stop= cur_stop)\n",
    "s.head(10)"
   ]
  },
  {
   "cell_type": "markdown",
   "metadata": {},
   "source": [
    "## Subsurface storage"
   ]
  },
  {
   "cell_type": "code",
   "execution_count": 12,
   "metadata": {},
   "outputs": [
    {
     "name": "stdout",
     "output_type": "stream",
     "text": [
      "b''\n",
      "None\n"
     ]
    },
    {
     "data": {
      "text/html": [
       "<div>\n",
       "<style scoped>\n",
       "    .dataframe tbody tr th:only-of-type {\n",
       "        vertical-align: middle;\n",
       "    }\n",
       "\n",
       "    .dataframe tbody tr th {\n",
       "        vertical-align: top;\n",
       "    }\n",
       "\n",
       "    .dataframe thead th {\n",
       "        text-align: right;\n",
       "    }\n",
       "</style>\n",
       "<table border=\"1\" class=\"dataframe\">\n",
       "  <thead>\n",
       "    <tr style=\"text-align: right;\">\n",
       "      <th></th>\n",
       "      <th>t</th>\n",
       "      <th>sum_val</th>\n",
       "    </tr>\n",
       "  </thead>\n",
       "  <tbody>\n",
       "    <tr>\n",
       "      <th>0</th>\n",
       "      <td>0</td>\n",
       "      <td>3.092655e+06</td>\n",
       "    </tr>\n",
       "    <tr>\n",
       "      <th>1</th>\n",
       "      <td>1</td>\n",
       "      <td>3.093186e+06</td>\n",
       "    </tr>\n",
       "    <tr>\n",
       "      <th>2</th>\n",
       "      <td>2</td>\n",
       "      <td>3.093583e+06</td>\n",
       "    </tr>\n",
       "    <tr>\n",
       "      <th>3</th>\n",
       "      <td>3</td>\n",
       "      <td>3.094076e+06</td>\n",
       "    </tr>\n",
       "    <tr>\n",
       "      <th>4</th>\n",
       "      <td>4</td>\n",
       "      <td>3.094183e+06</td>\n",
       "    </tr>\n",
       "    <tr>\n",
       "      <th>5</th>\n",
       "      <td>5</td>\n",
       "      <td>3.094246e+06</td>\n",
       "    </tr>\n",
       "    <tr>\n",
       "      <th>6</th>\n",
       "      <td>6</td>\n",
       "      <td>3.094208e+06</td>\n",
       "    </tr>\n",
       "    <tr>\n",
       "      <th>7</th>\n",
       "      <td>7</td>\n",
       "      <td>3.094133e+06</td>\n",
       "    </tr>\n",
       "    <tr>\n",
       "      <th>8</th>\n",
       "      <td>8</td>\n",
       "      <td>3.094059e+06</td>\n",
       "    </tr>\n",
       "    <tr>\n",
       "      <th>9</th>\n",
       "      <td>9</td>\n",
       "      <td>3.093986e+06</td>\n",
       "    </tr>\n",
       "  </tbody>\n",
       "</table>\n",
       "</div>"
      ],
      "text/plain": [
       "   t       sum_val\n",
       "0  0  3.092655e+06\n",
       "1  1  3.093186e+06\n",
       "2  2  3.093583e+06\n",
       "3  3  3.094076e+06\n",
       "4  4  3.094183e+06\n",
       "5  5  3.094246e+06\n",
       "6  6  3.094208e+06\n",
       "7  7  3.094133e+06\n",
       "8  8  3.094059e+06\n",
       "9  9  3.093986e+06"
      ]
     },
     "execution_count": 12,
     "metadata": {},
     "output_type": "execute_result"
    }
   ],
   "source": [
    "# convert silos to pfbs\n",
    "silo2pfb(rundir = rundir, bnam ='subsurface_storage' , start= 0, stop=cur_stop)\n",
    "\n",
    "# scale pfbs using factors\n",
    "for i in range(0,cur_stop+1):\n",
    "    infnam = '%s/subsurface_storage.%s.pfb' %(rundir, i)\n",
    "    outfnam = '%s/vdz_subsurface_storage.%s.pfb' %(rundir,i)\n",
    "    \n",
    "    scale_pfb(pfbinfnam = infnam, vdzarr = factors, pfboutfnam = outfnam, \n",
    "         nx = 12, ny = 10, dx = 10, dy = 10, dz = 1)\n",
    "    \n",
    "ss = sumoverdomain(rundir = rundir,\n",
    "                   bnam = 'vdz_subsurface_storage',start = 0, stop= cur_stop)\n",
    "ss.head(10)"
   ]
  },
  {
   "cell_type": "markdown",
   "metadata": {},
   "source": [
    "## Evapotranspiration"
   ]
  },
  {
   "cell_type": "code",
   "execution_count": 13,
   "metadata": {},
   "outputs": [
    {
     "name": "stdout",
     "output_type": "stream",
     "text": [
      "b''\n",
      "None\n",
      "renaming output pfb files\n"
     ]
    },
    {
     "data": {
      "text/html": [
       "<div>\n",
       "<style scoped>\n",
       "    .dataframe tbody tr th:only-of-type {\n",
       "        vertical-align: middle;\n",
       "    }\n",
       "\n",
       "    .dataframe tbody tr th {\n",
       "        vertical-align: top;\n",
       "    }\n",
       "\n",
       "    .dataframe thead th {\n",
       "        text-align: right;\n",
       "    }\n",
       "</style>\n",
       "<table border=\"1\" class=\"dataframe\">\n",
       "  <thead>\n",
       "    <tr style=\"text-align: right;\">\n",
       "      <th></th>\n",
       "      <th>t</th>\n",
       "      <th>sum_val</th>\n",
       "    </tr>\n",
       "  </thead>\n",
       "  <tbody>\n",
       "    <tr>\n",
       "      <th>0</th>\n",
       "      <td>0</td>\n",
       "      <td>664.578921</td>\n",
       "    </tr>\n",
       "    <tr>\n",
       "      <th>1</th>\n",
       "      <td>1</td>\n",
       "      <td>516.152544</td>\n",
       "    </tr>\n",
       "    <tr>\n",
       "      <th>2</th>\n",
       "      <td>2</td>\n",
       "      <td>630.901753</td>\n",
       "    </tr>\n",
       "    <tr>\n",
       "      <th>3</th>\n",
       "      <td>3</td>\n",
       "      <td>192.325902</td>\n",
       "    </tr>\n",
       "    <tr>\n",
       "      <th>4</th>\n",
       "      <td>4</td>\n",
       "      <td>141.526238</td>\n",
       "    </tr>\n",
       "    <tr>\n",
       "      <th>5</th>\n",
       "      <td>5</td>\n",
       "      <td>25.762273</td>\n",
       "    </tr>\n",
       "    <tr>\n",
       "      <th>6</th>\n",
       "      <td>6</td>\n",
       "      <td>-15.353984</td>\n",
       "    </tr>\n",
       "    <tr>\n",
       "      <th>7</th>\n",
       "      <td>7</td>\n",
       "      <td>-14.130080</td>\n",
       "    </tr>\n",
       "    <tr>\n",
       "      <th>8</th>\n",
       "      <td>8</td>\n",
       "      <td>-13.466515</td>\n",
       "    </tr>\n",
       "    <tr>\n",
       "      <th>9</th>\n",
       "      <td>9</td>\n",
       "      <td>-12.908789</td>\n",
       "    </tr>\n",
       "  </tbody>\n",
       "</table>\n",
       "</div>"
      ],
      "text/plain": [
       "   t     sum_val\n",
       "0  0  664.578921\n",
       "1  1  516.152544\n",
       "2  2  630.901753\n",
       "3  3  192.325902\n",
       "4  4  141.526238\n",
       "5  5   25.762273\n",
       "6  6  -15.353984\n",
       "7  7  -14.130080\n",
       "8  8  -13.466515\n",
       "9  9  -12.908789"
      ]
     },
     "execution_count": 13,
     "metadata": {},
     "output_type": "execute_result"
    }
   ],
   "source": [
    "factors = np.array([[2.0],  # <- bottom\n",
    "                    [2.0],\n",
    "                    [2.0],\n",
    "                    [1.0],\n",
    "                    [1.0],\n",
    "                    [1.0],\n",
    "                    [0.25],\n",
    "                    [0.25],\n",
    "                    [0.25],\n",
    "                    [0.25]]) # <- top\n",
    "\n",
    "silo2pfb(rundir = rundir, \n",
    "         bnam ='slopes_only.out.evaptranssum' , start= 1, stop=cur_stop, fw = 1)\n",
    "\n",
    "# scale pfbs using factors\n",
    "for i in range(1,cur_stop):\n",
    "    infnam = '%s/evaptranssum.%s.pfb' %(rundir, i)\n",
    "    outfnam = '%s/vdz_evaptranssum.%s.pfb' %(rundir,i)\n",
    "    \n",
    "    scale_pfb(pfbinfnam = infnam, vdzarr = factors, pfboutfnam = outfnam, \n",
    "         nx = 12, ny = 10, dx = 10, dy = 10, dz = 1)\n",
    "\n",
    "et = sumoverdomain(rundir = rundir, \n",
    "                   bnam = 'vdz_evaptranssum',start = 1, stop= cur_stop)\n",
    "et['sum_val'] = et['sum_val']\n",
    "et['t'] = et['t'] - 1\n",
    "et.head(10)"
   ]
  },
  {
   "cell_type": "code",
   "execution_count": 14,
   "metadata": {},
   "outputs": [
    {
     "data": {
      "text/html": [
       "<div>\n",
       "<style scoped>\n",
       "    .dataframe tbody tr th:only-of-type {\n",
       "        vertical-align: middle;\n",
       "    }\n",
       "\n",
       "    .dataframe tbody tr th {\n",
       "        vertical-align: top;\n",
       "    }\n",
       "\n",
       "    .dataframe thead th {\n",
       "        text-align: right;\n",
       "    }\n",
       "</style>\n",
       "<table border=\"1\" class=\"dataframe\">\n",
       "  <thead>\n",
       "    <tr style=\"text-align: right;\">\n",
       "      <th></th>\n",
       "      <th>t</th>\n",
       "      <th>sum_val</th>\n",
       "    </tr>\n",
       "  </thead>\n",
       "  <tbody>\n",
       "    <tr>\n",
       "      <th>87604</th>\n",
       "      <td>87604</td>\n",
       "      <td>74.707193</td>\n",
       "    </tr>\n",
       "    <tr>\n",
       "      <th>87605</th>\n",
       "      <td>87605</td>\n",
       "      <td>74.952985</td>\n",
       "    </tr>\n",
       "    <tr>\n",
       "      <th>87606</th>\n",
       "      <td>87606</td>\n",
       "      <td>75.209846</td>\n",
       "    </tr>\n",
       "    <tr>\n",
       "      <th>87607</th>\n",
       "      <td>87607</td>\n",
       "      <td>75.478314</td>\n",
       "    </tr>\n",
       "    <tr>\n",
       "      <th>87608</th>\n",
       "      <td>87608</td>\n",
       "      <td>75.758874</td>\n",
       "    </tr>\n",
       "  </tbody>\n",
       "</table>\n",
       "</div>"
      ],
      "text/plain": [
       "           t    sum_val\n",
       "87604  87604  74.707193\n",
       "87605  87605  74.952985\n",
       "87606  87606  75.209846\n",
       "87607  87607  75.478314\n",
       "87608  87608  75.758874"
      ]
     },
     "execution_count": 14,
     "metadata": {},
     "output_type": "execute_result"
    }
   ],
   "source": [
    "et.tail()"
   ]
  },
  {
   "cell_type": "markdown",
   "metadata": {},
   "source": [
    "# Water balance\n",
    "\n",
    "**NOTE** This will not balance if the run was executed with overland flow keys on! Water will begin to be \"lost\" from the domain when overland flow occurs."
   ]
  },
  {
   "cell_type": "code",
   "execution_count": 15,
   "metadata": {
    "scrolled": true
   },
   "outputs": [
    {
     "data": {
      "text/html": [
       "<div>\n",
       "<style scoped>\n",
       "    .dataframe tbody tr th:only-of-type {\n",
       "        vertical-align: middle;\n",
       "    }\n",
       "\n",
       "    .dataframe tbody tr th {\n",
       "        vertical-align: top;\n",
       "    }\n",
       "\n",
       "    .dataframe thead th {\n",
       "        text-align: right;\n",
       "    }\n",
       "</style>\n",
       "<table border=\"1\" class=\"dataframe\">\n",
       "  <thead>\n",
       "    <tr style=\"text-align: right;\">\n",
       "      <th></th>\n",
       "      <th>t</th>\n",
       "      <th>vdz_subsurfstor</th>\n",
       "      <th>overland_flow</th>\n",
       "      <th>surf_stor</th>\n",
       "      <th>vdz_et</th>\n",
       "      <th>dom_tot</th>\n",
       "      <th>bndy_flux</th>\n",
       "      <th>exp_wb</th>\n",
       "      <th>dom_tot_chg</th>\n",
       "      <th>diff</th>\n",
       "      <th>pc_diff</th>\n",
       "      <th>prcp_v</th>\n",
       "    </tr>\n",
       "  </thead>\n",
       "  <tbody>\n",
       "    <tr>\n",
       "      <th>0</th>\n",
       "      <td>0</td>\n",
       "      <td>3.092655e+06</td>\n",
       "      <td>-31.514707</td>\n",
       "      <td>69.188976</td>\n",
       "      <td>664.578921</td>\n",
       "      <td>3.092724e+06</td>\n",
       "      <td>633.064214</td>\n",
       "      <td>3.093952e+06</td>\n",
       "      <td>595.389616</td>\n",
       "      <td>-37.674597</td>\n",
       "      <td>0.001218</td>\n",
       "      <td>914.4144</td>\n",
       "    </tr>\n",
       "    <tr>\n",
       "      <th>1</th>\n",
       "      <td>1</td>\n",
       "      <td>3.093186e+06</td>\n",
       "      <td>-22.254552</td>\n",
       "      <td>132.887454</td>\n",
       "      <td>516.152544</td>\n",
       "      <td>3.093319e+06</td>\n",
       "      <td>493.897993</td>\n",
       "      <td>3.094196e+06</td>\n",
       "      <td>383.265330</td>\n",
       "      <td>-110.632663</td>\n",
       "      <td>0.003575</td>\n",
       "      <td>717.5952</td>\n",
       "    </tr>\n",
       "    <tr>\n",
       "      <th>2</th>\n",
       "      <td>2</td>\n",
       "      <td>3.093583e+06</td>\n",
       "      <td>-30.999991</td>\n",
       "      <td>119.831404</td>\n",
       "      <td>630.901753</td>\n",
       "      <td>3.093703e+06</td>\n",
       "      <td>599.901762</td>\n",
       "      <td>3.094814e+06</td>\n",
       "      <td>511.070071</td>\n",
       "      <td>-88.831691</td>\n",
       "      <td>0.002870</td>\n",
       "      <td>862.7904</td>\n",
       "    </tr>\n",
       "    <tr>\n",
       "      <th>3</th>\n",
       "      <td>3</td>\n",
       "      <td>3.094076e+06</td>\n",
       "      <td>-5.700078</td>\n",
       "      <td>138.111670</td>\n",
       "      <td>192.325902</td>\n",
       "      <td>3.094214e+06</td>\n",
       "      <td>186.625825</td>\n",
       "      <td>3.094454e+06</td>\n",
       "      <td>54.214634</td>\n",
       "      <td>-132.411191</td>\n",
       "      <td>0.004279</td>\n",
       "      <td>281.5344</td>\n",
       "    </tr>\n",
       "    <tr>\n",
       "      <th>4</th>\n",
       "      <td>4</td>\n",
       "      <td>3.094183e+06</td>\n",
       "      <td>-3.910004</td>\n",
       "      <td>84.878705</td>\n",
       "      <td>141.526238</td>\n",
       "      <td>3.094268e+06</td>\n",
       "      <td>137.616234</td>\n",
       "      <td>3.094462e+06</td>\n",
       "      <td>56.647940</td>\n",
       "      <td>-80.968294</td>\n",
       "      <td>0.002617</td>\n",
       "      <td>210.9456</td>\n",
       "    </tr>\n",
       "    <tr>\n",
       "      <th>5</th>\n",
       "      <td>5</td>\n",
       "      <td>3.094246e+06</td>\n",
       "      <td>-0.964197</td>\n",
       "      <td>78.161212</td>\n",
       "      <td>25.762273</td>\n",
       "      <td>3.094324e+06</td>\n",
       "      <td>24.798076</td>\n",
       "      <td>3.094297e+06</td>\n",
       "      <td>-52.398509</td>\n",
       "      <td>-77.196585</td>\n",
       "      <td>0.002495</td>\n",
       "      <td>56.4192</td>\n",
       "    </tr>\n",
       "    <tr>\n",
       "      <th>6</th>\n",
       "      <td>6</td>\n",
       "      <td>3.094208e+06</td>\n",
       "      <td>-0.391840</td>\n",
       "      <td>63.968575</td>\n",
       "      <td>-15.353984</td>\n",
       "      <td>3.094272e+06</td>\n",
       "      <td>-15.745824</td>\n",
       "      <td>3.094177e+06</td>\n",
       "      <td>-79.322387</td>\n",
       "      <td>-63.576563</td>\n",
       "      <td>0.002055</td>\n",
       "      <td>0.0000</td>\n",
       "    </tr>\n",
       "    <tr>\n",
       "      <th>7</th>\n",
       "      <td>7</td>\n",
       "      <td>3.094133e+06</td>\n",
       "      <td>-0.409124</td>\n",
       "      <td>59.608444</td>\n",
       "      <td>-14.130080</td>\n",
       "      <td>3.094193e+06</td>\n",
       "      <td>-14.539204</td>\n",
       "      <td>3.094105e+06</td>\n",
       "      <td>-73.738546</td>\n",
       "      <td>-59.199342</td>\n",
       "      <td>0.001913</td>\n",
       "      <td>0.0000</td>\n",
       "    </tr>\n",
       "    <tr>\n",
       "      <th>8</th>\n",
       "      <td>8</td>\n",
       "      <td>3.094059e+06</td>\n",
       "      <td>-0.424655</td>\n",
       "      <td>59.629853</td>\n",
       "      <td>-13.466515</td>\n",
       "      <td>3.094119e+06</td>\n",
       "      <td>-13.891169</td>\n",
       "      <td>3.094032e+06</td>\n",
       "      <td>-73.096997</td>\n",
       "      <td>-59.205828</td>\n",
       "      <td>0.001914</td>\n",
       "      <td>0.0000</td>\n",
       "    </tr>\n",
       "    <tr>\n",
       "      <th>9</th>\n",
       "      <td>9</td>\n",
       "      <td>3.093986e+06</td>\n",
       "      <td>-0.440964</td>\n",
       "      <td>59.710143</td>\n",
       "      <td>-12.908789</td>\n",
       "      <td>3.094046e+06</td>\n",
       "      <td>-13.349753</td>\n",
       "      <td>3.093960e+06</td>\n",
       "      <td>-72.619668</td>\n",
       "      <td>-59.269914</td>\n",
       "      <td>0.001916</td>\n",
       "      <td>0.0000</td>\n",
       "    </tr>\n",
       "    <tr>\n",
       "      <th>10</th>\n",
       "      <td>10</td>\n",
       "      <td>3.093914e+06</td>\n",
       "      <td>-0.460070</td>\n",
       "      <td>59.803936</td>\n",
       "      <td>-12.328251</td>\n",
       "      <td>3.093973e+06</td>\n",
       "      <td>-12.788321</td>\n",
       "      <td>3.093888e+06</td>\n",
       "      <td>-72.132636</td>\n",
       "      <td>-59.344315</td>\n",
       "      <td>0.001918</td>\n",
       "      <td>0.0000</td>\n",
       "    </tr>\n",
       "    <tr>\n",
       "      <th>11</th>\n",
       "      <td>11</td>\n",
       "      <td>3.093841e+06</td>\n",
       "      <td>-0.449661</td>\n",
       "      <td>59.918904</td>\n",
       "      <td>-12.715402</td>\n",
       "      <td>3.093901e+06</td>\n",
       "      <td>-13.165063</td>\n",
       "      <td>3.093815e+06</td>\n",
       "      <td>-72.634138</td>\n",
       "      <td>-59.469074</td>\n",
       "      <td>0.001922</td>\n",
       "      <td>0.0000</td>\n",
       "    </tr>\n",
       "    <tr>\n",
       "      <th>12</th>\n",
       "      <td>12</td>\n",
       "      <td>3.093769e+06</td>\n",
       "      <td>-0.402980</td>\n",
       "      <td>59.832336</td>\n",
       "      <td>-14.324247</td>\n",
       "      <td>3.093829e+06</td>\n",
       "      <td>-14.727227</td>\n",
       "      <td>3.093740e+06</td>\n",
       "      <td>-74.156413</td>\n",
       "      <td>-59.429185</td>\n",
       "      <td>0.001921</td>\n",
       "      <td>0.0000</td>\n",
       "    </tr>\n",
       "    <tr>\n",
       "      <th>13</th>\n",
       "      <td>13</td>\n",
       "      <td>3.093695e+06</td>\n",
       "      <td>-1.322098</td>\n",
       "      <td>59.479509</td>\n",
       "      <td>45.525081</td>\n",
       "      <td>3.093754e+06</td>\n",
       "      <td>44.202983</td>\n",
       "      <td>3.093785e+06</td>\n",
       "      <td>-13.954439</td>\n",
       "      <td>-58.157422</td>\n",
       "      <td>0.001880</td>\n",
       "      <td>79.4448</td>\n",
       "    </tr>\n",
       "    <tr>\n",
       "      <th>14</th>\n",
       "      <td>14</td>\n",
       "      <td>3.093676e+06</td>\n",
       "      <td>-0.347519</td>\n",
       "      <td>64.753200</td>\n",
       "      <td>-18.070899</td>\n",
       "      <td>3.093740e+06</td>\n",
       "      <td>-18.418418</td>\n",
       "      <td>3.093639e+06</td>\n",
       "      <td>-82.823888</td>\n",
       "      <td>-64.405471</td>\n",
       "      <td>0.002082</td>\n",
       "      <td>0.0000</td>\n",
       "    </tr>\n",
       "    <tr>\n",
       "      <th>15</th>\n",
       "      <td>15</td>\n",
       "      <td>3.093598e+06</td>\n",
       "      <td>-0.797750</td>\n",
       "      <td>59.153476</td>\n",
       "      <td>20.344197</td>\n",
       "      <td>3.093658e+06</td>\n",
       "      <td>19.546446</td>\n",
       "      <td>3.093638e+06</td>\n",
       "      <td>-38.809476</td>\n",
       "      <td>-58.355922</td>\n",
       "      <td>0.001886</td>\n",
       "      <td>55.6848</td>\n",
       "    </tr>\n",
       "    <tr>\n",
       "      <th>16</th>\n",
       "      <td>16</td>\n",
       "      <td>3.093557e+06</td>\n",
       "      <td>-0.372337</td>\n",
       "      <td>62.021854</td>\n",
       "      <td>-17.832804</td>\n",
       "      <td>3.093619e+06</td>\n",
       "      <td>-18.205141</td>\n",
       "      <td>3.093521e+06</td>\n",
       "      <td>-79.854464</td>\n",
       "      <td>-61.649323</td>\n",
       "      <td>0.001993</td>\n",
       "      <td>0.0000</td>\n",
       "    </tr>\n",
       "    <tr>\n",
       "      <th>17</th>\n",
       "      <td>17</td>\n",
       "      <td>3.093480e+06</td>\n",
       "      <td>-0.253072</td>\n",
       "      <td>59.111917</td>\n",
       "      <td>-25.430502</td>\n",
       "      <td>3.093539e+06</td>\n",
       "      <td>-25.683574</td>\n",
       "      <td>3.093429e+06</td>\n",
       "      <td>-84.542216</td>\n",
       "      <td>-58.858641</td>\n",
       "      <td>0.001903</td>\n",
       "      <td>0.0000</td>\n",
       "    </tr>\n",
       "    <tr>\n",
       "      <th>18</th>\n",
       "      <td>18</td>\n",
       "      <td>3.093396e+06</td>\n",
       "      <td>-0.260872</td>\n",
       "      <td>58.120469</td>\n",
       "      <td>-24.815191</td>\n",
       "      <td>3.093454e+06</td>\n",
       "      <td>-25.076063</td>\n",
       "      <td>3.093346e+06</td>\n",
       "      <td>-82.935651</td>\n",
       "      <td>-57.859588</td>\n",
       "      <td>0.001870</td>\n",
       "      <td>0.0000</td>\n",
       "    </tr>\n",
       "    <tr>\n",
       "      <th>19</th>\n",
       "      <td>19</td>\n",
       "      <td>3.093313e+06</td>\n",
       "      <td>-0.259061</td>\n",
       "      <td>58.114880</td>\n",
       "      <td>-24.061682</td>\n",
       "      <td>3.093371e+06</td>\n",
       "      <td>-24.320743</td>\n",
       "      <td>3.093265e+06</td>\n",
       "      <td>-82.176423</td>\n",
       "      <td>-57.855680</td>\n",
       "      <td>0.001870</td>\n",
       "      <td>0.0000</td>\n",
       "    </tr>\n",
       "  </tbody>\n",
       "</table>\n",
       "</div>"
      ],
      "text/plain": [
       "     t  vdz_subsurfstor  overland_flow   surf_stor      vdz_et       dom_tot  \\\n",
       "0    0     3.092655e+06     -31.514707   69.188976  664.578921  3.092724e+06   \n",
       "1    1     3.093186e+06     -22.254552  132.887454  516.152544  3.093319e+06   \n",
       "2    2     3.093583e+06     -30.999991  119.831404  630.901753  3.093703e+06   \n",
       "3    3     3.094076e+06      -5.700078  138.111670  192.325902  3.094214e+06   \n",
       "4    4     3.094183e+06      -3.910004   84.878705  141.526238  3.094268e+06   \n",
       "5    5     3.094246e+06      -0.964197   78.161212   25.762273  3.094324e+06   \n",
       "6    6     3.094208e+06      -0.391840   63.968575  -15.353984  3.094272e+06   \n",
       "7    7     3.094133e+06      -0.409124   59.608444  -14.130080  3.094193e+06   \n",
       "8    8     3.094059e+06      -0.424655   59.629853  -13.466515  3.094119e+06   \n",
       "9    9     3.093986e+06      -0.440964   59.710143  -12.908789  3.094046e+06   \n",
       "10  10     3.093914e+06      -0.460070   59.803936  -12.328251  3.093973e+06   \n",
       "11  11     3.093841e+06      -0.449661   59.918904  -12.715402  3.093901e+06   \n",
       "12  12     3.093769e+06      -0.402980   59.832336  -14.324247  3.093829e+06   \n",
       "13  13     3.093695e+06      -1.322098   59.479509   45.525081  3.093754e+06   \n",
       "14  14     3.093676e+06      -0.347519   64.753200  -18.070899  3.093740e+06   \n",
       "15  15     3.093598e+06      -0.797750   59.153476   20.344197  3.093658e+06   \n",
       "16  16     3.093557e+06      -0.372337   62.021854  -17.832804  3.093619e+06   \n",
       "17  17     3.093480e+06      -0.253072   59.111917  -25.430502  3.093539e+06   \n",
       "18  18     3.093396e+06      -0.260872   58.120469  -24.815191  3.093454e+06   \n",
       "19  19     3.093313e+06      -0.259061   58.114880  -24.061682  3.093371e+06   \n",
       "\n",
       "     bndy_flux        exp_wb  dom_tot_chg        diff   pc_diff    prcp_v  \n",
       "0   633.064214  3.093952e+06   595.389616  -37.674597  0.001218  914.4144  \n",
       "1   493.897993  3.094196e+06   383.265330 -110.632663  0.003575  717.5952  \n",
       "2   599.901762  3.094814e+06   511.070071  -88.831691  0.002870  862.7904  \n",
       "3   186.625825  3.094454e+06    54.214634 -132.411191  0.004279  281.5344  \n",
       "4   137.616234  3.094462e+06    56.647940  -80.968294  0.002617  210.9456  \n",
       "5    24.798076  3.094297e+06   -52.398509  -77.196585  0.002495   56.4192  \n",
       "6   -15.745824  3.094177e+06   -79.322387  -63.576563  0.002055    0.0000  \n",
       "7   -14.539204  3.094105e+06   -73.738546  -59.199342  0.001913    0.0000  \n",
       "8   -13.891169  3.094032e+06   -73.096997  -59.205828  0.001914    0.0000  \n",
       "9   -13.349753  3.093960e+06   -72.619668  -59.269914  0.001916    0.0000  \n",
       "10  -12.788321  3.093888e+06   -72.132636  -59.344315  0.001918    0.0000  \n",
       "11  -13.165063  3.093815e+06   -72.634138  -59.469074  0.001922    0.0000  \n",
       "12  -14.727227  3.093740e+06   -74.156413  -59.429185  0.001921    0.0000  \n",
       "13   44.202983  3.093785e+06   -13.954439  -58.157422  0.001880   79.4448  \n",
       "14  -18.418418  3.093639e+06   -82.823888  -64.405471  0.002082    0.0000  \n",
       "15   19.546446  3.093638e+06   -38.809476  -58.355922  0.001886   55.6848  \n",
       "16  -18.205141  3.093521e+06   -79.854464  -61.649323  0.001993    0.0000  \n",
       "17  -25.683574  3.093429e+06   -84.542216  -58.858641  0.001903    0.0000  \n",
       "18  -25.076063  3.093346e+06   -82.935651  -57.859588  0.001870    0.0000  \n",
       "19  -24.320743  3.093265e+06   -82.176423  -57.855680  0.001870    0.0000  "
      ]
     },
     "execution_count": 15,
     "metadata": {},
     "output_type": "execute_result"
    }
   ],
   "source": [
    "wb = ss.merge(of, on = 't', how = 'left').merge(s, on = 't', how = 'left').merge(et, on = 't', how = 'left')\n",
    "wb.columns = ['t', 'vdz_subsurfstor', 'overland_flow', 'surf_stor', 'vdz_et']\n",
    "wb['overland_flow'] = (- wb['overland_flow'])  \n",
    "wb['overland_flow'] = wb['overland_flow'].shift(-1)  \n",
    "wb['dom_tot'] = wb['vdz_subsurfstor'] +  wb['surf_stor'] \n",
    "wb['bndy_flux'] = wb['vdz_et'] + wb['overland_flow']                \n",
    "wb['exp_wb'] = wb['dom_tot'].shift(-1) + wb['bndy_flux']\n",
    "wb['dom_tot_chg'] = wb['dom_tot'].diff()\n",
    "wb['dom_tot_chg'] = wb['dom_tot_chg'].shift(-1)\n",
    "wb['diff'] = wb['dom_tot_chg'] - wb['bndy_flux']\n",
    "wb['pc_diff'] = abs(wb['diff'])/wb['exp_wb']*100\n",
    "wb['prcp_v'] = prcp_v[:cur_stop]\n",
    "\n",
    "wb.head(20)"
   ]
  },
  {
   "cell_type": "code",
   "execution_count": 16,
   "metadata": {
    "scrolled": true
   },
   "outputs": [
    {
     "data": {
      "text/plain": [
       "(87400, 12)"
      ]
     },
     "execution_count": 16,
     "metadata": {},
     "output_type": "execute_result"
    }
   ],
   "source": [
    "wb[abs(wb['pc_diff']) > 0.0005].shape  # this should have zero rows if the water balance is closing"
   ]
  },
  {
   "cell_type": "code",
   "execution_count": 17,
   "metadata": {},
   "outputs": [
    {
     "data": {
      "text/plain": [
       "0.21890336846288513"
      ]
     },
     "execution_count": 17,
     "metadata": {},
     "output_type": "execute_result"
    }
   ],
   "source": [
    "# check what the pct differences are\n",
    "max(wb.pc_diff.dropna())"
   ]
  },
  {
   "cell_type": "code",
   "execution_count": 18,
   "metadata": {
    "scrolled": true
   },
   "outputs": [
    {
     "data": {
      "text/plain": [
       "0             NaN\n",
       "8761    -0.130884\n",
       "17522    0.001623\n",
       "26283    0.006878\n",
       "35044    0.005912\n",
       "43805    0.006239\n",
       "52566    0.006043\n",
       "61327    0.004657\n",
       "70088    0.004181\n",
       "78849    0.003939\n",
       "87610    0.106595\n",
       "Name: surf_stor, dtype: float64"
      ]
     },
     "execution_count": 18,
     "metadata": {},
     "output_type": "execute_result"
    }
   ],
   "source": [
    "# for checking changes from multiple years (of spinup) -- make sure water is not building up on surface\n",
    "wb['surf_stor'].iloc[np.multiply(8761,[0,1,2,3,4,5,6,7,8,9,10])].pct_change()"
   ]
  },
  {
   "cell_type": "code",
   "execution_count": 19,
   "metadata": {
    "scrolled": true
   },
   "outputs": [
    {
     "data": {
      "text/plain": [
       "0             NaN\n",
       "8761    -0.007741\n",
       "17522   -0.000123\n",
       "26283    0.000895\n",
       "35044    0.001098\n",
       "43805    0.001175\n",
       "52566    0.001108\n",
       "61327    0.001024\n",
       "70088    0.000923\n",
       "78849    0.000863\n",
       "87610    0.000960\n",
       "Name: vdz_subsurfstor, dtype: float64"
      ]
     },
     "execution_count": 19,
     "metadata": {},
     "output_type": "execute_result"
    }
   ],
   "source": [
    "# for checking changes from multiple years (of spinup)\n",
    "wb['vdz_subsurfstor'].iloc[np.multiply(8761,[0,1,2,3,4,5,6,7,8,9,10])].pct_change()"
   ]
  },
  {
   "cell_type": "code",
   "execution_count": 23,
   "metadata": {},
   "outputs": [
    {
     "data": {
      "text/plain": [
       "<matplotlib.axes._subplots.AxesSubplot at 0x7efe9928be10>"
      ]
     },
     "execution_count": 23,
     "metadata": {},
     "output_type": "execute_result"
    },
    {
     "data": {
      "image/png": "[encoded data removed]",
      "text/plain": [
       "<Figure size 432x288 with 1 Axes>"
      ]
     },
     "metadata": {
      "needs_background": "light"
     },
     "output_type": "display_data"
    }
   ],
   "source": [
    "wb['vdz_subsurfstor'].plot.line()"
   ]
  },
  {
   "cell_type": "code",
   "execution_count": 20,
   "metadata": {},
   "outputs": [
    {
     "data": {
      "text/plain": [
       "<matplotlib.axes._subplots.AxesSubplot at 0x7efe992bd710>"
      ]
     },
     "execution_count": 20,
     "metadata": {},
     "output_type": "execute_result"
    },
    {
     "data": {
      "image/png": "[encoded data removed]",
      "text/plain": [
       "<Figure size 432x288 with 1 Axes>"
      ]
     },
     "metadata": {
      "needs_background": "light"
     },
     "output_type": "display_data"
    }
   ],
   "source": [
    "# boundary fluxes\n",
    "wb[['vdz_et', 'overland_flow']].plot.line()"
   ]
  },
  {
   "cell_type": "code",
   "execution_count": 21,
   "metadata": {},
   "outputs": [
    {
     "data": {
      "text/plain": [
       "<matplotlib.axes._subplots.AxesSubplot at 0x7efe94956e10>"
      ]
     },
     "execution_count": 21,
     "metadata": {},
     "output_type": "execute_result"
    },
    {
     "data": {
      "image/png": "[encoded data removed]",
      "text/plain": [
       "<Figure size 432x288 with 1 Axes>"
      ]
     },
     "metadata": {
      "needs_background": "light"
     },
     "output_type": "display_data"
    }
   ],
   "source": [
    "wb['overland_flow'].plot()"
   ]
  },
  {
   "cell_type": "code",
   "execution_count": 22,
   "metadata": {},
   "outputs": [],
   "source": [
    "# save this water balance to file\n",
    "wb.to_csv('spinup02a_10years.csv')"
   ]
  }
 ],
 "metadata": {
  "kernelspec": {
   "display_name": "Python 3",
   "language": "python",
   "name": "python3"
  },
  "language_info": {
   "codemirror_mode": {
    "name": "ipython",
    "version": 3
   },
   "file_extension": ".py",
   "mimetype": "text/x-python",
   "name": "python",
   "nbconvert_exporter": "python",
   "pygments_lexer": "ipython3",
   "version": "3.7.1"
  }
 },
 "nbformat": 4,
 "nbformat_minor": 2
}
