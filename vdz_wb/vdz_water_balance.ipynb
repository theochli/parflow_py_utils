{
 "cells": [
  {
   "cell_type": "markdown",
   "metadata": {},
   "source": [
    "# Variable dz water balance\n",
    "\n",
    "Comparing het1 and het2, different scenarios, 1 year of simulation post-spinup"
   ]
  },
  {
   "cell_type": "code",
   "execution_count": 1,
   "metadata": {},
   "outputs": [],
   "source": [
    "from postproc import scale_pfb\n",
    "import numpy as np\n",
    "\n",
    "import subprocess\n",
    "import glob\n",
    "import os\n",
    "import shutil\n",
    "import time\n",
    "import pandas as pd\n",
    "from io import StringIO\n",
    "\n",
    "import itertools\n",
    "\n",
    "\n",
    "%matplotlib inline"
   ]
  },
  {
   "cell_type": "code",
   "execution_count": 2,
   "metadata": {},
   "outputs": [],
   "source": [
    "cur_stop = 87610"
   ]
  },
  {
   "cell_type": "code",
   "execution_count": 3,
   "metadata": {},
   "outputs": [],
   "source": [
    "rundir = '/home/theo/pf_files/pf_machine/scenarios/het2/01run'\n",
    "#rundir = '/home/tclim/Dropbox/projects/pf_simple/01testruns/constslope/'"
   ]
  },
  {
   "cell_type": "markdown",
   "metadata": {},
   "source": [
    "## Write Silo Files for Water Balance"
   ]
  },
  {
   "cell_type": "code",
   "execution_count": 4,
   "metadata": {},
   "outputs": [
    {
     "name": "stdout",
     "output_type": "stream",
     "text": [
      "b''\n",
      "None\n"
     ]
    }
   ],
   "source": [
    "bashCommand = \"tclsh write_wb_silos.tcl %s %s %s %s\" %(rundir,'slopes_only',0,cur_stop)\n",
    "process = subprocess.Popen(bashCommand.split(), stdout=subprocess.PIPE)\n",
    "output, error = process.communicate()\n",
    "print(output)\n",
    "print(error)"
   ]
  },
  {
   "cell_type": "markdown",
   "metadata": {},
   "source": [
    "## Read in NLDAS input\n",
    "\n",
    "```\n",
    "DSWR: Downward Visible or Short-Wave radiation [W/m2 ]. (SW radiation flux downwards)\n",
    "DLWR: Downward Infa-Red or Long-Wave radiation [W/m2 ] (LW radiation flux downwards)\n",
    "APCP: Precipitation rate [mm/s]  (Precipitation hourly total)\n",
    "Temp: Air temperature [K]  (2-m above ground Termperature)\n",
    "UGRD: West-to-East or U-component of wind [m/s]  (10-m above ground Zonal wind speed)\n",
    "VGRD: South-to-North or V-component of wind [m/s] (10-m above ground Medional wind speed)\n",
    "Press: Atmospheric Pressure [pa] (Surface Pressure)\n",
    "SPFH: Water-vapor specific humidity [kg/kg] (2-m above ground humidity)\n",
    "\n",
    "```"
   ]
  },
  {
   "cell_type": "code",
   "execution_count": 5,
   "metadata": {
    "scrolled": true
   },
   "outputs": [
    {
     "data": {
      "text/html": [
       "<div>\n",
       "<style scoped>\n",
       "    .dataframe tbody tr th:only-of-type {\n",
       "        vertical-align: middle;\n",
       "    }\n",
       "\n",
       "    .dataframe tbody tr th {\n",
       "        vertical-align: top;\n",
       "    }\n",
       "\n",
       "    .dataframe thead th {\n",
       "        text-align: right;\n",
       "    }\n",
       "</style>\n",
       "<table border=\"1\" class=\"dataframe\">\n",
       "  <thead>\n",
       "    <tr style=\"text-align: right;\">\n",
       "      <th></th>\n",
       "      <th>DSWR</th>\n",
       "      <th>DLWR</th>\n",
       "      <th>APCP</th>\n",
       "      <th>TMP</th>\n",
       "      <th>UGRD</th>\n",
       "      <th>VGRD</th>\n",
       "      <th>PRESS</th>\n",
       "      <th>SPFH</th>\n",
       "    </tr>\n",
       "  </thead>\n",
       "  <tbody>\n",
       "    <tr>\n",
       "      <th>0</th>\n",
       "      <td>0.0</td>\n",
       "      <td>306.959991</td>\n",
       "      <td>0.000212</td>\n",
       "      <td>270.720001</td>\n",
       "      <td>-0.66</td>\n",
       "      <td>1.46</td>\n",
       "      <td>98751.226562</td>\n",
       "      <td>0.003161</td>\n",
       "    </tr>\n",
       "    <tr>\n",
       "      <th>1</th>\n",
       "      <td>0.0</td>\n",
       "      <td>306.959991</td>\n",
       "      <td>0.000166</td>\n",
       "      <td>270.950012</td>\n",
       "      <td>-0.51</td>\n",
       "      <td>1.10</td>\n",
       "      <td>98789.796875</td>\n",
       "      <td>0.003190</td>\n",
       "    </tr>\n",
       "    <tr>\n",
       "      <th>2</th>\n",
       "      <td>0.0</td>\n",
       "      <td>306.959991</td>\n",
       "      <td>0.000200</td>\n",
       "      <td>271.179993</td>\n",
       "      <td>-0.37</td>\n",
       "      <td>0.73</td>\n",
       "      <td>98827.718750</td>\n",
       "      <td>0.003218</td>\n",
       "    </tr>\n",
       "    <tr>\n",
       "      <th>3</th>\n",
       "      <td>0.0</td>\n",
       "      <td>306.019989</td>\n",
       "      <td>0.000065</td>\n",
       "      <td>271.410004</td>\n",
       "      <td>-0.22</td>\n",
       "      <td>0.36</td>\n",
       "      <td>98866.281250</td>\n",
       "      <td>0.003247</td>\n",
       "    </tr>\n",
       "    <tr>\n",
       "      <th>4</th>\n",
       "      <td>0.0</td>\n",
       "      <td>306.019989</td>\n",
       "      <td>0.000049</td>\n",
       "      <td>271.309998</td>\n",
       "      <td>-0.24</td>\n",
       "      <td>0.18</td>\n",
       "      <td>98764.718750</td>\n",
       "      <td>0.003246</td>\n",
       "    </tr>\n",
       "  </tbody>\n",
       "</table>\n",
       "</div>"
      ],
      "text/plain": [
       "   DSWR        DLWR      APCP         TMP  UGRD  VGRD         PRESS      SPFH\n",
       "0   0.0  306.959991  0.000212  270.720001 -0.66  1.46  98751.226562  0.003161\n",
       "1   0.0  306.959991  0.000166  270.950012 -0.51  1.10  98789.796875  0.003190\n",
       "2   0.0  306.959991  0.000200  271.179993 -0.37  0.73  98827.718750  0.003218\n",
       "3   0.0  306.019989  0.000065  271.410004 -0.22  0.36  98866.281250  0.003247\n",
       "4   0.0  306.019989  0.000049  271.309998 -0.24  0.18  98764.718750  0.003246"
      ]
     },
     "execution_count": 5,
     "metadata": {},
     "output_type": "execute_result"
    }
   ],
   "source": [
    "nldas = pd.read_fwf('%s/dauphco.nldas.10yr.txt' %rundir, header = None, sep = '')\n",
    "nldas.columns = ['DSWR', 'DLWR', 'APCP', 'TMP', 'UGRD', 'VGRD', 'PRESS', 'SPFH']\n",
    "nldas.head()"
   ]
  },
  {
   "cell_type": "code",
   "execution_count": 6,
   "metadata": {
    "scrolled": false
   },
   "outputs": [
    {
     "data": {
      "text/plain": [
       "<matplotlib.axes._subplots.AxesSubplot at 0x7fb6f51bc7f0>"
      ]
     },
     "execution_count": 6,
     "metadata": {},
     "output_type": "execute_result"
    },
    {
     "data": {
      "image/png": "[encoded data removed]",
      "text/plain": [
       "<Figure size 432x288 with 1 Axes>"
      ]
     },
     "metadata": {
      "needs_background": "light"
     },
     "output_type": "display_data"
    }
   ],
   "source": [
    "prcp_m_hr = nldas.APCP/1000*60*60 # meters per hour precipitation\n",
    "prcp_v = prcp_m_hr*1200*1000 # total precip volume over domain (to use in water balance)\n",
    "\n",
    "prcp_m_hr[:cur_stop].plot.line()"
   ]
  },
  {
   "cell_type": "code",
   "execution_count": 7,
   "metadata": {},
   "outputs": [
    {
     "data": {
      "text/plain": [
       "8761"
      ]
     },
     "execution_count": 7,
     "metadata": {},
     "output_type": "execute_result"
    }
   ],
   "source": [
    "lst = range(1,366)\n",
    "d = list(itertools.chain.from_iterable(itertools.repeat(x, 24) for x in lst))\n",
    "d.append(366)\n",
    "len(d)"
   ]
  },
  {
   "cell_type": "code",
   "execution_count": 8,
   "metadata": {},
   "outputs": [
    {
     "data": {
      "text/plain": [
       "<matplotlib.axes._subplots.AxesSubplot at 0x7fb7185f9cc0>"
      ]
     },
     "execution_count": 8,
     "metadata": {},
     "output_type": "execute_result"
    },
    {
     "data": {
      "image/png": "[encoded data removed]",
      "text/plain": [
       "<Figure size 432x288 with 1 Axes>"
      ]
     },
     "metadata": {
      "needs_background": "light"
     },
     "output_type": "display_data"
    }
   ],
   "source": [
    "prcp_1yr = pd.DataFrame({'prcp_m_h' : prcp_m_hr[:8761],\n",
    "                        'doy': d})\n",
    "prcp_1yr['prcp_m_h'].plot.line()"
   ]
  },
  {
   "cell_type": "code",
   "execution_count": 9,
   "metadata": {},
   "outputs": [
    {
     "data": {
      "text/plain": [
       "<matplotlib.axes._subplots.AxesSubplot at 0x7fb7189aa0f0>"
      ]
     },
     "execution_count": 9,
     "metadata": {},
     "output_type": "execute_result"
    },
    {
     "data": {
      "image/png": "[encoded data removed]",
      "text/plain": [
       "<Figure size 432x288 with 1 Axes>"
      ]
     },
     "metadata": {
      "needs_background": "light"
     },
     "output_type": "display_data"
    }
   ],
   "source": [
    "# DAILY PRECIPITATION TOTALS\n",
    "prcp_1yr_daily = prcp_1yr.groupby(['doy'], as_index=False).sum()\n",
    "prcp_1yr_daily['prcp_m_h'].plot.line()"
   ]
  },
  {
   "cell_type": "code",
   "execution_count": 10,
   "metadata": {},
   "outputs": [],
   "source": [
    "def silo2pfb(rundir, bnam, start, stop, fw=0):\n",
    "    '''\n",
    "    Converts a timeseries of silo output to pfb format\n",
    "    (saves converted pfbs to same directory)\n",
    "    \n",
    "    bnam     the basename of the files (everything up to the iterating index)\n",
    "    start    start number of file indexing\n",
    "    end      end number of file indexing\n",
    "    fw       fixed width = 0 for non-fixed width iterating index, \n",
    "             fixed width = 1 for fixed width (assumed width is 5) index.\n",
    "    '''\n",
    "    bashCommand = \"tclsh silotopfb_iter_bnam.tcl %s %s %s %s %s\" %(rundir, bnam,start,stop, fw)\n",
    "    process = subprocess.Popen(bashCommand.split(), stdout=subprocess.PIPE)\n",
    "    output, error = process.communicate()\n",
    "    print(output)\n",
    "    print(error)\n",
    "    \n",
    "    # if fw =1, rename the output files to remove $runname.out\n",
    "    if fw:\n",
    "        print(\"renaming output pfb files\")\n",
    "        newbnam = bnam.split(\".\")[-1]\n",
    "        \n",
    "        for i in range(start, stop+1):\n",
    "            ofnam = \"%s/%s.%s.pfb\" %(rundir,bnam,i)\n",
    "            nfnam = \"%s/%s.%s.pfb\" %(rundir,newbnam,i)\n",
    "            os.rename(ofnam, nfnam)\n",
    "\n",
    "def sumoverdomain(rundir, bnam, start, stop):\n",
    "    '''\n",
    "    Sums over the entire domain for an input pfb file,\n",
    "    returns a dataframe with columns for t and the sum values\n",
    "    \n",
    "    bnam    the base name of the files to sum\n",
    "    start   the start number of file indexing\n",
    "    end     the end number of file indexing\n",
    "    '''\n",
    "    bashCommand = \"tclsh sum_domain_bnam.tcl %s %s %s %s\" %(rundir, bnam,start,stop)\n",
    "    process = subprocess.Popen(bashCommand.split(), stdout=subprocess.PIPE)\n",
    "    output, error = process.communicate()\n",
    "\n",
    "    # Save the output to a dataframe\n",
    "    output = output.decode(\"utf-8\").format()\n",
    "    df = pd.read_csv(StringIO(output), sep=\"\\t\", header = None)\n",
    "    df.columns = ['t','sum_val']  # add a header (column name)\n",
    "    \n",
    "    # return\n",
    "    return(df)\n",
    "    "
   ]
  },
  {
   "cell_type": "markdown",
   "metadata": {},
   "source": [
    "# Apply scale factors for vdz\n",
    "\n",
    "The scaling factors need to be applied for subsurface storage, and potentially to surface storage and surface runoff as well.\n",
    "\n",
    "- Need a silotopfb_iter.tcl script that can be applied to various files' base names"
   ]
  },
  {
   "cell_type": "code",
   "execution_count": 11,
   "metadata": {},
   "outputs": [],
   "source": [
    "factors = np.array([[2.0],  # <- bottom\n",
    "                    [2.0],\n",
    "                    [2.0],\n",
    "                    [1.0],\n",
    "                    [1.0],\n",
    "                    [1.0],\n",
    "                    [0.25],\n",
    "                    [0.25],\n",
    "                    [0.25],\n",
    "                    [0.25]]) # <- top"
   ]
  },
  {
   "cell_type": "markdown",
   "metadata": {},
   "source": [
    "## Overland Flow \n",
    "Overland flow does not need scale factors applied.\n",
    "\n",
    "**NOTE**: Overland flow needs to be calculated from the silo files that are output from having the Key `pfset Solver.WriteSiloOverlandSum` on. This will produce the correct overland flow sums from the domain needed to close the water balance. The files are of the form: `<runname>.out.overlandsum.00001.silo`. "
   ]
  },
  {
   "cell_type": "code",
   "execution_count": 12,
   "metadata": {},
   "outputs": [
    {
     "name": "stdout",
     "output_type": "stream",
     "text": [
      "b''\n",
      "None\n",
      "renaming output pfb files\n"
     ]
    },
    {
     "data": {
      "text/html": [
       "<div>\n",
       "<style scoped>\n",
       "    .dataframe tbody tr th:only-of-type {\n",
       "        vertical-align: middle;\n",
       "    }\n",
       "\n",
       "    .dataframe tbody tr th {\n",
       "        vertical-align: top;\n",
       "    }\n",
       "\n",
       "    .dataframe thead th {\n",
       "        text-align: right;\n",
       "    }\n",
       "</style>\n",
       "<table border=\"1\" class=\"dataframe\">\n",
       "  <thead>\n",
       "    <tr style=\"text-align: right;\">\n",
       "      <th></th>\n",
       "      <th>t</th>\n",
       "      <th>sum_val</th>\n",
       "    </tr>\n",
       "  </thead>\n",
       "  <tbody>\n",
       "    <tr>\n",
       "      <th>0</th>\n",
       "      <td>1</td>\n",
       "      <td>26.562120</td>\n",
       "    </tr>\n",
       "    <tr>\n",
       "      <th>1</th>\n",
       "      <td>2</td>\n",
       "      <td>26.446897</td>\n",
       "    </tr>\n",
       "    <tr>\n",
       "      <th>2</th>\n",
       "      <td>3</td>\n",
       "      <td>26.345665</td>\n",
       "    </tr>\n",
       "    <tr>\n",
       "      <th>3</th>\n",
       "      <td>4</td>\n",
       "      <td>26.239331</td>\n",
       "    </tr>\n",
       "    <tr>\n",
       "      <th>4</th>\n",
       "      <td>5</td>\n",
       "      <td>26.138701</td>\n",
       "    </tr>\n",
       "    <tr>\n",
       "      <th>5</th>\n",
       "      <td>6</td>\n",
       "      <td>26.041038</td>\n",
       "    </tr>\n",
       "    <tr>\n",
       "      <th>6</th>\n",
       "      <td>7</td>\n",
       "      <td>25.948319</td>\n",
       "    </tr>\n",
       "    <tr>\n",
       "      <th>7</th>\n",
       "      <td>8</td>\n",
       "      <td>25.860313</td>\n",
       "    </tr>\n",
       "    <tr>\n",
       "      <th>8</th>\n",
       "      <td>9</td>\n",
       "      <td>25.777960</td>\n",
       "    </tr>\n",
       "    <tr>\n",
       "      <th>9</th>\n",
       "      <td>10</td>\n",
       "      <td>25.701096</td>\n",
       "    </tr>\n",
       "  </tbody>\n",
       "</table>\n",
       "</div>"
      ],
      "text/plain": [
       "    t    sum_val\n",
       "0   1  26.562120\n",
       "1   2  26.446897\n",
       "2   3  26.345665\n",
       "3   4  26.239331\n",
       "4   5  26.138701\n",
       "5   6  26.041038\n",
       "6   7  25.948319\n",
       "7   8  25.860313\n",
       "8   9  25.777960\n",
       "9  10  25.701096"
      ]
     },
     "execution_count": 12,
     "metadata": {},
     "output_type": "execute_result"
    }
   ],
   "source": [
    "silo2pfb(rundir = rundir, \n",
    "         bnam ='slopes_only.out.overlandsum' , start= 1, stop=cur_stop, fw = 1)\n",
    "\n",
    "of = sumoverdomain(rundir = rundir, \n",
    "                   bnam = 'overlandsum',start = 1, stop= cur_stop)\n",
    "of['sum_val'] = of['sum_val']\n",
    "of.head(10)"
   ]
  },
  {
   "cell_type": "markdown",
   "metadata": {},
   "source": [
    "## Surface Storage \n",
    "Surface storage does not need scale factors applied"
   ]
  },
  {
   "cell_type": "code",
   "execution_count": 13,
   "metadata": {},
   "outputs": [
    {
     "name": "stdout",
     "output_type": "stream",
     "text": [
      "b''\n",
      "None\n"
     ]
    },
    {
     "data": {
      "text/html": [
       "<div>\n",
       "<style scoped>\n",
       "    .dataframe tbody tr th:only-of-type {\n",
       "        vertical-align: middle;\n",
       "    }\n",
       "\n",
       "    .dataframe tbody tr th {\n",
       "        vertical-align: top;\n",
       "    }\n",
       "\n",
       "    .dataframe thead th {\n",
       "        text-align: right;\n",
       "    }\n",
       "</style>\n",
       "<table border=\"1\" class=\"dataframe\">\n",
       "  <thead>\n",
       "    <tr style=\"text-align: right;\">\n",
       "      <th></th>\n",
       "      <th>t</th>\n",
       "      <th>sum_val</th>\n",
       "    </tr>\n",
       "  </thead>\n",
       "  <tbody>\n",
       "    <tr>\n",
       "      <th>0</th>\n",
       "      <td>0</td>\n",
       "      <td>63804.898853</td>\n",
       "    </tr>\n",
       "    <tr>\n",
       "      <th>1</th>\n",
       "      <td>1</td>\n",
       "      <td>64117.158826</td>\n",
       "    </tr>\n",
       "    <tr>\n",
       "      <th>2</th>\n",
       "      <td>2</td>\n",
       "      <td>64368.946807</td>\n",
       "    </tr>\n",
       "    <tr>\n",
       "      <th>3</th>\n",
       "      <td>3</td>\n",
       "      <td>64646.414541</td>\n",
       "    </tr>\n",
       "    <tr>\n",
       "      <th>4</th>\n",
       "      <td>4</td>\n",
       "      <td>64825.813307</td>\n",
       "    </tr>\n",
       "    <tr>\n",
       "      <th>5</th>\n",
       "      <td>5</td>\n",
       "      <td>64991.366296</td>\n",
       "    </tr>\n",
       "    <tr>\n",
       "      <th>6</th>\n",
       "      <td>6</td>\n",
       "      <td>65130.295493</td>\n",
       "    </tr>\n",
       "    <tr>\n",
       "      <th>7</th>\n",
       "      <td>7</td>\n",
       "      <td>65259.000867</td>\n",
       "    </tr>\n",
       "    <tr>\n",
       "      <th>8</th>\n",
       "      <td>8</td>\n",
       "      <td>65389.561740</td>\n",
       "    </tr>\n",
       "    <tr>\n",
       "      <th>9</th>\n",
       "      <td>9</td>\n",
       "      <td>65520.148948</td>\n",
       "    </tr>\n",
       "  </tbody>\n",
       "</table>\n",
       "</div>"
      ],
      "text/plain": [
       "   t       sum_val\n",
       "0  0  63804.898853\n",
       "1  1  64117.158826\n",
       "2  2  64368.946807\n",
       "3  3  64646.414541\n",
       "4  4  64825.813307\n",
       "5  5  64991.366296\n",
       "6  6  65130.295493\n",
       "7  7  65259.000867\n",
       "8  8  65389.561740\n",
       "9  9  65520.148948"
      ]
     },
     "execution_count": 13,
     "metadata": {},
     "output_type": "execute_result"
    }
   ],
   "source": [
    "silo2pfb(rundir = rundir, bnam ='surface_storage' , start= 0, stop=cur_stop)\n",
    "s = sumoverdomain(rundir = rundir, bnam = 'surface_storage',start = 0, stop= cur_stop)\n",
    "s.head(10)"
   ]
  },
  {
   "cell_type": "markdown",
   "metadata": {},
   "source": [
    "## Subsurface storage"
   ]
  },
  {
   "cell_type": "code",
   "execution_count": 15,
   "metadata": {},
   "outputs": [
    {
     "name": "stdout",
     "output_type": "stream",
     "text": [
      "b''\n",
      "None\n"
     ]
    },
    {
     "data": {
      "text/html": [
       "<div>\n",
       "<style scoped>\n",
       "    .dataframe tbody tr th:only-of-type {\n",
       "        vertical-align: middle;\n",
       "    }\n",
       "\n",
       "    .dataframe tbody tr th {\n",
       "        vertical-align: top;\n",
       "    }\n",
       "\n",
       "    .dataframe thead th {\n",
       "        text-align: right;\n",
       "    }\n",
       "</style>\n",
       "<table border=\"1\" class=\"dataframe\">\n",
       "  <thead>\n",
       "    <tr style=\"text-align: right;\">\n",
       "      <th></th>\n",
       "      <th>t</th>\n",
       "      <th>sum_val</th>\n",
       "    </tr>\n",
       "  </thead>\n",
       "  <tbody>\n",
       "    <tr>\n",
       "      <th>0</th>\n",
       "      <td>0</td>\n",
       "      <td>3.159146e+06</td>\n",
       "    </tr>\n",
       "    <tr>\n",
       "      <th>1</th>\n",
       "      <td>1</td>\n",
       "      <td>3.159468e+06</td>\n",
       "    </tr>\n",
       "    <tr>\n",
       "      <th>2</th>\n",
       "      <td>2</td>\n",
       "      <td>3.159712e+06</td>\n",
       "    </tr>\n",
       "    <tr>\n",
       "      <th>3</th>\n",
       "      <td>3</td>\n",
       "      <td>3.160044e+06</td>\n",
       "    </tr>\n",
       "    <tr>\n",
       "      <th>4</th>\n",
       "      <td>4</td>\n",
       "      <td>3.160035e+06</td>\n",
       "    </tr>\n",
       "    <tr>\n",
       "      <th>5</th>\n",
       "      <td>5</td>\n",
       "      <td>3.159989e+06</td>\n",
       "    </tr>\n",
       "    <tr>\n",
       "      <th>6</th>\n",
       "      <td>6</td>\n",
       "      <td>3.159853e+06</td>\n",
       "    </tr>\n",
       "    <tr>\n",
       "      <th>7</th>\n",
       "      <td>7</td>\n",
       "      <td>3.159686e+06</td>\n",
       "    </tr>\n",
       "    <tr>\n",
       "      <th>8</th>\n",
       "      <td>8</td>\n",
       "      <td>3.159518e+06</td>\n",
       "    </tr>\n",
       "    <tr>\n",
       "      <th>9</th>\n",
       "      <td>9</td>\n",
       "      <td>3.159350e+06</td>\n",
       "    </tr>\n",
       "  </tbody>\n",
       "</table>\n",
       "</div>"
      ],
      "text/plain": [
       "   t       sum_val\n",
       "0  0  3.159146e+06\n",
       "1  1  3.159468e+06\n",
       "2  2  3.159712e+06\n",
       "3  3  3.160044e+06\n",
       "4  4  3.160035e+06\n",
       "5  5  3.159989e+06\n",
       "6  6  3.159853e+06\n",
       "7  7  3.159686e+06\n",
       "8  8  3.159518e+06\n",
       "9  9  3.159350e+06"
      ]
     },
     "execution_count": 15,
     "metadata": {},
     "output_type": "execute_result"
    }
   ],
   "source": [
    "# convert silos to pfbs\n",
    "silo2pfb(rundir = rundir, bnam ='subsurface_storage' , start= 0, stop=cur_stop)\n",
    "\n",
    "# scale pfbs using factors\n",
    "for i in range(0,cur_stop+1):\n",
    "    infnam = '%s/subsurface_storage.%s.pfb' %(rundir, i)\n",
    "    outfnam = '%s/vdz_subsurface_storage.%s.pfb' %(rundir,i)\n",
    "    \n",
    "    scale_pfb(pfbinfnam = infnam, vdzarr = factors, pfboutfnam = outfnam, \n",
    "         nx = 12, ny = 10, dx = 10, dy = 10, dz = 1)\n",
    "    \n",
    "ss = sumoverdomain(rundir = rundir,\n",
    "                   bnam = 'vdz_subsurface_storage',start = 0, stop= cur_stop)\n",
    "ss.head(10)"
   ]
  },
  {
   "cell_type": "markdown",
   "metadata": {},
   "source": [
    "## Evapotranspiration"
   ]
  },
  {
   "cell_type": "code",
   "execution_count": 17,
   "metadata": {},
   "outputs": [
    {
     "name": "stdout",
     "output_type": "stream",
     "text": [
      "b''\n",
      "None\n",
      "renaming output pfb files\n"
     ]
    },
    {
     "data": {
      "text/html": [
       "<div>\n",
       "<style scoped>\n",
       "    .dataframe tbody tr th:only-of-type {\n",
       "        vertical-align: middle;\n",
       "    }\n",
       "\n",
       "    .dataframe tbody tr th {\n",
       "        vertical-align: top;\n",
       "    }\n",
       "\n",
       "    .dataframe thead th {\n",
       "        text-align: right;\n",
       "    }\n",
       "</style>\n",
       "<table border=\"1\" class=\"dataframe\">\n",
       "  <thead>\n",
       "    <tr style=\"text-align: right;\">\n",
       "      <th></th>\n",
       "      <th>t</th>\n",
       "      <th>sum_val</th>\n",
       "    </tr>\n",
       "  </thead>\n",
       "  <tbody>\n",
       "    <tr>\n",
       "      <th>0</th>\n",
       "      <td>0</td>\n",
       "      <td>660.670360</td>\n",
       "    </tr>\n",
       "    <tr>\n",
       "      <th>1</th>\n",
       "      <td>1</td>\n",
       "      <td>522.178647</td>\n",
       "    </tr>\n",
       "    <tr>\n",
       "      <th>2</th>\n",
       "      <td>2</td>\n",
       "      <td>636.215510</td>\n",
       "    </tr>\n",
       "    <tr>\n",
       "      <th>3</th>\n",
       "      <td>3</td>\n",
       "      <td>196.890156</td>\n",
       "    </tr>\n",
       "    <tr>\n",
       "      <th>4</th>\n",
       "      <td>4</td>\n",
       "      <td>145.339729</td>\n",
       "    </tr>\n",
       "    <tr>\n",
       "      <th>5</th>\n",
       "      <td>5</td>\n",
       "      <td>29.153949</td>\n",
       "    </tr>\n",
       "    <tr>\n",
       "      <th>6</th>\n",
       "      <td>6</td>\n",
       "      <td>-12.524103</td>\n",
       "    </tr>\n",
       "    <tr>\n",
       "      <th>7</th>\n",
       "      <td>7</td>\n",
       "      <td>-11.776546</td>\n",
       "    </tr>\n",
       "    <tr>\n",
       "      <th>8</th>\n",
       "      <td>8</td>\n",
       "      <td>-11.355452</td>\n",
       "    </tr>\n",
       "    <tr>\n",
       "      <th>9</th>\n",
       "      <td>9</td>\n",
       "      <td>-10.976360</td>\n",
       "    </tr>\n",
       "  </tbody>\n",
       "</table>\n",
       "</div>"
      ],
      "text/plain": [
       "   t     sum_val\n",
       "0  0  660.670360\n",
       "1  1  522.178647\n",
       "2  2  636.215510\n",
       "3  3  196.890156\n",
       "4  4  145.339729\n",
       "5  5   29.153949\n",
       "6  6  -12.524103\n",
       "7  7  -11.776546\n",
       "8  8  -11.355452\n",
       "9  9  -10.976360"
      ]
     },
     "execution_count": 17,
     "metadata": {},
     "output_type": "execute_result"
    }
   ],
   "source": [
    "factors = np.array([[2.0],  # <- bottom\n",
    "                    [2.0],\n",
    "                    [2.0],\n",
    "                    [1.0],\n",
    "                    [1.0],\n",
    "                    [1.0],\n",
    "                    [0.25],\n",
    "                    [0.25],\n",
    "                    [0.25],\n",
    "                    [0.25]]) # <- top\n",
    "\n",
    "silo2pfb(rundir = rundir, \n",
    "         bnam ='slopes_only.out.evaptranssum' , start= 1, stop=cur_stop, fw = 1)\n",
    "\n",
    "# scale pfbs using factors\n",
    "for i in range(1,cur_stop):\n",
    "    infnam = '%s/evaptranssum.%s.pfb' %(rundir, i)\n",
    "    outfnam = '%s/vdz_evaptranssum.%s.pfb' %(rundir,i)\n",
    "    \n",
    "    scale_pfb(pfbinfnam = infnam, vdzarr = factors, pfboutfnam = outfnam, \n",
    "         nx = 12, ny = 10, dx = 10, dy = 10, dz = 1)\n",
    "\n",
    "et = sumoverdomain(rundir = rundir, \n",
    "                   bnam = 'vdz_evaptranssum',start = 1, stop= cur_stop)\n",
    "et['sum_val'] = et['sum_val']\n",
    "et['t'] = et['t'] - 1\n",
    "et.head(10)"
   ]
  },
  {
   "cell_type": "code",
   "execution_count": 18,
   "metadata": {},
   "outputs": [
    {
     "data": {
      "text/html": [
       "<div>\n",
       "<style scoped>\n",
       "    .dataframe tbody tr th:only-of-type {\n",
       "        vertical-align: middle;\n",
       "    }\n",
       "\n",
       "    .dataframe tbody tr th {\n",
       "        vertical-align: top;\n",
       "    }\n",
       "\n",
       "    .dataframe thead th {\n",
       "        text-align: right;\n",
       "    }\n",
       "</style>\n",
       "<table border=\"1\" class=\"dataframe\">\n",
       "  <thead>\n",
       "    <tr style=\"text-align: right;\">\n",
       "      <th></th>\n",
       "      <th>t</th>\n",
       "      <th>sum_val</th>\n",
       "    </tr>\n",
       "  </thead>\n",
       "  <tbody>\n",
       "    <tr>\n",
       "      <th>87604</th>\n",
       "      <td>87604</td>\n",
       "      <td>74.791131</td>\n",
       "    </tr>\n",
       "    <tr>\n",
       "      <th>87605</th>\n",
       "      <td>87605</td>\n",
       "      <td>75.046611</td>\n",
       "    </tr>\n",
       "    <tr>\n",
       "      <th>87606</th>\n",
       "      <td>87606</td>\n",
       "      <td>75.315060</td>\n",
       "    </tr>\n",
       "    <tr>\n",
       "      <th>87607</th>\n",
       "      <td>87607</td>\n",
       "      <td>75.597147</td>\n",
       "    </tr>\n",
       "    <tr>\n",
       "      <th>87608</th>\n",
       "      <td>87608</td>\n",
       "      <td>75.893449</td>\n",
       "    </tr>\n",
       "  </tbody>\n",
       "</table>\n",
       "</div>"
      ],
      "text/plain": [
       "           t    sum_val\n",
       "87604  87604  74.791131\n",
       "87605  87605  75.046611\n",
       "87606  87606  75.315060\n",
       "87607  87607  75.597147\n",
       "87608  87608  75.893449"
      ]
     },
     "execution_count": 18,
     "metadata": {},
     "output_type": "execute_result"
    }
   ],
   "source": [
    "et.tail()"
   ]
  },
  {
   "cell_type": "markdown",
   "metadata": {},
   "source": [
    "# Water balance\n",
    "\n",
    "**NOTE** This will not balance if the run was executed with overland flow keys on! Water will begin to be \"lost\" from the domain when overland flow occurs."
   ]
  },
  {
   "cell_type": "code",
   "execution_count": 19,
   "metadata": {
    "scrolled": true
   },
   "outputs": [
    {
     "data": {
      "text/html": [
       "<div>\n",
       "<style scoped>\n",
       "    .dataframe tbody tr th:only-of-type {\n",
       "        vertical-align: middle;\n",
       "    }\n",
       "\n",
       "    .dataframe tbody tr th {\n",
       "        vertical-align: top;\n",
       "    }\n",
       "\n",
       "    .dataframe thead th {\n",
       "        text-align: right;\n",
       "    }\n",
       "</style>\n",
       "<table border=\"1\" class=\"dataframe\">\n",
       "  <thead>\n",
       "    <tr style=\"text-align: right;\">\n",
       "      <th></th>\n",
       "      <th>t</th>\n",
       "      <th>vdz_subsurfstor</th>\n",
       "      <th>overland_flow</th>\n",
       "      <th>surf_stor</th>\n",
       "      <th>vdz_et</th>\n",
       "      <th>dom_tot</th>\n",
       "      <th>bndy_flux</th>\n",
       "      <th>exp_wb</th>\n",
       "      <th>dom_tot_chg</th>\n",
       "      <th>diff</th>\n",
       "      <th>pc_diff</th>\n",
       "      <th>prcp_v</th>\n",
       "    </tr>\n",
       "  </thead>\n",
       "  <tbody>\n",
       "    <tr>\n",
       "      <th>0</th>\n",
       "      <td>0</td>\n",
       "      <td>3.159146e+06</td>\n",
       "      <td>-26.562120</td>\n",
       "      <td>63804.898853</td>\n",
       "      <td>660.670360</td>\n",
       "      <td>3.222951e+06</td>\n",
       "      <td>634.108240</td>\n",
       "      <td>3.224219e+06</td>\n",
       "      <td>634.108241</td>\n",
       "      <td>5.307536e-07</td>\n",
       "      <td>1.646146e-11</td>\n",
       "      <td>914.4144</td>\n",
       "    </tr>\n",
       "    <tr>\n",
       "      <th>1</th>\n",
       "      <td>1</td>\n",
       "      <td>3.159468e+06</td>\n",
       "      <td>-26.446897</td>\n",
       "      <td>64117.158826</td>\n",
       "      <td>522.178647</td>\n",
       "      <td>3.223585e+06</td>\n",
       "      <td>495.731750</td>\n",
       "      <td>3.224576e+06</td>\n",
       "      <td>495.731749</td>\n",
       "      <td>-2.181704e-07</td>\n",
       "      <td>6.765863e-12</td>\n",
       "      <td>717.5952</td>\n",
       "    </tr>\n",
       "    <tr>\n",
       "      <th>2</th>\n",
       "      <td>2</td>\n",
       "      <td>3.159712e+06</td>\n",
       "      <td>-26.345665</td>\n",
       "      <td>64368.946807</td>\n",
       "      <td>636.215510</td>\n",
       "      <td>3.224081e+06</td>\n",
       "      <td>609.869845</td>\n",
       "      <td>3.225300e+06</td>\n",
       "      <td>609.869852</td>\n",
       "      <td>6.360345e-06</td>\n",
       "      <td>1.972016e-10</td>\n",
       "      <td>862.7904</td>\n",
       "    </tr>\n",
       "    <tr>\n",
       "      <th>3</th>\n",
       "      <td>3</td>\n",
       "      <td>3.160044e+06</td>\n",
       "      <td>-26.239331</td>\n",
       "      <td>64646.414541</td>\n",
       "      <td>196.890156</td>\n",
       "      <td>3.224691e+06</td>\n",
       "      <td>170.650825</td>\n",
       "      <td>3.225032e+06</td>\n",
       "      <td>170.650847</td>\n",
       "      <td>2.187403e-05</td>\n",
       "      <td>6.782577e-10</td>\n",
       "      <td>281.5344</td>\n",
       "    </tr>\n",
       "    <tr>\n",
       "      <th>4</th>\n",
       "      <td>4</td>\n",
       "      <td>3.160035e+06</td>\n",
       "      <td>-26.138701</td>\n",
       "      <td>64825.813307</td>\n",
       "      <td>145.339729</td>\n",
       "      <td>3.224861e+06</td>\n",
       "      <td>119.201029</td>\n",
       "      <td>3.225100e+06</td>\n",
       "      <td>119.201035</td>\n",
       "      <td>5.704544e-06</td>\n",
       "      <td>1.768796e-10</td>\n",
       "      <td>210.9456</td>\n",
       "    </tr>\n",
       "    <tr>\n",
       "      <th>5</th>\n",
       "      <td>5</td>\n",
       "      <td>3.159989e+06</td>\n",
       "      <td>-26.041038</td>\n",
       "      <td>64991.366296</td>\n",
       "      <td>29.153949</td>\n",
       "      <td>3.224980e+06</td>\n",
       "      <td>3.112911</td>\n",
       "      <td>3.224987e+06</td>\n",
       "      <td>3.112905</td>\n",
       "      <td>-5.146995e-06</td>\n",
       "      <td>1.595974e-10</td>\n",
       "      <td>56.4192</td>\n",
       "    </tr>\n",
       "    <tr>\n",
       "      <th>6</th>\n",
       "      <td>6</td>\n",
       "      <td>3.159853e+06</td>\n",
       "      <td>-25.948319</td>\n",
       "      <td>65130.295493</td>\n",
       "      <td>-12.524103</td>\n",
       "      <td>3.224984e+06</td>\n",
       "      <td>-38.472422</td>\n",
       "      <td>3.224907e+06</td>\n",
       "      <td>-38.472420</td>\n",
       "      <td>1.587532e-06</td>\n",
       "      <td>4.922722e-11</td>\n",
       "      <td>0.0000</td>\n",
       "    </tr>\n",
       "    <tr>\n",
       "      <th>7</th>\n",
       "      <td>7</td>\n",
       "      <td>3.159686e+06</td>\n",
       "      <td>-25.860313</td>\n",
       "      <td>65259.000867</td>\n",
       "      <td>-11.776546</td>\n",
       "      <td>3.224945e+06</td>\n",
       "      <td>-37.636859</td>\n",
       "      <td>3.224870e+06</td>\n",
       "      <td>-37.636870</td>\n",
       "      <td>-1.144680e-05</td>\n",
       "      <td>3.549540e-10</td>\n",
       "      <td>0.0000</td>\n",
       "    </tr>\n",
       "    <tr>\n",
       "      <th>8</th>\n",
       "      <td>8</td>\n",
       "      <td>3.159518e+06</td>\n",
       "      <td>-25.777960</td>\n",
       "      <td>65389.561740</td>\n",
       "      <td>-11.355452</td>\n",
       "      <td>3.224907e+06</td>\n",
       "      <td>-37.133413</td>\n",
       "      <td>3.224833e+06</td>\n",
       "      <td>-37.133413</td>\n",
       "      <td>-4.111488e-07</td>\n",
       "      <td>1.274946e-11</td>\n",
       "      <td>0.0000</td>\n",
       "    </tr>\n",
       "    <tr>\n",
       "      <th>9</th>\n",
       "      <td>9</td>\n",
       "      <td>3.159350e+06</td>\n",
       "      <td>-25.701096</td>\n",
       "      <td>65520.148948</td>\n",
       "      <td>-10.976360</td>\n",
       "      <td>3.224870e+06</td>\n",
       "      <td>-36.677456</td>\n",
       "      <td>3.224797e+06</td>\n",
       "      <td>-36.677463</td>\n",
       "      <td>-6.715266e-06</td>\n",
       "      <td>2.082384e-10</td>\n",
       "      <td>0.0000</td>\n",
       "    </tr>\n",
       "    <tr>\n",
       "      <th>10</th>\n",
       "      <td>10</td>\n",
       "      <td>3.159183e+06</td>\n",
       "      <td>-25.629511</td>\n",
       "      <td>65650.812701</td>\n",
       "      <td>-10.537400</td>\n",
       "      <td>3.224834e+06</td>\n",
       "      <td>-36.166910</td>\n",
       "      <td>3.224761e+06</td>\n",
       "      <td>-36.166865</td>\n",
       "      <td>4.588562e-05</td>\n",
       "      <td>1.422915e-09</td>\n",
       "      <td>0.0000</td>\n",
       "    </tr>\n",
       "    <tr>\n",
       "      <th>11</th>\n",
       "      <td>11</td>\n",
       "      <td>3.159016e+06</td>\n",
       "      <td>-25.562882</td>\n",
       "      <td>65781.619470</td>\n",
       "      <td>-10.940705</td>\n",
       "      <td>3.224797e+06</td>\n",
       "      <td>-36.503587</td>\n",
       "      <td>3.224724e+06</td>\n",
       "      <td>-36.503587</td>\n",
       "      <td>1.260583e-07</td>\n",
       "      <td>3.909119e-12</td>\n",
       "      <td>0.0000</td>\n",
       "    </tr>\n",
       "    <tr>\n",
       "      <th>12</th>\n",
       "      <td>12</td>\n",
       "      <td>3.158849e+06</td>\n",
       "      <td>-25.500652</td>\n",
       "      <td>65912.098051</td>\n",
       "      <td>-12.424686</td>\n",
       "      <td>3.224761e+06</td>\n",
       "      <td>-37.925338</td>\n",
       "      <td>3.224685e+06</td>\n",
       "      <td>-37.925199</td>\n",
       "      <td>1.397666e-04</td>\n",
       "      <td>4.334272e-09</td>\n",
       "      <td>0.0000</td>\n",
       "    </tr>\n",
       "    <tr>\n",
       "      <th>13</th>\n",
       "      <td>13</td>\n",
       "      <td>3.158679e+06</td>\n",
       "      <td>-25.445616</td>\n",
       "      <td>66043.563147</td>\n",
       "      <td>47.496907</td>\n",
       "      <td>3.224723e+06</td>\n",
       "      <td>22.051291</td>\n",
       "      <td>3.224767e+06</td>\n",
       "      <td>22.051293</td>\n",
       "      <td>2.955082e-06</td>\n",
       "      <td>9.163707e-11</td>\n",
       "      <td>79.4448</td>\n",
       "    </tr>\n",
       "    <tr>\n",
       "      <th>14</th>\n",
       "      <td>14</td>\n",
       "      <td>3.158558e+06</td>\n",
       "      <td>-25.392343</td>\n",
       "      <td>66187.250518</td>\n",
       "      <td>-15.107369</td>\n",
       "      <td>3.224745e+06</td>\n",
       "      <td>-40.499712</td>\n",
       "      <td>3.224664e+06</td>\n",
       "      <td>-40.499711</td>\n",
       "      <td>4.475473e-07</td>\n",
       "      <td>1.387888e-11</td>\n",
       "      <td>0.0000</td>\n",
       "    </tr>\n",
       "    <tr>\n",
       "      <th>15</th>\n",
       "      <td>15</td>\n",
       "      <td>3.158387e+06</td>\n",
       "      <td>-25.344769</td>\n",
       "      <td>66317.906411</td>\n",
       "      <td>22.974961</td>\n",
       "      <td>3.224705e+06</td>\n",
       "      <td>-2.369808</td>\n",
       "      <td>3.224700e+06</td>\n",
       "      <td>-2.369808</td>\n",
       "      <td>-4.569534e-07</td>\n",
       "      <td>1.417042e-11</td>\n",
       "      <td>55.6848</td>\n",
       "    </tr>\n",
       "    <tr>\n",
       "      <th>16</th>\n",
       "      <td>16</td>\n",
       "      <td>3.158247e+06</td>\n",
       "      <td>-25.299520</td>\n",
       "      <td>66454.907317</td>\n",
       "      <td>-15.997081</td>\n",
       "      <td>3.224702e+06</td>\n",
       "      <td>-41.296601</td>\n",
       "      <td>3.224620e+06</td>\n",
       "      <td>-41.296586</td>\n",
       "      <td>1.585788e-05</td>\n",
       "      <td>4.917752e-10</td>\n",
       "      <td>0.0000</td>\n",
       "    </tr>\n",
       "    <tr>\n",
       "      <th>17</th>\n",
       "      <td>17</td>\n",
       "      <td>3.158077e+06</td>\n",
       "      <td>-25.257926</td>\n",
       "      <td>66584.342821</td>\n",
       "      <td>-23.497395</td>\n",
       "      <td>3.224661e+06</td>\n",
       "      <td>-48.755321</td>\n",
       "      <td>3.224563e+06</td>\n",
       "      <td>-48.755308</td>\n",
       "      <td>1.303989e-05</td>\n",
       "      <td>4.043923e-10</td>\n",
       "      <td>0.0000</td>\n",
       "    </tr>\n",
       "    <tr>\n",
       "      <th>18</th>\n",
       "      <td>18</td>\n",
       "      <td>3.157901e+06</td>\n",
       "      <td>-25.220222</td>\n",
       "      <td>66710.867136</td>\n",
       "      <td>-23.213045</td>\n",
       "      <td>3.224612e+06</td>\n",
       "      <td>-48.433267</td>\n",
       "      <td>3.224515e+06</td>\n",
       "      <td>-48.433209</td>\n",
       "      <td>5.789348e-05</td>\n",
       "      <td>1.795417e-09</td>\n",
       "      <td>0.0000</td>\n",
       "    </tr>\n",
       "    <tr>\n",
       "      <th>19</th>\n",
       "      <td>19</td>\n",
       "      <td>3.157726e+06</td>\n",
       "      <td>-25.186242</td>\n",
       "      <td>66837.314422</td>\n",
       "      <td>-22.537724</td>\n",
       "      <td>3.224564e+06</td>\n",
       "      <td>-47.723966</td>\n",
       "      <td>3.224468e+06</td>\n",
       "      <td>-47.723965</td>\n",
       "      <td>1.399708e-06</td>\n",
       "      <td>4.340895e-11</td>\n",
       "      <td>0.0000</td>\n",
       "    </tr>\n",
       "  </tbody>\n",
       "</table>\n",
       "</div>"
      ],
      "text/plain": [
       "     t  vdz_subsurfstor  overland_flow     surf_stor      vdz_et  \\\n",
       "0    0     3.159146e+06     -26.562120  63804.898853  660.670360   \n",
       "1    1     3.159468e+06     -26.446897  64117.158826  522.178647   \n",
       "2    2     3.159712e+06     -26.345665  64368.946807  636.215510   \n",
       "3    3     3.160044e+06     -26.239331  64646.414541  196.890156   \n",
       "4    4     3.160035e+06     -26.138701  64825.813307  145.339729   \n",
       "5    5     3.159989e+06     -26.041038  64991.366296   29.153949   \n",
       "6    6     3.159853e+06     -25.948319  65130.295493  -12.524103   \n",
       "7    7     3.159686e+06     -25.860313  65259.000867  -11.776546   \n",
       "8    8     3.159518e+06     -25.777960  65389.561740  -11.355452   \n",
       "9    9     3.159350e+06     -25.701096  65520.148948  -10.976360   \n",
       "10  10     3.159183e+06     -25.629511  65650.812701  -10.537400   \n",
       "11  11     3.159016e+06     -25.562882  65781.619470  -10.940705   \n",
       "12  12     3.158849e+06     -25.500652  65912.098051  -12.424686   \n",
       "13  13     3.158679e+06     -25.445616  66043.563147   47.496907   \n",
       "14  14     3.158558e+06     -25.392343  66187.250518  -15.107369   \n",
       "15  15     3.158387e+06     -25.344769  66317.906411   22.974961   \n",
       "16  16     3.158247e+06     -25.299520  66454.907317  -15.997081   \n",
       "17  17     3.158077e+06     -25.257926  66584.342821  -23.497395   \n",
       "18  18     3.157901e+06     -25.220222  66710.867136  -23.213045   \n",
       "19  19     3.157726e+06     -25.186242  66837.314422  -22.537724   \n",
       "\n",
       "         dom_tot   bndy_flux        exp_wb  dom_tot_chg          diff  \\\n",
       "0   3.222951e+06  634.108240  3.224219e+06   634.108241  5.307536e-07   \n",
       "1   3.223585e+06  495.731750  3.224576e+06   495.731749 -2.181704e-07   \n",
       "2   3.224081e+06  609.869845  3.225300e+06   609.869852  6.360345e-06   \n",
       "3   3.224691e+06  170.650825  3.225032e+06   170.650847  2.187403e-05   \n",
       "4   3.224861e+06  119.201029  3.225100e+06   119.201035  5.704544e-06   \n",
       "5   3.224980e+06    3.112911  3.224987e+06     3.112905 -5.146995e-06   \n",
       "6   3.224984e+06  -38.472422  3.224907e+06   -38.472420  1.587532e-06   \n",
       "7   3.224945e+06  -37.636859  3.224870e+06   -37.636870 -1.144680e-05   \n",
       "8   3.224907e+06  -37.133413  3.224833e+06   -37.133413 -4.111488e-07   \n",
       "9   3.224870e+06  -36.677456  3.224797e+06   -36.677463 -6.715266e-06   \n",
       "10  3.224834e+06  -36.166910  3.224761e+06   -36.166865  4.588562e-05   \n",
       "11  3.224797e+06  -36.503587  3.224724e+06   -36.503587  1.260583e-07   \n",
       "12  3.224761e+06  -37.925338  3.224685e+06   -37.925199  1.397666e-04   \n",
       "13  3.224723e+06   22.051291  3.224767e+06    22.051293  2.955082e-06   \n",
       "14  3.224745e+06  -40.499712  3.224664e+06   -40.499711  4.475473e-07   \n",
       "15  3.224705e+06   -2.369808  3.224700e+06    -2.369808 -4.569534e-07   \n",
       "16  3.224702e+06  -41.296601  3.224620e+06   -41.296586  1.585788e-05   \n",
       "17  3.224661e+06  -48.755321  3.224563e+06   -48.755308  1.303989e-05   \n",
       "18  3.224612e+06  -48.433267  3.224515e+06   -48.433209  5.789348e-05   \n",
       "19  3.224564e+06  -47.723966  3.224468e+06   -47.723965  1.399708e-06   \n",
       "\n",
       "         pc_diff    prcp_v  \n",
       "0   1.646146e-11  914.4144  \n",
       "1   6.765863e-12  717.5952  \n",
       "2   1.972016e-10  862.7904  \n",
       "3   6.782577e-10  281.5344  \n",
       "4   1.768796e-10  210.9456  \n",
       "5   1.595974e-10   56.4192  \n",
       "6   4.922722e-11    0.0000  \n",
       "7   3.549540e-10    0.0000  \n",
       "8   1.274946e-11    0.0000  \n",
       "9   2.082384e-10    0.0000  \n",
       "10  1.422915e-09    0.0000  \n",
       "11  3.909119e-12    0.0000  \n",
       "12  4.334272e-09    0.0000  \n",
       "13  9.163707e-11   79.4448  \n",
       "14  1.387888e-11    0.0000  \n",
       "15  1.417042e-11   55.6848  \n",
       "16  4.917752e-10    0.0000  \n",
       "17  4.043923e-10    0.0000  \n",
       "18  1.795417e-09    0.0000  \n",
       "19  4.340895e-11    0.0000  "
      ]
     },
     "execution_count": 19,
     "metadata": {},
     "output_type": "execute_result"
    }
   ],
   "source": [
    "wb = ss.merge(of, on = 't', how = 'left').merge(s, on = 't', how = 'left').merge(et, on = 't', how = 'left')\n",
    "wb.columns = ['t', 'vdz_subsurfstor', 'overland_flow', 'surf_stor', 'vdz_et']\n",
    "wb['overland_flow'] = (- wb['overland_flow'])  \n",
    "wb['overland_flow'] = wb['overland_flow'].shift(-1)  \n",
    "wb['dom_tot'] = wb['vdz_subsurfstor'] +  wb['surf_stor'] \n",
    "wb['bndy_flux'] = wb['vdz_et'] + wb['overland_flow']                \n",
    "wb['exp_wb'] = wb['dom_tot'].shift(-1) + wb['bndy_flux']\n",
    "wb['dom_tot_chg'] = wb['dom_tot'].diff()\n",
    "wb['dom_tot_chg'] = wb['dom_tot_chg'].shift(-1)\n",
    "wb['diff'] = wb['dom_tot_chg'] - wb['bndy_flux']\n",
    "wb['pc_diff'] = abs(wb['diff'])/wb['exp_wb']*100\n",
    "wb['prcp_v'] = prcp_v[:cur_stop]\n",
    "\n",
    "wb.head(20)"
   ]
  },
  {
   "cell_type": "code",
   "execution_count": 20,
   "metadata": {
    "scrolled": true
   },
   "outputs": [
    {
     "data": {
      "text/plain": [
       "(0, 12)"
      ]
     },
     "execution_count": 20,
     "metadata": {},
     "output_type": "execute_result"
    }
   ],
   "source": [
    "wb[abs(wb['pc_diff']) > 0.0005].shape  # this should have zero rows if the water balance is closing"
   ]
  },
  {
   "cell_type": "code",
   "execution_count": 21,
   "metadata": {},
   "outputs": [
    {
     "data": {
      "text/plain": [
       "9.354597284594439e-08"
      ]
     },
     "execution_count": 21,
     "metadata": {},
     "output_type": "execute_result"
    }
   ],
   "source": [
    "# check what the pct differences are\n",
    "max(wb.pc_diff.dropna())"
   ]
  },
  {
   "cell_type": "code",
   "execution_count": 22,
   "metadata": {
    "scrolled": true
   },
   "outputs": [
    {
     "data": {
      "text/plain": [
       "<matplotlib.axes._subplots.AxesSubplot at 0x7fb6f577db38>"
      ]
     },
     "execution_count": 22,
     "metadata": {},
     "output_type": "execute_result"
    },
    {
     "data": {
      "image/png": "[encoded data removed]",
      "text/plain": [
       "<Figure size 432x288 with 1 Axes>"
      ]
     },
     "metadata": {
      "needs_background": "light"
     },
     "output_type": "display_data"
    }
   ],
   "source": [
    "wb['vdz_subsurfstor'].plot.line()"
   ]
  },
  {
   "cell_type": "code",
   "execution_count": 32,
   "metadata": {},
   "outputs": [
    {
     "data": {
      "text/plain": [
       "0             NaN\n",
       "8610    -0.085372\n",
       "17220   -0.017244\n",
       "25830   -0.003876\n",
       "34440   -0.003719\n",
       "43050   -0.011409\n",
       "51660   -0.003519\n",
       "60270    0.004188\n",
       "68880   -0.007755\n",
       "77490    0.004721\n",
       "86100   -0.001602\n",
       "Name: vdz_subsurfstor, dtype: float64"
      ]
     },
     "execution_count": 32,
     "metadata": {},
     "output_type": "execute_result"
    }
   ],
   "source": [
    "wb['vdz_subsurfstor'][np.multiply(8610, [0,1,2,3,4,5,6,7,8,9,10])].pct_change()"
   ]
  },
  {
   "cell_type": "code",
   "execution_count": 23,
   "metadata": {
    "scrolled": true
   },
   "outputs": [
    {
     "data": {
      "text/plain": [
       "<matplotlib.axes._subplots.AxesSubplot at 0x7fb705350128>"
      ]
     },
     "execution_count": 23,
     "metadata": {},
     "output_type": "execute_result"
    },
    {
     "data": {
      "image/png": "[encoded data removed]",
      "text/plain": [
       "<Figure size 432x288 with 1 Axes>"
      ]
     },
     "metadata": {
      "needs_background": "light"
     },
     "output_type": "display_data"
    }
   ],
   "source": [
    "wb['surf_stor'].plot.line()"
   ]
  },
  {
   "cell_type": "code",
   "execution_count": 33,
   "metadata": {},
   "outputs": [
    {
     "data": {
      "text/plain": [
       "0             NaN\n",
       "8610     0.701234\n",
       "17220   -0.089283\n",
       "25830   -0.011431\n",
       "34440   -0.009484\n",
       "43050   -0.047938\n",
       "51660   -0.018130\n",
       "60270    0.020155\n",
       "68880   -0.034881\n",
       "77490    0.022801\n",
       "86100   -0.007084\n",
       "Name: surf_stor, dtype: float64"
      ]
     },
     "execution_count": 33,
     "metadata": {},
     "output_type": "execute_result"
    }
   ],
   "source": [
    "wb['surf_stor'][np.multiply(8610, [0,1,2,3,4,5,6,7,8,9,10])].pct_change()"
   ]
  },
  {
   "cell_type": "code",
   "execution_count": 24,
   "metadata": {},
   "outputs": [
    {
     "data": {
      "text/plain": [
       "<matplotlib.axes._subplots.AxesSubplot at 0x7fb6f553aac8>"
      ]
     },
     "execution_count": 24,
     "metadata": {},
     "output_type": "execute_result"
    },
    {
     "data": {
      "image/png": "[encoded data removed]",
      "text/plain": [
       "<Figure size 432x288 with 1 Axes>"
      ]
     },
     "metadata": {
      "needs_background": "light"
     },
     "output_type": "display_data"
    }
   ],
   "source": [
    "# boundary fluxes\n",
    "wb[['vdz_et', 'overland_flow']].plot.line()"
   ]
  },
  {
   "cell_type": "code",
   "execution_count": 25,
   "metadata": {},
   "outputs": [
    {
     "data": {
      "text/plain": [
       "<matplotlib.axes._subplots.AxesSubplot at 0x7fb6f567d9e8>"
      ]
     },
     "execution_count": 25,
     "metadata": {},
     "output_type": "execute_result"
    },
    {
     "data": {
      "image/png": "[encoded data removed]",
      "text/plain": [
       "<Figure size 432x288 with 1 Axes>"
      ]
     },
     "metadata": {
      "needs_background": "light"
     },
     "output_type": "display_data"
    }
   ],
   "source": [
    "wb['overland_flow'].plot()"
   ]
  },
  {
   "cell_type": "code",
   "execution_count": 26,
   "metadata": {},
   "outputs": [
    {
     "data": {
      "text/plain": [
       "count    87610.000000\n",
       "mean       -77.752181\n",
       "std         22.667518\n",
       "min       -689.100031\n",
       "25%        -78.459488\n",
       "50%        -74.637859\n",
       "75%        -70.970173\n",
       "max        -25.026235\n",
       "Name: overland_flow, dtype: float64"
      ]
     },
     "execution_count": 26,
     "metadata": {},
     "output_type": "execute_result"
    }
   ],
   "source": [
    "wb['overland_flow'].describe()"
   ]
  },
  {
   "cell_type": "code",
   "execution_count": 27,
   "metadata": {},
   "outputs": [
    {
     "data": {
      "text/plain": [
       "-74.63785930061778"
      ]
     },
     "execution_count": 27,
     "metadata": {},
     "output_type": "execute_result"
    }
   ],
   "source": [
    "wb['overland_flow'].median()"
   ]
  },
  {
   "cell_type": "code",
   "execution_count": 28,
   "metadata": {},
   "outputs": [],
   "source": [
    "# save this water balance to file\n",
    "wb.to_csv('het2_10yr.csv')"
   ]
  }
 ],
 "metadata": {
  "kernelspec": {
   "display_name": "Python 3",
   "language": "python",
   "name": "python3"
  },
  "language_info": {
   "codemirror_mode": {
    "name": "ipython",
    "version": 3
   },
   "file_extension": ".py",
   "mimetype": "text/x-python",
   "name": "python",
   "nbconvert_exporter": "python",
   "pygments_lexer": "ipython3",
   "version": "3.7.1"
  }
 },
 "nbformat": 4,
 "nbformat_minor": 2
}
